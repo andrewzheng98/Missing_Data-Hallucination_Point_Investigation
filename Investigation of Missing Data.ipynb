{
 "cells": [
  {
   "cell_type": "markdown",
   "metadata": {},
   "source": [
    "# Investigation of Missing Data\n",
    "\n",
    "The aim of this investigation is to quantify the effects of missing data. \n",
    "\n",
    "1. Begin with a base data set.\n",
    "2. Separate data with train and test\n",
    "3. Use a simple ML algorithm to predict the churn with full training (Baseline)\n",
    "4. Simulate missing data (NANs)\n",
    "5. Perform Deletion or Imputation on training data \n",
    "6. Perform same ML algorithm with distorted data to predict the churn\n",
    "7. Cross validate this method for statistically significant results"
   ]
  },
  {
   "cell_type": "markdown",
   "metadata": {},
   "source": [
    "Import Packages"
   ]
  },
  {
   "cell_type": "code",
   "execution_count": 1,
   "metadata": {},
   "outputs": [],
   "source": [
    "from sklearn.datasets import fetch_california_housing\n",
    "import pandas as pd\n",
    "import numpy as np"
   ]
  },
  {
   "cell_type": "markdown",
   "metadata": {},
   "source": [
    "## Import Data\n",
    "\n",
    "Importing data from California House Prices from sklearn.\n",
    "\n",
    "This is a numerical data set for Regression analysis. \n",
    "\n",
    "The data has a range of important and unimportant data to modify."
   ]
  },
  {
   "cell_type": "code",
   "execution_count": 426,
   "metadata": {},
   "outputs": [
    {
     "name": "stdout",
     "output_type": "stream",
     "text": [
      "Features: ['MedInc', 'HouseAge', 'AveRooms', 'AveBedrms', 'Population', 'AveOccup', 'Latitude', 'Longitude', 'MedHouseValue']\n",
      "Total data rows: 20640\n"
     ]
    }
   ],
   "source": [
    "# Import Test Data\n",
    "\n",
    "df = pd.read_excel('fetch_california_housing.xlsx')\n",
    "df.rename(columns={'target': 'MedHouseValue'}, inplace=True)\n",
    "print('Features:', list(df.columns))\n",
    "print(f\"Total data rows: {len(df)}\")"
   ]
  },
  {
   "cell_type": "code",
   "execution_count": 427,
   "metadata": {},
   "outputs": [],
   "source": [
    "target = 'MedHouseValue'\n",
    "y = df[target]\n",
    "X = df.drop(columns = [target])"
   ]
  },
  {
   "cell_type": "markdown",
   "metadata": {},
   "source": [
    "We will use KFold methodology because we want to use all our data, breaking them into train"
   ]
  },
  {
   "cell_type": "code",
   "execution_count": 490,
   "metadata": {},
   "outputs": [],
   "source": [
    "from sklearn.model_selection import KFold\n",
    "\n",
    "folds = 5\n",
    "\n",
    "kf = KFold(n_splits=folds, shuffle=True, random_state=40)\n",
    "\n",
    "for train_idx, test_idx in kf.split(X):\n",
    "    X_train, X_test = X.iloc[train_idx], X.iloc[test_idx]\n",
    "    y_train, y_test = y.iloc[train_idx], y.iloc[test_idx]\n"
   ]
  },
  {
   "cell_type": "markdown",
   "metadata": {},
   "source": [
    "Right now the data is just in train_test_split form, however, we will loop through them later to get a cross validated model.\n",
    "\n",
    "Set up the basic Linear Regression Model, this will be used as a base reference. \n",
    "\n",
    "The model can be changed in the future."
   ]
  },
  {
   "cell_type": "code",
   "execution_count": 491,
   "metadata": {},
   "outputs": [
    {
     "name": "stdout",
     "output_type": "stream",
     "text": [
      "Mean Squared Error Baseline: 0.50234\n"
     ]
    }
   ],
   "source": [
    "from sklearn.linear_model import LinearRegression\n",
    "from sklearn.metrics import make_scorer, mean_squared_error\n",
    "\n",
    "model = LinearRegression()\n",
    "\n",
    "model.fit(X_train, y_train)\n",
    "\n",
    "y_pred = model.predict(X_test)\n",
    "\n",
    "mse_base = mean_squared_error(y_test, y_pred)\n",
    "print(f\"Mean Squared Error Baseline: {mse:.5f}\")"
   ]
  },
  {
   "cell_type": "markdown",
   "metadata": {},
   "source": [
    "### Theory: Missing data Types\n",
    "\n",
    "MCAR - Missing Competely at Random\n",
    "- no relationship between missing data\n",
    "- i.e Sensor randomly fails readings, does not bias depending on data \n",
    "- Simplest and most general case (no bias from imputation or deletion)\n",
    "\n",
    "MAR - Missing at Random \n",
    "- Missingness is related to other observed variables, but not the missing value itself.\n",
    "- i.e Suppose income is more likely to be missing for younger people, but among people of the same age, missingness is random.\n",
    "- If we model the relationship well (e.g. using age), imputation can be accurate.\n",
    "- Listwise deletion can introduce bias if the data distribution shifts.\n",
    "\n",
    "MNAR — Missing Not at Random\n",
    "- Missingness depends on the value that is missing itself.\n",
    "- i.e People with higher income are less likely to report their income.\n",
    "- Hardest to deal with — even advanced imputations may introduce bias.\n",
    "- Sometimes requires domain knowledge or modeling missingness explicitly.\n",
    "\n",
    "In this analysis, MCAR will be investigated.\n",
    "\n",
    "Artificially implement NANs data. Remove X percentage of data from each column (MCAR)"
   ]
  },
  {
   "cell_type": "code",
   "execution_count": 442,
   "metadata": {},
   "outputs": [],
   "source": [
    "def unclean_X_train(X_train, missing_percentage = 0.2, seed = None):\n",
    "    X_copy = X_train.copy()\n",
    "    rng = np.random.default_rng(seed)\n",
    "    for col in X_copy.columns:\n",
    "        num_missing = int(len(X_copy) * missing_percentage)\n",
    "        missing_indices = rng.choice(X_copy.index, size=num_missing, replace=False)\n",
    "        X_copy.loc[missing_indices, col] = np.nan\n",
    "    return X_copy\n",
    "\n",
    "mp = 0.2\n",
    "uc_X_train = unclean_X_train(X_train, missing_percentage= mp)\n"
   ]
  },
  {
   "cell_type": "markdown",
   "metadata": {},
   "source": [
    "## Deletion\n",
    "\n",
    "Now we investigate the effects of removing all the rows with at least 1 missing data value"
   ]
  },
  {
   "cell_type": "code",
   "execution_count": 499,
   "metadata": {},
   "outputs": [
    {
     "name": "stdout",
     "output_type": "stream",
     "text": [
      "50.0% missing values from 8 column, ~0.3% of data remain\n",
      "Mean Squared Error Baseline: 1.71992\n"
     ]
    }
   ],
   "source": [
    "def deletion(df_X = pd.DataFrame(), df_y = pd.DataFrame()):\n",
    "    df = pd.concat([df_X, df_y], axis = 1)\n",
    "    nona_df = df.dropna()\n",
    "    return nona_df.iloc[:, :-1], nona_df.iloc[:,-1]"
   ]
  },
  {
   "cell_type": "code",
   "execution_count": 535,
   "metadata": {},
   "outputs": [
    {
     "name": "stdout",
     "output_type": "stream",
     "text": [
      "Total Training Columns: 8\n",
      "MP: 20.00%, ~16.5% of data remain. MSE score: 1.01375\n",
      "MP: 20.50%, ~16.2% of data remain. MSE score: 1.01088\n",
      "MP: 21.00%, ~14.9% of data remain. MSE score: 1.00571\n",
      "MP: 21.50%, ~14.4% of data remain. MSE score: 1.00234\n",
      "MP: 22.00%, ~13.8% of data remain. MSE score: 1.20302\n",
      "MP: 22.50%, ~13.3% of data remain. MSE score: 1.00455\n",
      "MP: 23.00%, ~12.1% of data remain. MSE score: 1.00708\n",
      "MP: 23.50%, ~11.4% of data remain. MSE score: 1.28220\n",
      "MP: 24.00%, ~10.9% of data remain. MSE score: 1.00348\n",
      "MP: 24.50%, ~10.6% of data remain. MSE score: 1.27739\n",
      "MP: 25.00%, ~10.2% of data remain. MSE score: 1.24522\n",
      "MP: 25.50%, ~9.4% of data remain. MSE score: 0.98733\n",
      "MP: 26.00%, ~9.0% of data remain. MSE score: 1.09385\n",
      "MP: 26.50%, ~8.6% of data remain. MSE score: 0.98920\n",
      "MP: 27.00%, ~8.4% of data remain. MSE score: 0.99772\n",
      "MP: 27.50%, ~7.6% of data remain. MSE score: 1.36321\n",
      "MP: 28.00%, ~7.4% of data remain. MSE score: 1.29513\n",
      "MP: 28.50%, ~6.7% of data remain. MSE score: 1.42153\n",
      "MP: 29.00%, ~6.2% of data remain. MSE score: 1.02656\n",
      "MP: 29.50%, ~6.2% of data remain. MSE score: 0.98834\n",
      "MP: 30.00%, ~5.4% of data remain. MSE score: 1.25410\n",
      "MP: 30.50%, ~5.6% of data remain. MSE score: 1.04942\n",
      "MP: 31.00%, ~5.1% of data remain. MSE score: 1.05354\n",
      "MP: 31.50%, ~4.8% of data remain. MSE score: 1.42265\n",
      "MP: 32.00%, ~4.6% of data remain. MSE score: 1.32937\n",
      "MP: 32.50%, ~4.1% of data remain. MSE score: 1.45297\n",
      "MP: 33.00%, ~4.1% of data remain. MSE score: 1.59460\n",
      "MP: 33.50%, ~4.0% of data remain. MSE score: 1.12259\n",
      "MP: 34.00%, ~3.6% of data remain. MSE score: 1.70827\n",
      "MP: 34.50%, ~3.3% of data remain. MSE score: 1.29769\n"
     ]
    }
   ],
   "source": [
    "mps = np.arange(0.2, 0.35, 0.005)\n",
    "mses = []\n",
    "print(f\"Total Training Columns: {len(pX_train.columns)}\")\n",
    "for mp in mps:\n",
    "    # Inject missing values\n",
    "    uc_X_train = unclean_X_train(X_train, missing_percentage= mp, seed = 42)\n",
    "\n",
    "    # Remove Rows\n",
    "    pX_train, py_train = deletion(df_X = uc_X_train, df_y = y_train)\n",
    "\n",
    "    # Show remaining data\n",
    "    pc_vals = round((len(pX_train)/len(X_train)),3)*100\n",
    "    \n",
    "    # Train and evaluate\n",
    "    model.fit(pX_train, py_train)\n",
    "    y_pred = model.predict(X_test)\n",
    "    mser = mean_squared_error(y_test, y_pred)/mse_base\n",
    "    mses.append(mser)\n",
    "\n",
    "    print(f'MP: {mp*100:.2f}%, ~{pc_vals:.1f}% of data remain. MSE score: {mser:.5f}')    "
   ]
  },
  {
   "cell_type": "code",
   "execution_count": 563,
   "metadata": {},
   "outputs": [
    {
     "data": {
      "application/vnd.plotly.v1+json": {
       "config": {
        "plotlyServerURL": "https://plot.ly"
       },
       "data": [
        {
         "line": {
          "color": "blue"
         },
         "marker": {
          "size": 8
         },
         "mode": "lines+markers",
         "name": "Deletion",
         "type": "scatter",
         "x": [
          20,
          20.5,
          21.000000000000004,
          21.500000000000004,
          22.000000000000004,
          22.500000000000004,
          23.000000000000004,
          23.500000000000004,
          24.000000000000004,
          24.500000000000004,
          25.000000000000007,
          25.500000000000007,
          26.000000000000007,
          26.500000000000007,
          27.000000000000007,
          27.500000000000007,
          28.000000000000007,
          28.500000000000007,
          29.00000000000001,
          29.50000000000001,
          30.00000000000001,
          30.50000000000001,
          31.00000000000001,
          31.50000000000001,
          32.000000000000014,
          32.500000000000014,
          33.000000000000014,
          33.500000000000014,
          34.000000000000014,
          34.500000000000014
         ],
         "y": [
          1.0023653434316433,
          0.975285640982072,
          1.0024070985333946,
          0.9946225498944048,
          0.9996271894608794,
          1.0144410744780972,
          0.9906121069516376,
          0.9812266343966378,
          1.0057136596667215,
          1.003492585420946,
          0.9842522423196266,
          0.9930883695559938,
          0.9929734493107742,
          0.9936904836018075,
          0.9784683096936839,
          0.9968382452061173,
          0.9808939122598013,
          1.0010974770912868,
          1.0004771858381718,
          0.9800101595084014,
          1.0009558887907235,
          1.0019083598190184,
          1.0140979612099716,
          0.9775362898675979,
          1.0099058297228165,
          1.003750590998067,
          0.9911530498943755,
          0.9836248259782723,
          1.0183029166243367,
          1.0230999589632312
         ]
        }
       ],
       "layout": {
        "template": {
         "data": {
          "bar": [
           {
            "error_x": {
             "color": "#2a3f5f"
            },
            "error_y": {
             "color": "#2a3f5f"
            },
            "marker": {
             "line": {
              "color": "white",
              "width": 0.5
             },
             "pattern": {
              "fillmode": "overlay",
              "size": 10,
              "solidity": 0.2
             }
            },
            "type": "bar"
           }
          ],
          "barpolar": [
           {
            "marker": {
             "line": {
              "color": "white",
              "width": 0.5
             },
             "pattern": {
              "fillmode": "overlay",
              "size": 10,
              "solidity": 0.2
             }
            },
            "type": "barpolar"
           }
          ],
          "carpet": [
           {
            "aaxis": {
             "endlinecolor": "#2a3f5f",
             "gridcolor": "#C8D4E3",
             "linecolor": "#C8D4E3",
             "minorgridcolor": "#C8D4E3",
             "startlinecolor": "#2a3f5f"
            },
            "baxis": {
             "endlinecolor": "#2a3f5f",
             "gridcolor": "#C8D4E3",
             "linecolor": "#C8D4E3",
             "minorgridcolor": "#C8D4E3",
             "startlinecolor": "#2a3f5f"
            },
            "type": "carpet"
           }
          ],
          "choropleth": [
           {
            "colorbar": {
             "outlinewidth": 0,
             "ticks": ""
            },
            "type": "choropleth"
           }
          ],
          "contour": [
           {
            "colorbar": {
             "outlinewidth": 0,
             "ticks": ""
            },
            "colorscale": [
             [
              0,
              "#0d0887"
             ],
             [
              0.1111111111111111,
              "#46039f"
             ],
             [
              0.2222222222222222,
              "#7201a8"
             ],
             [
              0.3333333333333333,
              "#9c179e"
             ],
             [
              0.4444444444444444,
              "#bd3786"
             ],
             [
              0.5555555555555556,
              "#d8576b"
             ],
             [
              0.6666666666666666,
              "#ed7953"
             ],
             [
              0.7777777777777778,
              "#fb9f3a"
             ],
             [
              0.8888888888888888,
              "#fdca26"
             ],
             [
              1,
              "#f0f921"
             ]
            ],
            "type": "contour"
           }
          ],
          "contourcarpet": [
           {
            "colorbar": {
             "outlinewidth": 0,
             "ticks": ""
            },
            "type": "contourcarpet"
           }
          ],
          "heatmap": [
           {
            "colorbar": {
             "outlinewidth": 0,
             "ticks": ""
            },
            "colorscale": [
             [
              0,
              "#0d0887"
             ],
             [
              0.1111111111111111,
              "#46039f"
             ],
             [
              0.2222222222222222,
              "#7201a8"
             ],
             [
              0.3333333333333333,
              "#9c179e"
             ],
             [
              0.4444444444444444,
              "#bd3786"
             ],
             [
              0.5555555555555556,
              "#d8576b"
             ],
             [
              0.6666666666666666,
              "#ed7953"
             ],
             [
              0.7777777777777778,
              "#fb9f3a"
             ],
             [
              0.8888888888888888,
              "#fdca26"
             ],
             [
              1,
              "#f0f921"
             ]
            ],
            "type": "heatmap"
           }
          ],
          "heatmapgl": [
           {
            "colorbar": {
             "outlinewidth": 0,
             "ticks": ""
            },
            "colorscale": [
             [
              0,
              "#0d0887"
             ],
             [
              0.1111111111111111,
              "#46039f"
             ],
             [
              0.2222222222222222,
              "#7201a8"
             ],
             [
              0.3333333333333333,
              "#9c179e"
             ],
             [
              0.4444444444444444,
              "#bd3786"
             ],
             [
              0.5555555555555556,
              "#d8576b"
             ],
             [
              0.6666666666666666,
              "#ed7953"
             ],
             [
              0.7777777777777778,
              "#fb9f3a"
             ],
             [
              0.8888888888888888,
              "#fdca26"
             ],
             [
              1,
              "#f0f921"
             ]
            ],
            "type": "heatmapgl"
           }
          ],
          "histogram": [
           {
            "marker": {
             "pattern": {
              "fillmode": "overlay",
              "size": 10,
              "solidity": 0.2
             }
            },
            "type": "histogram"
           }
          ],
          "histogram2d": [
           {
            "colorbar": {
             "outlinewidth": 0,
             "ticks": ""
            },
            "colorscale": [
             [
              0,
              "#0d0887"
             ],
             [
              0.1111111111111111,
              "#46039f"
             ],
             [
              0.2222222222222222,
              "#7201a8"
             ],
             [
              0.3333333333333333,
              "#9c179e"
             ],
             [
              0.4444444444444444,
              "#bd3786"
             ],
             [
              0.5555555555555556,
              "#d8576b"
             ],
             [
              0.6666666666666666,
              "#ed7953"
             ],
             [
              0.7777777777777778,
              "#fb9f3a"
             ],
             [
              0.8888888888888888,
              "#fdca26"
             ],
             [
              1,
              "#f0f921"
             ]
            ],
            "type": "histogram2d"
           }
          ],
          "histogram2dcontour": [
           {
            "colorbar": {
             "outlinewidth": 0,
             "ticks": ""
            },
            "colorscale": [
             [
              0,
              "#0d0887"
             ],
             [
              0.1111111111111111,
              "#46039f"
             ],
             [
              0.2222222222222222,
              "#7201a8"
             ],
             [
              0.3333333333333333,
              "#9c179e"
             ],
             [
              0.4444444444444444,
              "#bd3786"
             ],
             [
              0.5555555555555556,
              "#d8576b"
             ],
             [
              0.6666666666666666,
              "#ed7953"
             ],
             [
              0.7777777777777778,
              "#fb9f3a"
             ],
             [
              0.8888888888888888,
              "#fdca26"
             ],
             [
              1,
              "#f0f921"
             ]
            ],
            "type": "histogram2dcontour"
           }
          ],
          "mesh3d": [
           {
            "colorbar": {
             "outlinewidth": 0,
             "ticks": ""
            },
            "type": "mesh3d"
           }
          ],
          "parcoords": [
           {
            "line": {
             "colorbar": {
              "outlinewidth": 0,
              "ticks": ""
             }
            },
            "type": "parcoords"
           }
          ],
          "pie": [
           {
            "automargin": true,
            "type": "pie"
           }
          ],
          "scatter": [
           {
            "fillpattern": {
             "fillmode": "overlay",
             "size": 10,
             "solidity": 0.2
            },
            "type": "scatter"
           }
          ],
          "scatter3d": [
           {
            "line": {
             "colorbar": {
              "outlinewidth": 0,
              "ticks": ""
             }
            },
            "marker": {
             "colorbar": {
              "outlinewidth": 0,
              "ticks": ""
             }
            },
            "type": "scatter3d"
           }
          ],
          "scattercarpet": [
           {
            "marker": {
             "colorbar": {
              "outlinewidth": 0,
              "ticks": ""
             }
            },
            "type": "scattercarpet"
           }
          ],
          "scattergeo": [
           {
            "marker": {
             "colorbar": {
              "outlinewidth": 0,
              "ticks": ""
             }
            },
            "type": "scattergeo"
           }
          ],
          "scattergl": [
           {
            "marker": {
             "colorbar": {
              "outlinewidth": 0,
              "ticks": ""
             }
            },
            "type": "scattergl"
           }
          ],
          "scattermapbox": [
           {
            "marker": {
             "colorbar": {
              "outlinewidth": 0,
              "ticks": ""
             }
            },
            "type": "scattermapbox"
           }
          ],
          "scatterpolar": [
           {
            "marker": {
             "colorbar": {
              "outlinewidth": 0,
              "ticks": ""
             }
            },
            "type": "scatterpolar"
           }
          ],
          "scatterpolargl": [
           {
            "marker": {
             "colorbar": {
              "outlinewidth": 0,
              "ticks": ""
             }
            },
            "type": "scatterpolargl"
           }
          ],
          "scatterternary": [
           {
            "marker": {
             "colorbar": {
              "outlinewidth": 0,
              "ticks": ""
             }
            },
            "type": "scatterternary"
           }
          ],
          "surface": [
           {
            "colorbar": {
             "outlinewidth": 0,
             "ticks": ""
            },
            "colorscale": [
             [
              0,
              "#0d0887"
             ],
             [
              0.1111111111111111,
              "#46039f"
             ],
             [
              0.2222222222222222,
              "#7201a8"
             ],
             [
              0.3333333333333333,
              "#9c179e"
             ],
             [
              0.4444444444444444,
              "#bd3786"
             ],
             [
              0.5555555555555556,
              "#d8576b"
             ],
             [
              0.6666666666666666,
              "#ed7953"
             ],
             [
              0.7777777777777778,
              "#fb9f3a"
             ],
             [
              0.8888888888888888,
              "#fdca26"
             ],
             [
              1,
              "#f0f921"
             ]
            ],
            "type": "surface"
           }
          ],
          "table": [
           {
            "cells": {
             "fill": {
              "color": "#EBF0F8"
             },
             "line": {
              "color": "white"
             }
            },
            "header": {
             "fill": {
              "color": "#C8D4E3"
             },
             "line": {
              "color": "white"
             }
            },
            "type": "table"
           }
          ]
         },
         "layout": {
          "annotationdefaults": {
           "arrowcolor": "#2a3f5f",
           "arrowhead": 0,
           "arrowwidth": 1
          },
          "autotypenumbers": "strict",
          "coloraxis": {
           "colorbar": {
            "outlinewidth": 0,
            "ticks": ""
           }
          },
          "colorscale": {
           "diverging": [
            [
             0,
             "#8e0152"
            ],
            [
             0.1,
             "#c51b7d"
            ],
            [
             0.2,
             "#de77ae"
            ],
            [
             0.3,
             "#f1b6da"
            ],
            [
             0.4,
             "#fde0ef"
            ],
            [
             0.5,
             "#f7f7f7"
            ],
            [
             0.6,
             "#e6f5d0"
            ],
            [
             0.7,
             "#b8e186"
            ],
            [
             0.8,
             "#7fbc41"
            ],
            [
             0.9,
             "#4d9221"
            ],
            [
             1,
             "#276419"
            ]
           ],
           "sequential": [
            [
             0,
             "#0d0887"
            ],
            [
             0.1111111111111111,
             "#46039f"
            ],
            [
             0.2222222222222222,
             "#7201a8"
            ],
            [
             0.3333333333333333,
             "#9c179e"
            ],
            [
             0.4444444444444444,
             "#bd3786"
            ],
            [
             0.5555555555555556,
             "#d8576b"
            ],
            [
             0.6666666666666666,
             "#ed7953"
            ],
            [
             0.7777777777777778,
             "#fb9f3a"
            ],
            [
             0.8888888888888888,
             "#fdca26"
            ],
            [
             1,
             "#f0f921"
            ]
           ],
           "sequentialminus": [
            [
             0,
             "#0d0887"
            ],
            [
             0.1111111111111111,
             "#46039f"
            ],
            [
             0.2222222222222222,
             "#7201a8"
            ],
            [
             0.3333333333333333,
             "#9c179e"
            ],
            [
             0.4444444444444444,
             "#bd3786"
            ],
            [
             0.5555555555555556,
             "#d8576b"
            ],
            [
             0.6666666666666666,
             "#ed7953"
            ],
            [
             0.7777777777777778,
             "#fb9f3a"
            ],
            [
             0.8888888888888888,
             "#fdca26"
            ],
            [
             1,
             "#f0f921"
            ]
           ]
          },
          "colorway": [
           "#636efa",
           "#EF553B",
           "#00cc96",
           "#ab63fa",
           "#FFA15A",
           "#19d3f3",
           "#FF6692",
           "#B6E880",
           "#FF97FF",
           "#FECB52"
          ],
          "font": {
           "color": "#2a3f5f"
          },
          "geo": {
           "bgcolor": "white",
           "lakecolor": "white",
           "landcolor": "white",
           "showlakes": true,
           "showland": true,
           "subunitcolor": "#C8D4E3"
          },
          "hoverlabel": {
           "align": "left"
          },
          "hovermode": "closest",
          "mapbox": {
           "style": "light"
          },
          "paper_bgcolor": "white",
          "plot_bgcolor": "white",
          "polar": {
           "angularaxis": {
            "gridcolor": "#EBF0F8",
            "linecolor": "#EBF0F8",
            "ticks": ""
           },
           "bgcolor": "white",
           "radialaxis": {
            "gridcolor": "#EBF0F8",
            "linecolor": "#EBF0F8",
            "ticks": ""
           }
          },
          "scene": {
           "xaxis": {
            "backgroundcolor": "white",
            "gridcolor": "#DFE8F3",
            "gridwidth": 2,
            "linecolor": "#EBF0F8",
            "showbackground": true,
            "ticks": "",
            "zerolinecolor": "#EBF0F8"
           },
           "yaxis": {
            "backgroundcolor": "white",
            "gridcolor": "#DFE8F3",
            "gridwidth": 2,
            "linecolor": "#EBF0F8",
            "showbackground": true,
            "ticks": "",
            "zerolinecolor": "#EBF0F8"
           },
           "zaxis": {
            "backgroundcolor": "white",
            "gridcolor": "#DFE8F3",
            "gridwidth": 2,
            "linecolor": "#EBF0F8",
            "showbackground": true,
            "ticks": "",
            "zerolinecolor": "#EBF0F8"
           }
          },
          "shapedefaults": {
           "line": {
            "color": "#2a3f5f"
           }
          },
          "ternary": {
           "aaxis": {
            "gridcolor": "#DFE8F3",
            "linecolor": "#A2B1C6",
            "ticks": ""
           },
           "baxis": {
            "gridcolor": "#DFE8F3",
            "linecolor": "#A2B1C6",
            "ticks": ""
           },
           "bgcolor": "white",
           "caxis": {
            "gridcolor": "#DFE8F3",
            "linecolor": "#A2B1C6",
            "ticks": ""
           }
          },
          "title": {
           "x": 0.05
          },
          "xaxis": {
           "automargin": true,
           "gridcolor": "#EBF0F8",
           "linecolor": "#EBF0F8",
           "ticks": "",
           "title": {
            "standoff": 15
           },
           "zerolinecolor": "#EBF0F8",
           "zerolinewidth": 2
          },
          "yaxis": {
           "automargin": true,
           "gridcolor": "#EBF0F8",
           "linecolor": "#EBF0F8",
           "ticks": "",
           "title": {
            "standoff": 15
           },
           "zerolinecolor": "#EBF0F8",
           "zerolinewidth": 2
          }
         }
        },
        "title": {
         "text": "Standardised MSE vs. Missing Percentage"
        },
        "xaxis": {
         "title": {
          "text": "Missing Data Percentage (%)"
         }
        },
        "yaxis": {
         "title": {
          "text": "MSE Score"
         }
        }
       }
      }
     },
     "metadata": {},
     "output_type": "display_data"
    }
   ],
   "source": [
    "import plotly.graph_objects as go\n",
    "def plotter(X = mps, y = mses):\n",
    "    # Create DataFrame\n",
    "    df = pd.DataFrame({\n",
    "        \"Missing Percentage\": X,\n",
    "        \"Deletion MSE score\": y\n",
    "    })\n",
    "    # Create line plot\n",
    "    fig = go.Figure()\n",
    "\n",
    "    # Add a line trace\n",
    "    fig.add_trace(go.Scatter(\n",
    "        x=df[\"Missing Percentage\"]*100,\n",
    "        y=df[\"Deletion MSE score\"],\n",
    "        mode='lines+markers',\n",
    "        name='Deletion',\n",
    "        line=dict(color='blue'),\n",
    "        marker=dict(size=8)\n",
    "    ))\n",
    "\n",
    "    # Update layout\n",
    "    fig.update_layout(\n",
    "        title=\"Standardised MSE vs. Missing Percentage\",\n",
    "        xaxis_title=\"Missing Data Percentage (%)\",\n",
    "        yaxis_title=\"MSE Score\",\n",
    "        template=\"plotly_white\"\n",
    "    )\n",
    "\n",
    "    fig.show()\n",
    "    \n",
    "plotter(X = mps, y = mse_res)\n"
   ]
  },
  {
   "cell_type": "markdown",
   "metadata": {},
   "source": [
    "This data has large variance, we will now implement cross validation to smooth this data with our Kfolds"
   ]
  },
  {
   "cell_type": "code",
   "execution_count": 586,
   "metadata": {},
   "outputs": [
    {
     "name": "stdout",
     "output_type": "stream",
     "text": [
      "[1.00377256 1.00440298 1.00478078 1.00522651 1.00638375 1.00828765\n",
      " 1.00688738 1.01071522 1.00702187 1.00728756 1.01234431 1.01031229\n",
      " 1.00928024 1.00725438 1.01007581 1.00968669 1.01443434 1.01672375\n",
      " 1.02046944 1.01912646 1.03099034 1.0223759  1.01898457 1.02495749\n",
      " 1.03893593 1.02827901 1.0326383  1.05074787 1.04665583 1.07917232]\n"
     ]
    },
    {
     "data": {
      "application/vnd.plotly.v1+json": {
       "config": {
        "plotlyServerURL": "https://plot.ly"
       },
       "data": [
        {
         "line": {
          "color": "blue"
         },
         "marker": {
          "size": 8
         },
         "mode": "lines+markers",
         "name": "Deletion",
         "type": "scatter",
         "x": [
          20,
          20.5,
          21.000000000000004,
          21.500000000000004,
          22.000000000000004,
          22.500000000000004,
          23.000000000000004,
          23.500000000000004,
          24.000000000000004,
          24.500000000000004,
          25.000000000000007,
          25.500000000000007,
          26.000000000000007,
          26.500000000000007,
          27.000000000000007,
          27.500000000000007,
          28.000000000000007,
          28.500000000000007,
          29.00000000000001,
          29.50000000000001,
          30.00000000000001,
          30.50000000000001,
          31.00000000000001,
          31.50000000000001,
          32.000000000000014,
          32.500000000000014,
          33.000000000000014,
          33.500000000000014,
          34.000000000000014,
          34.500000000000014
         ],
         "y": [
          1.003772561745325,
          1.004402978966254,
          1.004780776583483,
          1.0052265111876264,
          1.0063837534161078,
          1.0082876472585178,
          1.0068873837590835,
          1.010715220444026,
          1.0070218698005515,
          1.0072875595420243,
          1.012344313219236,
          1.0103122890104226,
          1.0092802400987697,
          1.007254380067149,
          1.0100758104314211,
          1.0096866882593782,
          1.0144343383007954,
          1.0167237503520379,
          1.0204694401094851,
          1.019126458084154,
          1.0309903351548573,
          1.0223758982155773,
          1.0189845749544122,
          1.0249574899107905,
          1.0389359342721696,
          1.028279006737093,
          1.0326382997037955,
          1.0507478684381633,
          1.04665583389284,
          1.0791723193440061
         ]
        }
       ],
       "layout": {
        "template": {
         "data": {
          "bar": [
           {
            "error_x": {
             "color": "#2a3f5f"
            },
            "error_y": {
             "color": "#2a3f5f"
            },
            "marker": {
             "line": {
              "color": "white",
              "width": 0.5
             },
             "pattern": {
              "fillmode": "overlay",
              "size": 10,
              "solidity": 0.2
             }
            },
            "type": "bar"
           }
          ],
          "barpolar": [
           {
            "marker": {
             "line": {
              "color": "white",
              "width": 0.5
             },
             "pattern": {
              "fillmode": "overlay",
              "size": 10,
              "solidity": 0.2
             }
            },
            "type": "barpolar"
           }
          ],
          "carpet": [
           {
            "aaxis": {
             "endlinecolor": "#2a3f5f",
             "gridcolor": "#C8D4E3",
             "linecolor": "#C8D4E3",
             "minorgridcolor": "#C8D4E3",
             "startlinecolor": "#2a3f5f"
            },
            "baxis": {
             "endlinecolor": "#2a3f5f",
             "gridcolor": "#C8D4E3",
             "linecolor": "#C8D4E3",
             "minorgridcolor": "#C8D4E3",
             "startlinecolor": "#2a3f5f"
            },
            "type": "carpet"
           }
          ],
          "choropleth": [
           {
            "colorbar": {
             "outlinewidth": 0,
             "ticks": ""
            },
            "type": "choropleth"
           }
          ],
          "contour": [
           {
            "colorbar": {
             "outlinewidth": 0,
             "ticks": ""
            },
            "colorscale": [
             [
              0,
              "#0d0887"
             ],
             [
              0.1111111111111111,
              "#46039f"
             ],
             [
              0.2222222222222222,
              "#7201a8"
             ],
             [
              0.3333333333333333,
              "#9c179e"
             ],
             [
              0.4444444444444444,
              "#bd3786"
             ],
             [
              0.5555555555555556,
              "#d8576b"
             ],
             [
              0.6666666666666666,
              "#ed7953"
             ],
             [
              0.7777777777777778,
              "#fb9f3a"
             ],
             [
              0.8888888888888888,
              "#fdca26"
             ],
             [
              1,
              "#f0f921"
             ]
            ],
            "type": "contour"
           }
          ],
          "contourcarpet": [
           {
            "colorbar": {
             "outlinewidth": 0,
             "ticks": ""
            },
            "type": "contourcarpet"
           }
          ],
          "heatmap": [
           {
            "colorbar": {
             "outlinewidth": 0,
             "ticks": ""
            },
            "colorscale": [
             [
              0,
              "#0d0887"
             ],
             [
              0.1111111111111111,
              "#46039f"
             ],
             [
              0.2222222222222222,
              "#7201a8"
             ],
             [
              0.3333333333333333,
              "#9c179e"
             ],
             [
              0.4444444444444444,
              "#bd3786"
             ],
             [
              0.5555555555555556,
              "#d8576b"
             ],
             [
              0.6666666666666666,
              "#ed7953"
             ],
             [
              0.7777777777777778,
              "#fb9f3a"
             ],
             [
              0.8888888888888888,
              "#fdca26"
             ],
             [
              1,
              "#f0f921"
             ]
            ],
            "type": "heatmap"
           }
          ],
          "heatmapgl": [
           {
            "colorbar": {
             "outlinewidth": 0,
             "ticks": ""
            },
            "colorscale": [
             [
              0,
              "#0d0887"
             ],
             [
              0.1111111111111111,
              "#46039f"
             ],
             [
              0.2222222222222222,
              "#7201a8"
             ],
             [
              0.3333333333333333,
              "#9c179e"
             ],
             [
              0.4444444444444444,
              "#bd3786"
             ],
             [
              0.5555555555555556,
              "#d8576b"
             ],
             [
              0.6666666666666666,
              "#ed7953"
             ],
             [
              0.7777777777777778,
              "#fb9f3a"
             ],
             [
              0.8888888888888888,
              "#fdca26"
             ],
             [
              1,
              "#f0f921"
             ]
            ],
            "type": "heatmapgl"
           }
          ],
          "histogram": [
           {
            "marker": {
             "pattern": {
              "fillmode": "overlay",
              "size": 10,
              "solidity": 0.2
             }
            },
            "type": "histogram"
           }
          ],
          "histogram2d": [
           {
            "colorbar": {
             "outlinewidth": 0,
             "ticks": ""
            },
            "colorscale": [
             [
              0,
              "#0d0887"
             ],
             [
              0.1111111111111111,
              "#46039f"
             ],
             [
              0.2222222222222222,
              "#7201a8"
             ],
             [
              0.3333333333333333,
              "#9c179e"
             ],
             [
              0.4444444444444444,
              "#bd3786"
             ],
             [
              0.5555555555555556,
              "#d8576b"
             ],
             [
              0.6666666666666666,
              "#ed7953"
             ],
             [
              0.7777777777777778,
              "#fb9f3a"
             ],
             [
              0.8888888888888888,
              "#fdca26"
             ],
             [
              1,
              "#f0f921"
             ]
            ],
            "type": "histogram2d"
           }
          ],
          "histogram2dcontour": [
           {
            "colorbar": {
             "outlinewidth": 0,
             "ticks": ""
            },
            "colorscale": [
             [
              0,
              "#0d0887"
             ],
             [
              0.1111111111111111,
              "#46039f"
             ],
             [
              0.2222222222222222,
              "#7201a8"
             ],
             [
              0.3333333333333333,
              "#9c179e"
             ],
             [
              0.4444444444444444,
              "#bd3786"
             ],
             [
              0.5555555555555556,
              "#d8576b"
             ],
             [
              0.6666666666666666,
              "#ed7953"
             ],
             [
              0.7777777777777778,
              "#fb9f3a"
             ],
             [
              0.8888888888888888,
              "#fdca26"
             ],
             [
              1,
              "#f0f921"
             ]
            ],
            "type": "histogram2dcontour"
           }
          ],
          "mesh3d": [
           {
            "colorbar": {
             "outlinewidth": 0,
             "ticks": ""
            },
            "type": "mesh3d"
           }
          ],
          "parcoords": [
           {
            "line": {
             "colorbar": {
              "outlinewidth": 0,
              "ticks": ""
             }
            },
            "type": "parcoords"
           }
          ],
          "pie": [
           {
            "automargin": true,
            "type": "pie"
           }
          ],
          "scatter": [
           {
            "fillpattern": {
             "fillmode": "overlay",
             "size": 10,
             "solidity": 0.2
            },
            "type": "scatter"
           }
          ],
          "scatter3d": [
           {
            "line": {
             "colorbar": {
              "outlinewidth": 0,
              "ticks": ""
             }
            },
            "marker": {
             "colorbar": {
              "outlinewidth": 0,
              "ticks": ""
             }
            },
            "type": "scatter3d"
           }
          ],
          "scattercarpet": [
           {
            "marker": {
             "colorbar": {
              "outlinewidth": 0,
              "ticks": ""
             }
            },
            "type": "scattercarpet"
           }
          ],
          "scattergeo": [
           {
            "marker": {
             "colorbar": {
              "outlinewidth": 0,
              "ticks": ""
             }
            },
            "type": "scattergeo"
           }
          ],
          "scattergl": [
           {
            "marker": {
             "colorbar": {
              "outlinewidth": 0,
              "ticks": ""
             }
            },
            "type": "scattergl"
           }
          ],
          "scattermapbox": [
           {
            "marker": {
             "colorbar": {
              "outlinewidth": 0,
              "ticks": ""
             }
            },
            "type": "scattermapbox"
           }
          ],
          "scatterpolar": [
           {
            "marker": {
             "colorbar": {
              "outlinewidth": 0,
              "ticks": ""
             }
            },
            "type": "scatterpolar"
           }
          ],
          "scatterpolargl": [
           {
            "marker": {
             "colorbar": {
              "outlinewidth": 0,
              "ticks": ""
             }
            },
            "type": "scatterpolargl"
           }
          ],
          "scatterternary": [
           {
            "marker": {
             "colorbar": {
              "outlinewidth": 0,
              "ticks": ""
             }
            },
            "type": "scatterternary"
           }
          ],
          "surface": [
           {
            "colorbar": {
             "outlinewidth": 0,
             "ticks": ""
            },
            "colorscale": [
             [
              0,
              "#0d0887"
             ],
             [
              0.1111111111111111,
              "#46039f"
             ],
             [
              0.2222222222222222,
              "#7201a8"
             ],
             [
              0.3333333333333333,
              "#9c179e"
             ],
             [
              0.4444444444444444,
              "#bd3786"
             ],
             [
              0.5555555555555556,
              "#d8576b"
             ],
             [
              0.6666666666666666,
              "#ed7953"
             ],
             [
              0.7777777777777778,
              "#fb9f3a"
             ],
             [
              0.8888888888888888,
              "#fdca26"
             ],
             [
              1,
              "#f0f921"
             ]
            ],
            "type": "surface"
           }
          ],
          "table": [
           {
            "cells": {
             "fill": {
              "color": "#EBF0F8"
             },
             "line": {
              "color": "white"
             }
            },
            "header": {
             "fill": {
              "color": "#C8D4E3"
             },
             "line": {
              "color": "white"
             }
            },
            "type": "table"
           }
          ]
         },
         "layout": {
          "annotationdefaults": {
           "arrowcolor": "#2a3f5f",
           "arrowhead": 0,
           "arrowwidth": 1
          },
          "autotypenumbers": "strict",
          "coloraxis": {
           "colorbar": {
            "outlinewidth": 0,
            "ticks": ""
           }
          },
          "colorscale": {
           "diverging": [
            [
             0,
             "#8e0152"
            ],
            [
             0.1,
             "#c51b7d"
            ],
            [
             0.2,
             "#de77ae"
            ],
            [
             0.3,
             "#f1b6da"
            ],
            [
             0.4,
             "#fde0ef"
            ],
            [
             0.5,
             "#f7f7f7"
            ],
            [
             0.6,
             "#e6f5d0"
            ],
            [
             0.7,
             "#b8e186"
            ],
            [
             0.8,
             "#7fbc41"
            ],
            [
             0.9,
             "#4d9221"
            ],
            [
             1,
             "#276419"
            ]
           ],
           "sequential": [
            [
             0,
             "#0d0887"
            ],
            [
             0.1111111111111111,
             "#46039f"
            ],
            [
             0.2222222222222222,
             "#7201a8"
            ],
            [
             0.3333333333333333,
             "#9c179e"
            ],
            [
             0.4444444444444444,
             "#bd3786"
            ],
            [
             0.5555555555555556,
             "#d8576b"
            ],
            [
             0.6666666666666666,
             "#ed7953"
            ],
            [
             0.7777777777777778,
             "#fb9f3a"
            ],
            [
             0.8888888888888888,
             "#fdca26"
            ],
            [
             1,
             "#f0f921"
            ]
           ],
           "sequentialminus": [
            [
             0,
             "#0d0887"
            ],
            [
             0.1111111111111111,
             "#46039f"
            ],
            [
             0.2222222222222222,
             "#7201a8"
            ],
            [
             0.3333333333333333,
             "#9c179e"
            ],
            [
             0.4444444444444444,
             "#bd3786"
            ],
            [
             0.5555555555555556,
             "#d8576b"
            ],
            [
             0.6666666666666666,
             "#ed7953"
            ],
            [
             0.7777777777777778,
             "#fb9f3a"
            ],
            [
             0.8888888888888888,
             "#fdca26"
            ],
            [
             1,
             "#f0f921"
            ]
           ]
          },
          "colorway": [
           "#636efa",
           "#EF553B",
           "#00cc96",
           "#ab63fa",
           "#FFA15A",
           "#19d3f3",
           "#FF6692",
           "#B6E880",
           "#FF97FF",
           "#FECB52"
          ],
          "font": {
           "color": "#2a3f5f"
          },
          "geo": {
           "bgcolor": "white",
           "lakecolor": "white",
           "landcolor": "white",
           "showlakes": true,
           "showland": true,
           "subunitcolor": "#C8D4E3"
          },
          "hoverlabel": {
           "align": "left"
          },
          "hovermode": "closest",
          "mapbox": {
           "style": "light"
          },
          "paper_bgcolor": "white",
          "plot_bgcolor": "white",
          "polar": {
           "angularaxis": {
            "gridcolor": "#EBF0F8",
            "linecolor": "#EBF0F8",
            "ticks": ""
           },
           "bgcolor": "white",
           "radialaxis": {
            "gridcolor": "#EBF0F8",
            "linecolor": "#EBF0F8",
            "ticks": ""
           }
          },
          "scene": {
           "xaxis": {
            "backgroundcolor": "white",
            "gridcolor": "#DFE8F3",
            "gridwidth": 2,
            "linecolor": "#EBF0F8",
            "showbackground": true,
            "ticks": "",
            "zerolinecolor": "#EBF0F8"
           },
           "yaxis": {
            "backgroundcolor": "white",
            "gridcolor": "#DFE8F3",
            "gridwidth": 2,
            "linecolor": "#EBF0F8",
            "showbackground": true,
            "ticks": "",
            "zerolinecolor": "#EBF0F8"
           },
           "zaxis": {
            "backgroundcolor": "white",
            "gridcolor": "#DFE8F3",
            "gridwidth": 2,
            "linecolor": "#EBF0F8",
            "showbackground": true,
            "ticks": "",
            "zerolinecolor": "#EBF0F8"
           }
          },
          "shapedefaults": {
           "line": {
            "color": "#2a3f5f"
           }
          },
          "ternary": {
           "aaxis": {
            "gridcolor": "#DFE8F3",
            "linecolor": "#A2B1C6",
            "ticks": ""
           },
           "baxis": {
            "gridcolor": "#DFE8F3",
            "linecolor": "#A2B1C6",
            "ticks": ""
           },
           "bgcolor": "white",
           "caxis": {
            "gridcolor": "#DFE8F3",
            "linecolor": "#A2B1C6",
            "ticks": ""
           }
          },
          "title": {
           "x": 0.05
          },
          "xaxis": {
           "automargin": true,
           "gridcolor": "#EBF0F8",
           "linecolor": "#EBF0F8",
           "ticks": "",
           "title": {
            "standoff": 15
           },
           "zerolinecolor": "#EBF0F8",
           "zerolinewidth": 2
          },
          "yaxis": {
           "automargin": true,
           "gridcolor": "#EBF0F8",
           "linecolor": "#EBF0F8",
           "ticks": "",
           "title": {
            "standoff": 15
           },
           "zerolinecolor": "#EBF0F8",
           "zerolinewidth": 2
          }
         }
        },
        "title": {
         "text": "Standardised MSE vs. Missing Percentage"
        },
        "xaxis": {
         "title": {
          "text": "Missing Data Percentage (%)"
         }
        },
        "yaxis": {
         "title": {
          "text": "MSE Score"
         }
        }
       }
      }
     },
     "metadata": {},
     "output_type": "display_data"
    }
   ],
   "source": [
    "from sklearn.model_selection import KFold\n",
    "from sklearn.linear_model import LinearRegression\n",
    "from sklearn.metrics import make_scorer, mean_squared_error\n",
    "def ml_mse(model, X_train, y_train, X_test, y_test): \n",
    "    model.fit(X_train, y_train)\n",
    "    y_pred = model.predict(X_test)\n",
    "    mse = mean_squared_error(y_test, y_pred)\n",
    "    return mse\n",
    "\n",
    "folds = 10\n",
    "model = LinearRegression()\n",
    "\n",
    "res_av = []\n",
    "for i in range(50):\n",
    "    kf = KFold(n_splits=folds, shuffle=True, random_state=np.random.randint(0, 10000))\n",
    "    mse_res = []\n",
    "    for mp in mps:\n",
    "        mses = []\n",
    "        for fold_idx, (train_index, test_index) in enumerate(kf.split(X)):\n",
    "            X_train, X_test = X.iloc[train_index].copy(), X.iloc[test_index].copy()\n",
    "            y_train, y_test = y.iloc[train_index].copy(), y.iloc[test_index].copy()\n",
    "            mse_base = ml_mse(model = model, X_train = X_train, y_train = y_train, X_test = X_test, y_test = y_test)\n",
    "            uc_X_train = unclean_X_train(X_train, missing_percentage= mp, seed = None)\n",
    "            pX_train, py_train = deletion(df_X = uc_X_train, df_y = y_train)\n",
    "            if len(pX_train) == 0:\n",
    "                print(\"Help\")\n",
    "                continue\n",
    "            mse_sample = ml_mse(model = model, X_train = pX_train, y_train = py_train, X_test = X_test, y_test = y_test)\n",
    "            mses.append(mse_sample/mse_base)\n",
    "        mse_res.append(np.median(mses))\n",
    "        #lower_q = np.nanpercentile(mse_res, 25, axis=0)\n",
    "        #upper_q = np.nanpercentile(mse_res, 75, axis=0)\n",
    "        #iqr = upper_q - lower_q\n",
    "        #med = np.median(mses)\n",
    "        #std = np.std(mses)\n",
    "        #mean = np.mean(mses)\n",
    "        #print(round(mp,3), f'\\tMSE = {med:.1f} ± {iqr:.1f} (95% CI)\"')\n",
    "    res_av.append(mse_res)\n",
    "arr = np.array(res_av)\n",
    "smooth_mse = np.median(arr, axis = 0)\n",
    "print(smooth_mse)\n",
    "\n",
    "plotter(X = mps, y = smooth_mse)"
   ]
  },
  {
   "cell_type": "code",
   "execution_count": 558,
   "metadata": {},
   "outputs": [
    {
     "data": {
      "application/vnd.plotly.v1+json": {
       "config": {
        "plotlyServerURL": "https://plot.ly"
       },
       "data": [
        {
         "line": {
          "color": "blue"
         },
         "marker": {
          "size": 8
         },
         "mode": "lines+markers",
         "name": "Deletion",
         "type": "scatter",
         "x": [
          20,
          20.5,
          21.000000000000004,
          21.500000000000004,
          22.000000000000004,
          22.500000000000004,
          23.000000000000004,
          23.500000000000004,
          24.000000000000004,
          24.500000000000004,
          25.000000000000007,
          25.500000000000007,
          26.000000000000007,
          26.500000000000007,
          27.000000000000007,
          27.500000000000007,
          28.000000000000007,
          28.500000000000007,
          29.00000000000001,
          29.50000000000001,
          30.00000000000001,
          30.50000000000001,
          31.00000000000001,
          31.50000000000001,
          32.000000000000014,
          32.500000000000014,
          33.000000000000014,
          33.500000000000014,
          34.000000000000014,
          34.500000000000014
         ],
         "y": [
          10.268674285033459,
          3.734124188218145,
          14.44708429357731,
          5.539811694246532,
          4.415320034588592,
          12.084570707607789,
          2.1833880286459157,
          7.853267998785531,
          4.88777350394946,
          3.4308877378851426,
          10.295718448574277,
          5.1440913265924095,
          8.483134125744929,
          12.87534495034539,
          18.215505942334445,
          12.110379488064261,
          12.983684582135547,
          7.835375494189796,
          1.0816929237903747,
          5.845217837071546,
          17.59537555466164,
          19.236382782013163,
          12.86245736187393,
          12.452694520720113,
          11.606066354816068,
          23.331821360723335,
          5.571698430070461,
          4.514517444003538,
          9.688411174001956,
          10.946600844661983
         ]
        }
       ],
       "layout": {
        "template": {
         "data": {
          "bar": [
           {
            "error_x": {
             "color": "#2a3f5f"
            },
            "error_y": {
             "color": "#2a3f5f"
            },
            "marker": {
             "line": {
              "color": "white",
              "width": 0.5
             },
             "pattern": {
              "fillmode": "overlay",
              "size": 10,
              "solidity": 0.2
             }
            },
            "type": "bar"
           }
          ],
          "barpolar": [
           {
            "marker": {
             "line": {
              "color": "white",
              "width": 0.5
             },
             "pattern": {
              "fillmode": "overlay",
              "size": 10,
              "solidity": 0.2
             }
            },
            "type": "barpolar"
           }
          ],
          "carpet": [
           {
            "aaxis": {
             "endlinecolor": "#2a3f5f",
             "gridcolor": "#C8D4E3",
             "linecolor": "#C8D4E3",
             "minorgridcolor": "#C8D4E3",
             "startlinecolor": "#2a3f5f"
            },
            "baxis": {
             "endlinecolor": "#2a3f5f",
             "gridcolor": "#C8D4E3",
             "linecolor": "#C8D4E3",
             "minorgridcolor": "#C8D4E3",
             "startlinecolor": "#2a3f5f"
            },
            "type": "carpet"
           }
          ],
          "choropleth": [
           {
            "colorbar": {
             "outlinewidth": 0,
             "ticks": ""
            },
            "type": "choropleth"
           }
          ],
          "contour": [
           {
            "colorbar": {
             "outlinewidth": 0,
             "ticks": ""
            },
            "colorscale": [
             [
              0,
              "#0d0887"
             ],
             [
              0.1111111111111111,
              "#46039f"
             ],
             [
              0.2222222222222222,
              "#7201a8"
             ],
             [
              0.3333333333333333,
              "#9c179e"
             ],
             [
              0.4444444444444444,
              "#bd3786"
             ],
             [
              0.5555555555555556,
              "#d8576b"
             ],
             [
              0.6666666666666666,
              "#ed7953"
             ],
             [
              0.7777777777777778,
              "#fb9f3a"
             ],
             [
              0.8888888888888888,
              "#fdca26"
             ],
             [
              1,
              "#f0f921"
             ]
            ],
            "type": "contour"
           }
          ],
          "contourcarpet": [
           {
            "colorbar": {
             "outlinewidth": 0,
             "ticks": ""
            },
            "type": "contourcarpet"
           }
          ],
          "heatmap": [
           {
            "colorbar": {
             "outlinewidth": 0,
             "ticks": ""
            },
            "colorscale": [
             [
              0,
              "#0d0887"
             ],
             [
              0.1111111111111111,
              "#46039f"
             ],
             [
              0.2222222222222222,
              "#7201a8"
             ],
             [
              0.3333333333333333,
              "#9c179e"
             ],
             [
              0.4444444444444444,
              "#bd3786"
             ],
             [
              0.5555555555555556,
              "#d8576b"
             ],
             [
              0.6666666666666666,
              "#ed7953"
             ],
             [
              0.7777777777777778,
              "#fb9f3a"
             ],
             [
              0.8888888888888888,
              "#fdca26"
             ],
             [
              1,
              "#f0f921"
             ]
            ],
            "type": "heatmap"
           }
          ],
          "heatmapgl": [
           {
            "colorbar": {
             "outlinewidth": 0,
             "ticks": ""
            },
            "colorscale": [
             [
              0,
              "#0d0887"
             ],
             [
              0.1111111111111111,
              "#46039f"
             ],
             [
              0.2222222222222222,
              "#7201a8"
             ],
             [
              0.3333333333333333,
              "#9c179e"
             ],
             [
              0.4444444444444444,
              "#bd3786"
             ],
             [
              0.5555555555555556,
              "#d8576b"
             ],
             [
              0.6666666666666666,
              "#ed7953"
             ],
             [
              0.7777777777777778,
              "#fb9f3a"
             ],
             [
              0.8888888888888888,
              "#fdca26"
             ],
             [
              1,
              "#f0f921"
             ]
            ],
            "type": "heatmapgl"
           }
          ],
          "histogram": [
           {
            "marker": {
             "pattern": {
              "fillmode": "overlay",
              "size": 10,
              "solidity": 0.2
             }
            },
            "type": "histogram"
           }
          ],
          "histogram2d": [
           {
            "colorbar": {
             "outlinewidth": 0,
             "ticks": ""
            },
            "colorscale": [
             [
              0,
              "#0d0887"
             ],
             [
              0.1111111111111111,
              "#46039f"
             ],
             [
              0.2222222222222222,
              "#7201a8"
             ],
             [
              0.3333333333333333,
              "#9c179e"
             ],
             [
              0.4444444444444444,
              "#bd3786"
             ],
             [
              0.5555555555555556,
              "#d8576b"
             ],
             [
              0.6666666666666666,
              "#ed7953"
             ],
             [
              0.7777777777777778,
              "#fb9f3a"
             ],
             [
              0.8888888888888888,
              "#fdca26"
             ],
             [
              1,
              "#f0f921"
             ]
            ],
            "type": "histogram2d"
           }
          ],
          "histogram2dcontour": [
           {
            "colorbar": {
             "outlinewidth": 0,
             "ticks": ""
            },
            "colorscale": [
             [
              0,
              "#0d0887"
             ],
             [
              0.1111111111111111,
              "#46039f"
             ],
             [
              0.2222222222222222,
              "#7201a8"
             ],
             [
              0.3333333333333333,
              "#9c179e"
             ],
             [
              0.4444444444444444,
              "#bd3786"
             ],
             [
              0.5555555555555556,
              "#d8576b"
             ],
             [
              0.6666666666666666,
              "#ed7953"
             ],
             [
              0.7777777777777778,
              "#fb9f3a"
             ],
             [
              0.8888888888888888,
              "#fdca26"
             ],
             [
              1,
              "#f0f921"
             ]
            ],
            "type": "histogram2dcontour"
           }
          ],
          "mesh3d": [
           {
            "colorbar": {
             "outlinewidth": 0,
             "ticks": ""
            },
            "type": "mesh3d"
           }
          ],
          "parcoords": [
           {
            "line": {
             "colorbar": {
              "outlinewidth": 0,
              "ticks": ""
             }
            },
            "type": "parcoords"
           }
          ],
          "pie": [
           {
            "automargin": true,
            "type": "pie"
           }
          ],
          "scatter": [
           {
            "fillpattern": {
             "fillmode": "overlay",
             "size": 10,
             "solidity": 0.2
            },
            "type": "scatter"
           }
          ],
          "scatter3d": [
           {
            "line": {
             "colorbar": {
              "outlinewidth": 0,
              "ticks": ""
             }
            },
            "marker": {
             "colorbar": {
              "outlinewidth": 0,
              "ticks": ""
             }
            },
            "type": "scatter3d"
           }
          ],
          "scattercarpet": [
           {
            "marker": {
             "colorbar": {
              "outlinewidth": 0,
              "ticks": ""
             }
            },
            "type": "scattercarpet"
           }
          ],
          "scattergeo": [
           {
            "marker": {
             "colorbar": {
              "outlinewidth": 0,
              "ticks": ""
             }
            },
            "type": "scattergeo"
           }
          ],
          "scattergl": [
           {
            "marker": {
             "colorbar": {
              "outlinewidth": 0,
              "ticks": ""
             }
            },
            "type": "scattergl"
           }
          ],
          "scattermapbox": [
           {
            "marker": {
             "colorbar": {
              "outlinewidth": 0,
              "ticks": ""
             }
            },
            "type": "scattermapbox"
           }
          ],
          "scatterpolar": [
           {
            "marker": {
             "colorbar": {
              "outlinewidth": 0,
              "ticks": ""
             }
            },
            "type": "scatterpolar"
           }
          ],
          "scatterpolargl": [
           {
            "marker": {
             "colorbar": {
              "outlinewidth": 0,
              "ticks": ""
             }
            },
            "type": "scatterpolargl"
           }
          ],
          "scatterternary": [
           {
            "marker": {
             "colorbar": {
              "outlinewidth": 0,
              "ticks": ""
             }
            },
            "type": "scatterternary"
           }
          ],
          "surface": [
           {
            "colorbar": {
             "outlinewidth": 0,
             "ticks": ""
            },
            "colorscale": [
             [
              0,
              "#0d0887"
             ],
             [
              0.1111111111111111,
              "#46039f"
             ],
             [
              0.2222222222222222,
              "#7201a8"
             ],
             [
              0.3333333333333333,
              "#9c179e"
             ],
             [
              0.4444444444444444,
              "#bd3786"
             ],
             [
              0.5555555555555556,
              "#d8576b"
             ],
             [
              0.6666666666666666,
              "#ed7953"
             ],
             [
              0.7777777777777778,
              "#fb9f3a"
             ],
             [
              0.8888888888888888,
              "#fdca26"
             ],
             [
              1,
              "#f0f921"
             ]
            ],
            "type": "surface"
           }
          ],
          "table": [
           {
            "cells": {
             "fill": {
              "color": "#EBF0F8"
             },
             "line": {
              "color": "white"
             }
            },
            "header": {
             "fill": {
              "color": "#C8D4E3"
             },
             "line": {
              "color": "white"
             }
            },
            "type": "table"
           }
          ]
         },
         "layout": {
          "annotationdefaults": {
           "arrowcolor": "#2a3f5f",
           "arrowhead": 0,
           "arrowwidth": 1
          },
          "autotypenumbers": "strict",
          "coloraxis": {
           "colorbar": {
            "outlinewidth": 0,
            "ticks": ""
           }
          },
          "colorscale": {
           "diverging": [
            [
             0,
             "#8e0152"
            ],
            [
             0.1,
             "#c51b7d"
            ],
            [
             0.2,
             "#de77ae"
            ],
            [
             0.3,
             "#f1b6da"
            ],
            [
             0.4,
             "#fde0ef"
            ],
            [
             0.5,
             "#f7f7f7"
            ],
            [
             0.6,
             "#e6f5d0"
            ],
            [
             0.7,
             "#b8e186"
            ],
            [
             0.8,
             "#7fbc41"
            ],
            [
             0.9,
             "#4d9221"
            ],
            [
             1,
             "#276419"
            ]
           ],
           "sequential": [
            [
             0,
             "#0d0887"
            ],
            [
             0.1111111111111111,
             "#46039f"
            ],
            [
             0.2222222222222222,
             "#7201a8"
            ],
            [
             0.3333333333333333,
             "#9c179e"
            ],
            [
             0.4444444444444444,
             "#bd3786"
            ],
            [
             0.5555555555555556,
             "#d8576b"
            ],
            [
             0.6666666666666666,
             "#ed7953"
            ],
            [
             0.7777777777777778,
             "#fb9f3a"
            ],
            [
             0.8888888888888888,
             "#fdca26"
            ],
            [
             1,
             "#f0f921"
            ]
           ],
           "sequentialminus": [
            [
             0,
             "#0d0887"
            ],
            [
             0.1111111111111111,
             "#46039f"
            ],
            [
             0.2222222222222222,
             "#7201a8"
            ],
            [
             0.3333333333333333,
             "#9c179e"
            ],
            [
             0.4444444444444444,
             "#bd3786"
            ],
            [
             0.5555555555555556,
             "#d8576b"
            ],
            [
             0.6666666666666666,
             "#ed7953"
            ],
            [
             0.7777777777777778,
             "#fb9f3a"
            ],
            [
             0.8888888888888888,
             "#fdca26"
            ],
            [
             1,
             "#f0f921"
            ]
           ]
          },
          "colorway": [
           "#636efa",
           "#EF553B",
           "#00cc96",
           "#ab63fa",
           "#FFA15A",
           "#19d3f3",
           "#FF6692",
           "#B6E880",
           "#FF97FF",
           "#FECB52"
          ],
          "font": {
           "color": "#2a3f5f"
          },
          "geo": {
           "bgcolor": "white",
           "lakecolor": "white",
           "landcolor": "white",
           "showlakes": true,
           "showland": true,
           "subunitcolor": "#C8D4E3"
          },
          "hoverlabel": {
           "align": "left"
          },
          "hovermode": "closest",
          "mapbox": {
           "style": "light"
          },
          "paper_bgcolor": "white",
          "plot_bgcolor": "white",
          "polar": {
           "angularaxis": {
            "gridcolor": "#EBF0F8",
            "linecolor": "#EBF0F8",
            "ticks": ""
           },
           "bgcolor": "white",
           "radialaxis": {
            "gridcolor": "#EBF0F8",
            "linecolor": "#EBF0F8",
            "ticks": ""
           }
          },
          "scene": {
           "xaxis": {
            "backgroundcolor": "white",
            "gridcolor": "#DFE8F3",
            "gridwidth": 2,
            "linecolor": "#EBF0F8",
            "showbackground": true,
            "ticks": "",
            "zerolinecolor": "#EBF0F8"
           },
           "yaxis": {
            "backgroundcolor": "white",
            "gridcolor": "#DFE8F3",
            "gridwidth": 2,
            "linecolor": "#EBF0F8",
            "showbackground": true,
            "ticks": "",
            "zerolinecolor": "#EBF0F8"
           },
           "zaxis": {
            "backgroundcolor": "white",
            "gridcolor": "#DFE8F3",
            "gridwidth": 2,
            "linecolor": "#EBF0F8",
            "showbackground": true,
            "ticks": "",
            "zerolinecolor": "#EBF0F8"
           }
          },
          "shapedefaults": {
           "line": {
            "color": "#2a3f5f"
           }
          },
          "ternary": {
           "aaxis": {
            "gridcolor": "#DFE8F3",
            "linecolor": "#A2B1C6",
            "ticks": ""
           },
           "baxis": {
            "gridcolor": "#DFE8F3",
            "linecolor": "#A2B1C6",
            "ticks": ""
           },
           "bgcolor": "white",
           "caxis": {
            "gridcolor": "#DFE8F3",
            "linecolor": "#A2B1C6",
            "ticks": ""
           }
          },
          "title": {
           "x": 0.05
          },
          "xaxis": {
           "automargin": true,
           "gridcolor": "#EBF0F8",
           "linecolor": "#EBF0F8",
           "ticks": "",
           "title": {
            "standoff": 15
           },
           "zerolinecolor": "#EBF0F8",
           "zerolinewidth": 2
          },
          "yaxis": {
           "automargin": true,
           "gridcolor": "#EBF0F8",
           "linecolor": "#EBF0F8",
           "ticks": "",
           "title": {
            "standoff": 15
           },
           "zerolinecolor": "#EBF0F8",
           "zerolinewidth": 2
          }
         }
        },
        "title": {
         "text": "Standardised MSE vs. Missing Percentage"
        },
        "xaxis": {
         "title": {
          "text": "Missing Data Percentage (%)"
         }
        },
        "yaxis": {
         "title": {
          "text": "MSE Score"
         }
        }
       }
      }
     },
     "metadata": {},
     "output_type": "display_data"
    }
   ],
   "source": [
    "folds = 10\n",
    "kf = KFold(n_splits=folds, shuffle=True, random_state=40)\n",
    "\n",
    "mps = np.arange(0.2, 0.35, 0.005)\n",
    "mse_matrix = np.zeros((folds, len(mps)))  # Collect all MSEs\n",
    "model = LinearRegression()\n",
    "\n",
    "for fold_idx, (train_index, test_index) in enumerate(kf.split(X)):\n",
    "    X_train, X_test = X.iloc[train_index].copy(), X.iloc[test_index].copy()\n",
    "    y_train, y_test = y.iloc[train_index].copy(), y.iloc[test_index].copy()\n",
    "\n",
    "    model.fit(X_train, y_train)\n",
    "    y_pred = model.predict(X_test)\n",
    "    mse_base = mean_squared_error(y_test, y_pred)\n",
    "\n",
    "    for i, mp in enumerate(mps):\n",
    "        uc_X_train = unclean_X_train(X_train, missing_percentage=mp, seed=fold_idx)\n",
    "        pX_train, py_train = deletion(df_X=uc_X_train, df_y=y_train)\n",
    "\n",
    "        if len(pX_train) == 0:\n",
    "            mse_matrix[fold_idx, i] = np.nan  # safer than skipping\n",
    "            continue\n",
    "\n",
    "        model = LinearRegression()\n",
    "        model.fit(pX_train, py_train)\n",
    "        y_pred = model.predict(X_test)\n",
    "        mser = mean_squared_error(y_test, y_pred) / mse_base\n",
    "        mse_matrix[fold_idx, i] = mser\n",
    "\n",
    "# Compute average ignoring NaNs\n",
    "mse_res = np.nanmean(mse_matrix, axis=0)\n",
    "\n",
    "\n",
    "import plotly.graph_objects as go\n",
    "\n",
    "# Create DataFrame\n",
    "df = pd.DataFrame({\n",
    "    \"Missing Percentage\": mps,\n",
    "    \"Deletion MSE score\": mse_res\n",
    "})\n",
    "# Create line plot\n",
    "fig = go.Figure()\n",
    "\n",
    "# Add a line trace\n",
    "fig.add_trace(go.Scatter(\n",
    "    x=df[\"Missing Percentage\"]*100,\n",
    "    y=df[\"Deletion MSE score\"],\n",
    "    mode='lines+markers',\n",
    "    name='Deletion',\n",
    "    line=dict(color='blue'),\n",
    "    marker=dict(size=8)\n",
    "))\n",
    "\n",
    "# Update layout\n",
    "fig.update_layout(\n",
    "    title=\"Standardised MSE vs. Missing Percentage\",\n",
    "    xaxis_title=\"Missing Data Percentage (%)\",\n",
    "    yaxis_title=\"MSE Score\",\n",
    "    template=\"plotly_white\"\n",
    ")\n",
    "\n",
    "fig.show()\n"
   ]
  },
  {
   "cell_type": "code",
   "execution_count": 537,
   "metadata": {},
   "outputs": [
    {
     "name": "stdout",
     "output_type": "stream",
     "text": [
      "Fold 0 - MSE: 0.43430\n",
      "Fold 1 - MSE: 0.56216\n",
      "Fold 2 - MSE: 0.55924\n",
      "Fold 3 - MSE: 0.52693\n",
      "Fold 4 - MSE: 0.52758\n",
      "Fold 5 - MSE: 0.40324\n",
      "Fold 6 - MSE: 0.67056\n",
      "Fold 7 - MSE: 0.58414\n",
      "Fold 8 - MSE: 0.46409\n",
      "Fold 9 - MSE: 0.62650\n",
      "Fold 10 - MSE: 0.46930\n",
      "Fold 11 - MSE: 0.40726\n",
      "Fold 12 - MSE: 0.49491\n",
      "Fold 13 - MSE: 0.38911\n",
      "Fold 14 - MSE: 0.50702\n",
      "Fold 15 - MSE: 0.52363\n",
      "Fold 16 - MSE: 0.66189\n",
      "Fold 17 - MSE: 0.57179\n",
      "Fold 18 - MSE: 0.53255\n",
      "Fold 19 - MSE: 0.59938\n",
      "Fold 20 - MSE: 0.41633\n",
      "Fold 21 - MSE: 0.53134\n",
      "Fold 22 - MSE: 0.53726\n",
      "Fold 23 - MSE: 0.45918\n",
      "Fold 24 - MSE: 0.46759\n",
      "Fold 25 - MSE: 0.47237\n",
      "Fold 26 - MSE: 0.44324\n",
      "Fold 27 - MSE: 0.46572\n",
      "Fold 28 - MSE: 0.56485\n",
      "Fold 29 - MSE: 0.57374\n",
      "Fold 30 - MSE: 0.52261\n",
      "Fold 31 - MSE: 0.59363\n",
      "Fold 32 - MSE: 0.40692\n",
      "Fold 33 - MSE: 0.42484\n",
      "Fold 34 - MSE: 10.67180\n",
      "Fold 35 - MSE: 0.45533\n",
      "Fold 36 - MSE: 0.40793\n",
      "Fold 37 - MSE: 0.41866\n",
      "Fold 38 - MSE: 0.50465\n",
      "Fold 39 - MSE: 0.51349\n",
      "Fold 40 - MSE: 0.59466\n",
      "Fold 41 - MSE: 0.67135\n",
      "Fold 42 - MSE: 0.51113\n",
      "Fold 43 - MSE: 0.58879\n",
      "Fold 44 - MSE: 0.48608\n",
      "Fold 45 - MSE: 56.47259\n",
      "Fold 46 - MSE: 0.49287\n",
      "Fold 47 - MSE: 0.53797\n",
      "Fold 48 - MSE: 0.59944\n",
      "Fold 49 - MSE: 0.51569\n"
     ]
    }
   ],
   "source": [
    "from sklearn.model_selection import KFold\n",
    "from sklearn.linear_model import LinearRegression\n",
    "from sklearn.metrics import mean_squared_error\n",
    "import numpy as np\n",
    "\n",
    "# Assuming X and y are your feature matrix and target vector\n",
    "kf = KFold(n_splits=50, shuffle=True, random_state=42)\n",
    "\n",
    "for fold_idx, (train_index, test_index) in enumerate(kf.split(X)):\n",
    "    # Split the data\n",
    "    X_train, X_test = X.iloc[train_index].copy(), X.iloc[test_index].copy()\n",
    "    y_train, y_test = y.iloc[train_index].copy(), y.iloc[test_index].copy()\n",
    "\n",
    "    # --- Your custom processing here, e.g., uncleaning ---\n",
    "    uc_X_train = unclean_X_train(X_train, missing_percentage=0.2, seed=fold_idx)\n",
    "    pX_train, py_train = deletion(df_X=uc_X_train, df_y=y_train)\n",
    "\n",
    "    # Skip if all rows were dropped\n",
    "    if len(pX_train) == 0:\n",
    "        print(f\"Fold {fold_idx}: skipped due to all rows dropped.\")\n",
    "        continue\n",
    "\n",
    "    # Train model\n",
    "    model = LinearRegression()\n",
    "    model.fit(pX_train, py_train)\n",
    "\n",
    "    # Evaluate on the untouched test fold\n",
    "    y_pred = model.predict(X_test)\n",
    "    mse = mean_squared_error(y_test, y_pred)\n",
    "\n",
    "    print(f\"Fold {fold_idx} - MSE: {mse:.5f}\")\n"
   ]
  },
  {
   "cell_type": "code",
   "execution_count": null,
   "metadata": {},
   "outputs": [],
   "source": []
  },
  {
   "cell_type": "code",
   "execution_count": 409,
   "metadata": {},
   "outputs": [
    {
     "name": "stdout",
     "output_type": "stream",
     "text": [
      "20.0% missing values from 8 column, ~16.900000000000002% of data remain\n",
      "[0.4282837773584294, 0.4388100680910673, 0.43310207510821597, 0.4307078500256206, 0.4317484762200053, 0.428199106308657, 0.4389581645959829, 0.42833666372588075, 0.4319093371565851, 0.42916451975164616, 0.43408863311980117, 0.4341204069586203, 0.43903227307939113, 0.43014731204391266, 0.42765344045362913]\n"
     ]
    }
   ],
   "source": [
    "\n",
    "X_train, y_train = X.copy(), y.copy()\n",
    "uc_X = unclean_df(df = X_train, missing_percentage=mp, seed = None)\n",
    "nona_X, nona_y = remove_na(df_X = uc_X, df_y = y_train)\n",
    "pc_vals = round((len(nona_X)/len(X_train)),3)*100\n",
    "print(f'{mp*100}% missing values from {len(uc_X.columns)} column,', f\"~{pc_vals}% of data remain\")\n",
    "\n",
    "model = LinearRegression()\n",
    "def deletion_method(X, y, model = LinearRegression(), cv = 5, mp = 0.2, repeats = 30, seed = None):\n",
    "    all_mse = []\n",
    "    for i in range(repeats):\n",
    "        X_train, y_train = X.copy(), y.copy()\n",
    "        uc_X = unclean_df(df = X_train, missing_percentage=mp, seed = None)\n",
    "        nona_X, nona_y = remove_na(df_X = uc_X, df_y = y_train)\n",
    "        mse_scorer = make_scorer(mean_squared_error, greater_is_better=False)\n",
    "        cv_scores = cross_val_score(model, nona_X, nona_y, scoring=mse_scorer, cv=cv)\n",
    "        all_mse.append(-np.median(cv_scores))\n",
    "    return np.median(all_mse)\n",
    "\n",
    "def method_pipe(method=deletion_method, X=None, y=None, model=LinearRegression(), cv=50, mp=0.2, repeats=100, outer_repeats=15):\n",
    "    results = []\n",
    "    for i in range(outer_repeats):\n",
    "        res = method(X=X, y=y, model=model, cv=cv, mp=mp, repeats=repeats)\n",
    "        results.append(res)\n",
    "    return results\n",
    "\n",
    "results = method_pipe(method=deletion_method,\n",
    "                        X=X,\n",
    "                        y=y,\n",
    "                        model=LinearRegression(),\n",
    "                        cv=50,\n",
    "                        mp=0.2,\n",
    "                        repeats=100,\n",
    "                        outer_repeats=15)\n",
    "\n",
    "def sweep_missing_levels(method, X, y, mps,\n",
    "                         model=LinearRegression(),\n",
    "                         cv=50,repeats=100,outer_repeats=15):\n",
    "    results_dict = {}\n",
    "    for mp in mps:\n",
    "        scores = method_pipe(method=method, X=X, y=y, model=model, cv=cv, mp=mp, repeats=repeats, outer_repeats=outer_repeats)\n",
    "        mean_score = np.mean(scores)\n",
    "        std_score = np.std(scores)\n",
    "            \n",
    "        results_dict[mp] = {\"mean\": mean_score,\n",
    "                            \"std\": std_score,\n",
    "                            \"raw\": scores}\n",
    "    return results_dict\n",
    "\n",
    "def print_results(name=\"Deletion Method\", results_dict={}):\n",
    "    print(f\"=== {name} ===\")\n",
    "    for mp in sorted(results_dict.keys()):\n",
    "        mean = results_dict[mp][0]/mse_base\n",
    "        std = results_dict[mp][1]/mse_base\n",
    "        ci = 1.96 * std  # 95% confidence interval\n",
    "        print(f\"For {int(mp*100)}% missing: MSE = {mean:.5f} ± {ci:.5f} (95% CI)\")"
   ]
  },
  {
   "cell_type": "code",
   "execution_count": 410,
   "metadata": {},
   "outputs": [],
   "source": [
    "mps = [0.15,0.175, 0.20,0.225, 0.25, 0.275, 0.30]\n",
    "del_spectrum = {}\n",
    "for mp in mps:\n",
    "    results = method_pipe(\n",
    "    method=deletion_method,\n",
    "    X=X,\n",
    "    y=y,\n",
    "    model=LinearRegression(),\n",
    "    cv=50,\n",
    "    mp=mp  ,\n",
    "    repeats=100,\n",
    "    outer_repeats=15\n",
    "    )\n",
    "    del_spectrum[mp] = [np.mean(results), np.std(results)]"
   ]
  },
  {
   "cell_type": "code",
   "execution_count": null,
   "metadata": {},
   "outputs": [],
   "source": []
  },
  {
   "cell_type": "code",
   "execution_count": 413,
   "metadata": {},
   "outputs": [
    {
     "name": "stdout",
     "output_type": "stream",
     "text": [
      "=== Deletion Method ===\n",
      "For 15% missing: MSE = 0.80075 ± 0.01097 (95% CI)\n",
      "For 17% missing: MSE = 0.79510 ± 0.01087 (95% CI)\n",
      "For 20% missing: MSE = 0.78538 ± 0.01725 (95% CI)\n",
      "For 22% missing: MSE = 0.77894 ± 0.01817 (95% CI)\n",
      "For 25% missing: MSE = 0.76590 ± 0.02007 (95% CI)\n",
      "For 27% missing: MSE = 0.75143 ± 0.01898 (95% CI)\n",
      "For 30% missing: MSE = 0.73216 ± 0.01842 (95% CI)\n"
     ]
    }
   ],
   "source": [
    "def sweep_missing_levels(method, X, y, mps,\n",
    "                         model=LinearRegression(),\n",
    "                         cv=50,repeats=100,outer_repeats=15):\n",
    "    results_dict = {}\n",
    "    for mp in mps:\n",
    "        scores = method_pipe(method=method, X=X, y=y, model=model, cv=cv, mp=mp, repeats=repeats, outer_repeats=outer_repeats)\n",
    "        mean_score = np.mean(scores)\n",
    "        std_score = np.std(scores)\n",
    "            \n",
    "        results_dict[mp] = {\"mean\": mean_score,\n",
    "                            \"std\": std_score,\n",
    "                            \"raw\": scores}\n",
    "    return results_dict\n",
    "\n",
    "def print_results(name=\"Deletion Method\", results_dict={}):\n",
    "    print(f\"=== {name} ===\")\n",
    "    for mp in sorted(results_dict.keys()):\n",
    "        mean = results_dict[mp][0]/mse_base\n",
    "        std = results_dict[mp][1]/mse_base\n",
    "        ci = 1.96 * std  # 95% confidence interval\n",
    "        print(f\"For {int(mp*100)}% missing: MSE = {mean:.5f} ± {ci:.5f} (95% CI)\")\n",
    "        \n",
    "print_results(name = \"Deletion Method\", results_dict = del_spectrum)\n",
    "\n"
   ]
  },
  {
   "cell_type": "code",
   "execution_count": 408,
   "metadata": {},
   "outputs": [
    {
     "name": "stdout",
     "output_type": "stream",
     "text": [
      "0.024916350529476272\n",
      "Mean Normalized MSE (Deletion @ 20%): 0.78564\n",
      "95% CI: [0.77318, 0.79810]\n"
     ]
    }
   ],
   "source": [
    "import numpy as np\n",
    "results = [0.78465, 0.78562, 0.7821, 0.79894, 0.78495,\n",
    "           0.78557, 0.78756, 0.77896, 0.7809, 0.78123,\n",
    "           0.78493, 0.79469, 0.77427, 0.78404, 0.79616]\n",
    "\n",
    "mean_score = np.mean(results)\n",
    "std_dev = np.std(results)\n",
    "ci_low = mean_score - 1.96 * std_dev\n",
    "ci_high = mean_score + 1.96 * std_dev\n",
    "\n",
    "pm = ci_high-ci_low\n",
    "print(pm)\n",
    "\n",
    "print(f\"Mean Normalized MSE (Deletion @ 20%): {mean_score:.5f}\")\n",
    "print(f\"95% CI: [{ci_low:.5f}, {ci_high:.5f}]\")"
   ]
  },
  {
   "cell_type": "markdown",
   "metadata": {},
   "source": [
    "Because we are randomly choosing which percentage of features are being deleted, we need to some statistical samples\n",
    "\n",
    "### Gather Statistics"
   ]
  },
  {
   "cell_type": "code",
   "execution_count": 96,
   "metadata": {},
   "outputs": [
    {
     "name": "stdout",
     "output_type": "stream",
     "text": [
      "Out of 100 trials, the MSE is 0.572\n",
      "Out of 100 trials, the MSE is 0.567\n",
      "Out of 100 trials, the MSE is 0.573\n",
      "Out of 100 trials, the MSE is 0.566\n",
      "Out of 100 trials, the MSE is 0.577\n",
      "Out of 100 trials, the MSE is 0.568\n",
      "Out of 100 trials, the MSE is 0.567\n",
      "Out of 100 trials, the MSE is 0.568\n",
      "Out of 100 trials, the MSE is 0.570\n",
      "Out of 100 trials, the MSE is 0.569\n",
      "Out of 100 trials, the MSE is 0.569\n",
      "Out of 100 trials, the MSE is 0.572\n",
      "Out of 100 trials, the MSE is 0.573\n",
      "Out of 100 trials, the MSE is 0.570\n",
      "Out of 100 trials, the MSE is 0.571\n",
      "0.002780457207882115\n"
     ]
    }
   ],
   "source": [
    "model = LinearRegression()\n",
    "mp = 0.20\n",
    "samples = 100\n",
    "\n",
    "\n",
    "def deletion_method(model = model, missing_percentage = 0.2, samples = samples):\n",
    "    mses = []\n",
    "    for i in range(samples):\n",
    "        X_train_testing = X_train.copy()\n",
    "        uc_X_train = unclean_df(df = X_train_testing, missing_percentage=missing_percentage)\n",
    "        nona_X_train, nona_y_train = remove_na(df_X = uc_X_train, df_y = y_train)\n",
    "        model.fit(nona_X_train, nona_y_train)\n",
    "        y_pred = model.predict(X_test)\n",
    "        mse = mean_squared_error(y_test, y_pred)\n",
    "        mses.append(mse)\n",
    "    av = np.median(mses)\n",
    "    return av\n",
    "array = []\n",
    "for i in range(15):\n",
    "    res = deletion_method(model = model, missing_percentage = mp, samples = samples)\n",
    "    print(f\"Out of {samples} trials, the MSE is {res:.3f}\")\n",
    "    array.append(res)\n",
    "print(np.array(array).std())"
   ]
  },
  {
   "cell_type": "markdown",
   "metadata": {},
   "source": [
    "We can see the MSE\n",
    "\n",
    "33.7"
   ]
  },
  {
   "cell_type": "code",
   "execution_count": 105,
   "metadata": {},
   "outputs": [
    {
     "name": "stdout",
     "output_type": "stream",
     "text": [
      "50 32.7081565674406\n",
      "100 60.92481409370882\n",
      "200 95.8776794698639\n",
      "300 111.81757160634179\n",
      "500 213.26987246494366\n",
      "750 162.67796828584923\n",
      "1000 200.33957258642906\n",
      "1500 272.8709671503992\n"
     ]
    }
   ],
   "source": [
    "model = LinearRegression()\n",
    "samples = [50,100,200,300,500,750,1000,1500]\n",
    "dat = {}\n",
    "for s in samples:\n",
    "    array = []\n",
    "    for i in range(15):\n",
    "        res = deletion_method(model = model, missing_percentage = mp, samples = s)\n",
    "        #print(f\"Out of {samples} trials, the MSE is {res:.3f}\")\n",
    "        array.append(res)\n",
    "    dat[s] = [np.array(array).mean(), np.array(array).std()]\n",
    "    print(s,np.array(array).mean()/np.array(array).std())\n",
    "        "
   ]
  },
  {
   "cell_type": "code",
   "execution_count": 109,
   "metadata": {},
   "outputs": [
    {
     "name": "stdout",
     "output_type": "stream",
     "text": [
      "[0.5503443099442408, 0.016825904230019558]\n"
     ]
    }
   ],
   "source": [
    "print(dat[50])"
   ]
  },
  {
   "cell_type": "code",
   "execution_count": 20,
   "metadata": {},
   "outputs": [
    {
     "name": "stdout",
     "output_type": "stream",
     "text": [
      "3.327880245275264 3.327880245275264\n",
      "0 3.327880245275264\n",
      "3.394586564174972 3.394586564174972\n",
      "1 3.4612928830746803\n",
      "3.382254254481424 3.357589635094329\n",
      "2 3.357589635094329\n",
      "3.35542593942453 3.3427349401847968\n",
      "3 3.274940994253848\n",
      "3.355446914527208 3.3555308149379215\n",
      "4 3.3555308149379215\n",
      "3.344303880474495 3.3417055301065925\n",
      "5 3.288588710210929\n",
      "3.331307835510668 3.327880245275264\n",
      "6 3.253331565727706\n",
      "3.3527220467343994 3.3417055301065925\n",
      "7 3.5026215253005164\n",
      "3.340657831551241 3.327880245275264\n",
      "8 3.2441441100859736\n",
      "3.3360222596815077 3.3110911790645856\n",
      "9 3.2943021128539067\n"
     ]
    }
   ],
   "source": [
    "medians = []\n",
    "for j in range(10):\n",
    "    model = LinearRegression()\n",
    "    mse_array = []\n",
    "    mean_array = []\n",
    "    median_array = []\n",
    "    cv_array = []\n",
    "    std_array = []\n",
    "    for i in range(5000):\n",
    "        X_train_testing = X_train.copy()\n",
    "        uc_X_train = unclean_df(df = X_train_testing, missing_percentage=0.2)\n",
    "        nona_X_train, nona_y_train = remove_na(df_X = uc_X_train, df_y = y_train)\n",
    "        model.fit(nona_X_train, nona_y_train)\n",
    "        y_pred = model.predict(X_test)\n",
    "        mse = mean_squared_error(y_test, y_pred)\n",
    "        \n",
    "        mse_array.append(mse/mse_base)\n",
    "        #mean = np.mean(mse_array)\n",
    "        #std = np.std(mse_array)\n",
    "        #mean_array.append(mean)\n",
    "        median_array.append(np.median(mse_array))\n",
    "        #std_array.append(std)\n",
    "        #cv_array.append(std/mean*100)\n",
    "    medians.append(median_array[-1])\n",
    "    print(np.mean(medians), np.median(medians))\n",
    "    print(j, median_array[-1])\n",
    "            "
   ]
  },
  {
   "cell_type": "code",
   "execution_count": 22,
   "metadata": {},
   "outputs": [
    {
     "name": "stdout",
     "output_type": "stream",
     "text": [
      "3.3360222596815077\n",
      "0.08207365636529661\n",
      "[3.327880245275264, 3.4612928830746803, 3.357589635094329, 3.274940994253848, 3.3555308149379215, 3.288588710210929, 3.253331565727706, 3.5026215253005164, 3.2441441100859736, 3.2943021128539067]\n"
     ]
    }
   ],
   "source": [
    "#10x5000 50k\n",
    "values = [3.327880245275264, 3.4612928830746803, 3.357589635094329, 3.274940994253848, 3.3555308149379215, 3.288588710210929, 3.253331565727706, 3.5026215253005164, 3.2441441100859736, 3.2943021128539067]\n",
    "print(np.mean(values))\n",
    "print(np.std(values))\n",
    "print(values)\n"
   ]
  },
  {
   "cell_type": "code",
   "execution_count": 24,
   "metadata": {},
   "outputs": [
    {
     "name": "stdout",
     "output_type": "stream",
     "text": [
      "3.3460226674906566\n",
      "0.1242158032573488\n",
      "[3.4376347158664244, 3.171580983297706, 3.5011636762403775, 3.2619653853847783, 3.2951237407960523, 3.2376586627135233, 3.595510072930888, 3.3197196678389655, 3.2665110438313443, 3.3733587260065043]\n"
     ]
    }
   ],
   "source": [
    "#10x2000 20k\n",
    "values = [3.4376347158664244, 3.171580983297706, 3.5011636762403775, 3.2619653853847783, 3.2951237407960523, 3.2376586627135233, 3.595510072930888, 3.3197196678389655, 3.2665110438313443, 3.3733587260065043]\n",
    "print(np.mean(values))\n",
    "print(np.std(values))\n",
    "print(values)\n"
   ]
  },
  {
   "cell_type": "code",
   "execution_count": 25,
   "metadata": {},
   "outputs": [
    {
     "name": "stdout",
     "output_type": "stream",
     "text": [
      "3.2844952795451148\n",
      "0.4354236070894812\n",
      "[3.2449768334294173, 3.377668911564963, 3.745694854483121, 3.341872831103161, 3.389833225094573, 3.287254459614655, 3.818407202444228, 3.5392590731504185, 3.6763509551129125, 2.8727369944420493, 3.235944502883862, 3.1782726746006698, 1.5811353709152407, 3.1159598262266286, 3.6643917157158725, 3.3312595691194176, 3.833441483607693, 3.1796581847538516, 3.18872722193215, 3.6525409188193496, 3.090049444337705, 3.172172587913545, 3.6722327693047676, 3.058631987257057, 3.4323437364418057, 3.0661657375976734, 3.245569690885966, 2.983057292865514, 3.354759629637024, 2.979685249144371, 3.3192152916536575, 3.2608384349224346, 3.5521544595997554, 3.4562735156590363, 3.3966145545351907, 2.8226999678510585, 2.533600642112428, 4.37761281956724, 3.3947439904520476, 2.7462787794329895, 3.999552075156877, 2.89433793654894, 3.658914578453439, 2.7422175004091844, 2.927537488858441, 2.9307012390427873, 3.95293636406072, 3.369552676138811, 3.687587361028585, 2.8913393673724577]\n"
     ]
    }
   ],
   "source": [
    "#50x300 15k\n",
    "values = [3.2449768334294173, 3.377668911564963, 3.745694854483121, 3.341872831103161, 3.389833225094573, 3.287254459614655, 3.818407202444228, 3.5392590731504185, 3.6763509551129125, 2.8727369944420493, 3.235944502883862, 3.1782726746006698, 1.5811353709152407, 3.1159598262266286, 3.6643917157158725, 3.3312595691194176, 3.833441483607693, 3.1796581847538516, 3.18872722193215, 3.6525409188193496, 3.090049444337705, 3.172172587913545, 3.6722327693047676, 3.058631987257057, 3.4323437364418057, 3.0661657375976734, 3.245569690885966, 2.983057292865514, 3.354759629637024, 2.979685249144371, 3.3192152916536575, 3.2608384349224346, 3.5521544595997554, 3.4562735156590363, 3.3966145545351907, 2.8226999678510585, 2.533600642112428, 4.37761281956724, 3.3947439904520476, 2.7462787794329895, 3.999552075156877, 2.89433793654894, 3.658914578453439, 2.7422175004091844, 2.927537488858441, 2.9307012390427873, 3.95293636406072, 3.369552676138811, 3.687587361028585, 2.8913393673724577]\n",
    "print(np.mean(values))\n",
    "print(np.std(values))\n",
    "print(values)"
   ]
  },
  {
   "cell_type": "code",
   "execution_count": 26,
   "metadata": {},
   "outputs": [
    {
     "name": "stdout",
     "output_type": "stream",
     "text": [
      "3.293630792191223\n",
      "0.21391295042534003\n",
      "[3.4394095192618535, 3.615864327348639, 3.6269170871708143, 3.20048570812129, 3.089724308665157, 3.287636004301067, 3.1600876264977824, 3.4483581993730166, 3.460831276114738, 3.378088654590651, 3.0209822458663855, 3.484882803002507, 3.473739563649847, 3.0655851820711066, 3.291860137056357, 3.20622900900359, 2.9926461227776606, 3.0838926170577414, 3.599345156725983, 2.9460502951682805]\n"
     ]
    }
   ],
   "source": [
    "#20x1000 20k\n",
    "values = [3.4394095192618535, 3.615864327348639, 3.6269170871708143, 3.20048570812129, 3.089724308665157, 3.287636004301067, 3.1600876264977824, 3.4483581993730166, 3.460831276114738, 3.378088654590651, 3.0209822458663855, 3.484882803002507, 3.473739563649847, 3.0655851820711066, 3.291860137056357, 3.20622900900359, 2.9926461227776606, 3.0838926170577414, 3.599345156725983, 2.9460502951682805]\n",
    "print(np.mean(values))\n",
    "print(np.std(values))\n",
    "print(values)"
   ]
  },
  {
   "cell_type": "code",
   "execution_count": 27,
   "metadata": {},
   "outputs": [
    {
     "name": "stdout",
     "output_type": "stream",
     "text": [
      "3.259886818088338\n",
      "0.066200462074394\n",
      "[3.201568069061337, 3.213140384398362, 3.236317727146057, 3.2629776937396846, 3.3854302160962506]\n"
     ]
    }
   ],
   "source": [
    "#5x5000 25k\n",
    "values = [3.201568069061337, 3.213140384398362, 3.236317727146057, 3.2629776937396846, 3.3854302160962506]\n",
    "print(np.mean(values))\n",
    "print(np.std(values))\n",
    "print(values)"
   ]
  },
  {
   "cell_type": "code",
   "execution_count": 161,
   "metadata": {},
   "outputs": [
    {
     "name": "stdout",
     "output_type": "stream",
     "text": [
      "14.265114700639796\n",
      "3.493093347290814\n",
      "14.30840334135783\n",
      "14.158984460021559\n",
      "3.5872695623261657\n",
      "3.4886314355636876\n"
     ]
    }
   ],
   "source": [
    "#round 1\n",
    "print(mean_array[-1])\n",
    "print(median_array[-1])\n",
    "print(np.mean(mean_array))\n",
    "print(np.median(mean_array))\n",
    "print(np.mean(median_array))\n",
    "print(np.median(median_array))"
   ]
  },
  {
   "cell_type": "code",
   "execution_count": 168,
   "metadata": {},
   "outputs": [
    {
     "name": "stdout",
     "output_type": "stream",
     "text": [
      "13.598078264284128\n",
      "3.205806404836883\n",
      "13.868958751532391\n",
      "13.756609745222967\n",
      "3.4117068267330555\n",
      "3.278013557416217\n"
     ]
    }
   ],
   "source": [
    "#round 2\n",
    "print(mean_array[-1])\n",
    "print(median_array[-1])\n",
    "print(np.mean(mean_array))\n",
    "print(np.median(mean_array))\n",
    "print(np.mean(median_array))\n",
    "print(np.median(median_array))"
   ]
  },
  {
   "cell_type": "code",
   "execution_count": 170,
   "metadata": {},
   "outputs": [
    {
     "name": "stdout",
     "output_type": "stream",
     "text": [
      "13.60159992285426\n",
      "3.2218040556590966\n",
      "13.56899209077242\n",
      "13.529322994295768\n",
      "3.2108811678677562\n",
      "3.185513047708655\n"
     ]
    }
   ],
   "source": [
    "#round 3\n",
    "print(mean_array[-1])\n",
    "print(median_array[-1])\n",
    "print(np.mean(mean_array))\n",
    "print(np.median(mean_array))\n",
    "print(np.mean(median_array))\n",
    "print(np.median(median_array))"
   ]
  },
  {
   "cell_type": "code",
   "execution_count": 172,
   "metadata": {},
   "outputs": [
    {
     "name": "stdout",
     "output_type": "stream",
     "text": [
      "14.164656170938967\n",
      "3.2806866693939147\n",
      "14.200324169850548\n",
      "14.133510724396526\n",
      "3.2565711170204676\n",
      "3.2613582924655566\n"
     ]
    }
   ],
   "source": [
    "#round 4\n",
    "print(mean_array[-1])\n",
    "print(median_array[-1])\n",
    "print(np.mean(mean_array))\n",
    "print(np.median(mean_array))\n",
    "print(np.mean(median_array))\n",
    "print(np.median(median_array))"
   ]
  },
  {
   "cell_type": "code",
   "execution_count": 174,
   "metadata": {},
   "outputs": [
    {
     "name": "stdout",
     "output_type": "stream",
     "text": [
      "14.03855394287025\n",
      "3.2939291402335797\n",
      "14.23975325750225\n",
      "14.16707137970554\n",
      "3.31618930839682\n",
      "3.3305067336027134\n"
     ]
    }
   ],
   "source": [
    "#round 5\n",
    "print(mean_array[-1])\n",
    "print(median_array[-1])\n",
    "print(np.mean(mean_array))\n",
    "print(np.median(mean_array))\n",
    "print(np.mean(median_array))\n",
    "print(np.median(median_array))"
   ]
  },
  {
   "cell_type": "code",
   "execution_count": 156,
   "metadata": {},
   "outputs": [
    {
     "name": "stdout",
     "output_type": "stream",
     "text": [
      "0.06752498670066134\n",
      "0.11583670680915746\n"
     ]
    }
   ],
   "source": [
    "print(np.std(mean_array))\n",
    "print(np.std(median_array))"
   ]
  },
  {
   "cell_type": "code",
   "execution_count": 1,
   "metadata": {},
   "outputs": [
    {
     "ename": "NameError",
     "evalue": "name 'mean_array' is not defined",
     "output_type": "error",
     "traceback": [
      "\u001b[1;31m---------------------------------------------------------------------------\u001b[0m",
      "\u001b[1;31mNameError\u001b[0m                                 Traceback (most recent call last)",
      "\u001b[1;32m<ipython-input-1-dea264a7d009>\u001b[0m in \u001b[0;36m<module>\u001b[1;34m\u001b[0m\n\u001b[0;32m      2\u001b[0m \u001b[1;33m\u001b[0m\u001b[0m\n\u001b[0;32m      3\u001b[0m \u001b[1;31m# Sample data for demonstration\u001b[0m\u001b[1;33m\u001b[0m\u001b[1;33m\u001b[0m\u001b[1;33m\u001b[0m\u001b[0m\n\u001b[1;32m----> 4\u001b[1;33m \u001b[0mx\u001b[0m \u001b[1;33m=\u001b[0m \u001b[0mlist\u001b[0m\u001b[1;33m(\u001b[0m\u001b[0mrange\u001b[0m\u001b[1;33m(\u001b[0m\u001b[0mlen\u001b[0m\u001b[1;33m(\u001b[0m\u001b[0mmean_array\u001b[0m\u001b[1;33m)\u001b[0m\u001b[1;33m)\u001b[0m\u001b[1;33m)\u001b[0m\u001b[1;33m\u001b[0m\u001b[1;33m\u001b[0m\u001b[0m\n\u001b[0m\u001b[0;32m      5\u001b[0m \u001b[1;33m\u001b[0m\u001b[0m\n\u001b[0;32m      6\u001b[0m \u001b[0mfig\u001b[0m \u001b[1;33m=\u001b[0m \u001b[0mgo\u001b[0m\u001b[1;33m.\u001b[0m\u001b[0mFigure\u001b[0m\u001b[1;33m(\u001b[0m\u001b[1;33m)\u001b[0m\u001b[1;33m\u001b[0m\u001b[1;33m\u001b[0m\u001b[0m\n",
      "\u001b[1;31mNameError\u001b[0m: name 'mean_array' is not defined"
     ]
    }
   ],
   "source": [
    "import plotly.graph_objects as go\n",
    "\n",
    "# Sample data for demonstration\n",
    "x = list(range(len(mean_array)))\n",
    "\n",
    "fig = go.Figure()\n",
    "\n",
    "# Define the first trace\n",
    "fig.add_trace(go.Scatter(x=x,y=mean_array,mode='markers',name='mean'))\n",
    "fig.add_trace(go.Scatter(x=x,y=median_array,mode='markers',name='median'))\n",
    "fig.add_trace(go.Scatter(x=x,y=std_array,mode='markers',name='std'))\n",
    "fig.add_trace(go.Scatter(x=x,y=cv_array,mode='markers',name='cv'))\n",
    "fig.add_trace(go.Scatter(x=x,y=mse_array,mode='markers',name='mse'))\n",
    "# Define the second\n",
    "\n",
    "# Update layout if needed\n",
    "fig.update_layout(\n",
    "    title='Scatter Plot with Multiple Traces',\n",
    "    xaxis_title='X Axis',\n",
    "    yaxis_title='Y Axis'\n",
    ")\n",
    "\n",
    "# Show the plot\n",
    "fig.show()"
   ]
  },
  {
   "cell_type": "code",
   "execution_count": 13,
   "metadata": {},
   "outputs": [
    {
     "data": {
      "application/vnd.plotly.v1+json": {
       "config": {
        "plotlyServerURL": "https://plot.ly"
       },
       "data": [
        {
         "type": "histogram",
         "x": [
          3.4394095192618535,
          3.615864327348639,
          3.6269170871708143,
          3.20048570812129,
          3.089724308665157,
          3.287636004301067,
          3.1600876264977824,
          3.4483581993730166,
          3.460831276114738,
          3.378088654590651,
          3.0209822458663855,
          3.484882803002507,
          3.473739563649847,
          3.0655851820711066,
          3.291860137056357,
          3.20622900900359,
          2.9926461227776606,
          3.0838926170577414,
          3.599345156725983,
          2.9460502951682805
         ]
        }
       ],
       "layout": {
        "template": {
         "data": {
          "bar": [
           {
            "error_x": {
             "color": "#2a3f5f"
            },
            "error_y": {
             "color": "#2a3f5f"
            },
            "marker": {
             "line": {
              "color": "#E5ECF6",
              "width": 0.5
             },
             "pattern": {
              "fillmode": "overlay",
              "size": 10,
              "solidity": 0.2
             }
            },
            "type": "bar"
           }
          ],
          "barpolar": [
           {
            "marker": {
             "line": {
              "color": "#E5ECF6",
              "width": 0.5
             },
             "pattern": {
              "fillmode": "overlay",
              "size": 10,
              "solidity": 0.2
             }
            },
            "type": "barpolar"
           }
          ],
          "carpet": [
           {
            "aaxis": {
             "endlinecolor": "#2a3f5f",
             "gridcolor": "white",
             "linecolor": "white",
             "minorgridcolor": "white",
             "startlinecolor": "#2a3f5f"
            },
            "baxis": {
             "endlinecolor": "#2a3f5f",
             "gridcolor": "white",
             "linecolor": "white",
             "minorgridcolor": "white",
             "startlinecolor": "#2a3f5f"
            },
            "type": "carpet"
           }
          ],
          "choropleth": [
           {
            "colorbar": {
             "outlinewidth": 0,
             "ticks": ""
            },
            "type": "choropleth"
           }
          ],
          "contour": [
           {
            "colorbar": {
             "outlinewidth": 0,
             "ticks": ""
            },
            "colorscale": [
             [
              0,
              "#0d0887"
             ],
             [
              0.1111111111111111,
              "#46039f"
             ],
             [
              0.2222222222222222,
              "#7201a8"
             ],
             [
              0.3333333333333333,
              "#9c179e"
             ],
             [
              0.4444444444444444,
              "#bd3786"
             ],
             [
              0.5555555555555556,
              "#d8576b"
             ],
             [
              0.6666666666666666,
              "#ed7953"
             ],
             [
              0.7777777777777778,
              "#fb9f3a"
             ],
             [
              0.8888888888888888,
              "#fdca26"
             ],
             [
              1,
              "#f0f921"
             ]
            ],
            "type": "contour"
           }
          ],
          "contourcarpet": [
           {
            "colorbar": {
             "outlinewidth": 0,
             "ticks": ""
            },
            "type": "contourcarpet"
           }
          ],
          "heatmap": [
           {
            "colorbar": {
             "outlinewidth": 0,
             "ticks": ""
            },
            "colorscale": [
             [
              0,
              "#0d0887"
             ],
             [
              0.1111111111111111,
              "#46039f"
             ],
             [
              0.2222222222222222,
              "#7201a8"
             ],
             [
              0.3333333333333333,
              "#9c179e"
             ],
             [
              0.4444444444444444,
              "#bd3786"
             ],
             [
              0.5555555555555556,
              "#d8576b"
             ],
             [
              0.6666666666666666,
              "#ed7953"
             ],
             [
              0.7777777777777778,
              "#fb9f3a"
             ],
             [
              0.8888888888888888,
              "#fdca26"
             ],
             [
              1,
              "#f0f921"
             ]
            ],
            "type": "heatmap"
           }
          ],
          "heatmapgl": [
           {
            "colorbar": {
             "outlinewidth": 0,
             "ticks": ""
            },
            "colorscale": [
             [
              0,
              "#0d0887"
             ],
             [
              0.1111111111111111,
              "#46039f"
             ],
             [
              0.2222222222222222,
              "#7201a8"
             ],
             [
              0.3333333333333333,
              "#9c179e"
             ],
             [
              0.4444444444444444,
              "#bd3786"
             ],
             [
              0.5555555555555556,
              "#d8576b"
             ],
             [
              0.6666666666666666,
              "#ed7953"
             ],
             [
              0.7777777777777778,
              "#fb9f3a"
             ],
             [
              0.8888888888888888,
              "#fdca26"
             ],
             [
              1,
              "#f0f921"
             ]
            ],
            "type": "heatmapgl"
           }
          ],
          "histogram": [
           {
            "marker": {
             "pattern": {
              "fillmode": "overlay",
              "size": 10,
              "solidity": 0.2
             }
            },
            "type": "histogram"
           }
          ],
          "histogram2d": [
           {
            "colorbar": {
             "outlinewidth": 0,
             "ticks": ""
            },
            "colorscale": [
             [
              0,
              "#0d0887"
             ],
             [
              0.1111111111111111,
              "#46039f"
             ],
             [
              0.2222222222222222,
              "#7201a8"
             ],
             [
              0.3333333333333333,
              "#9c179e"
             ],
             [
              0.4444444444444444,
              "#bd3786"
             ],
             [
              0.5555555555555556,
              "#d8576b"
             ],
             [
              0.6666666666666666,
              "#ed7953"
             ],
             [
              0.7777777777777778,
              "#fb9f3a"
             ],
             [
              0.8888888888888888,
              "#fdca26"
             ],
             [
              1,
              "#f0f921"
             ]
            ],
            "type": "histogram2d"
           }
          ],
          "histogram2dcontour": [
           {
            "colorbar": {
             "outlinewidth": 0,
             "ticks": ""
            },
            "colorscale": [
             [
              0,
              "#0d0887"
             ],
             [
              0.1111111111111111,
              "#46039f"
             ],
             [
              0.2222222222222222,
              "#7201a8"
             ],
             [
              0.3333333333333333,
              "#9c179e"
             ],
             [
              0.4444444444444444,
              "#bd3786"
             ],
             [
              0.5555555555555556,
              "#d8576b"
             ],
             [
              0.6666666666666666,
              "#ed7953"
             ],
             [
              0.7777777777777778,
              "#fb9f3a"
             ],
             [
              0.8888888888888888,
              "#fdca26"
             ],
             [
              1,
              "#f0f921"
             ]
            ],
            "type": "histogram2dcontour"
           }
          ],
          "mesh3d": [
           {
            "colorbar": {
             "outlinewidth": 0,
             "ticks": ""
            },
            "type": "mesh3d"
           }
          ],
          "parcoords": [
           {
            "line": {
             "colorbar": {
              "outlinewidth": 0,
              "ticks": ""
             }
            },
            "type": "parcoords"
           }
          ],
          "pie": [
           {
            "automargin": true,
            "type": "pie"
           }
          ],
          "scatter": [
           {
            "fillpattern": {
             "fillmode": "overlay",
             "size": 10,
             "solidity": 0.2
            },
            "type": "scatter"
           }
          ],
          "scatter3d": [
           {
            "line": {
             "colorbar": {
              "outlinewidth": 0,
              "ticks": ""
             }
            },
            "marker": {
             "colorbar": {
              "outlinewidth": 0,
              "ticks": ""
             }
            },
            "type": "scatter3d"
           }
          ],
          "scattercarpet": [
           {
            "marker": {
             "colorbar": {
              "outlinewidth": 0,
              "ticks": ""
             }
            },
            "type": "scattercarpet"
           }
          ],
          "scattergeo": [
           {
            "marker": {
             "colorbar": {
              "outlinewidth": 0,
              "ticks": ""
             }
            },
            "type": "scattergeo"
           }
          ],
          "scattergl": [
           {
            "marker": {
             "colorbar": {
              "outlinewidth": 0,
              "ticks": ""
             }
            },
            "type": "scattergl"
           }
          ],
          "scattermapbox": [
           {
            "marker": {
             "colorbar": {
              "outlinewidth": 0,
              "ticks": ""
             }
            },
            "type": "scattermapbox"
           }
          ],
          "scatterpolar": [
           {
            "marker": {
             "colorbar": {
              "outlinewidth": 0,
              "ticks": ""
             }
            },
            "type": "scatterpolar"
           }
          ],
          "scatterpolargl": [
           {
            "marker": {
             "colorbar": {
              "outlinewidth": 0,
              "ticks": ""
             }
            },
            "type": "scatterpolargl"
           }
          ],
          "scatterternary": [
           {
            "marker": {
             "colorbar": {
              "outlinewidth": 0,
              "ticks": ""
             }
            },
            "type": "scatterternary"
           }
          ],
          "surface": [
           {
            "colorbar": {
             "outlinewidth": 0,
             "ticks": ""
            },
            "colorscale": [
             [
              0,
              "#0d0887"
             ],
             [
              0.1111111111111111,
              "#46039f"
             ],
             [
              0.2222222222222222,
              "#7201a8"
             ],
             [
              0.3333333333333333,
              "#9c179e"
             ],
             [
              0.4444444444444444,
              "#bd3786"
             ],
             [
              0.5555555555555556,
              "#d8576b"
             ],
             [
              0.6666666666666666,
              "#ed7953"
             ],
             [
              0.7777777777777778,
              "#fb9f3a"
             ],
             [
              0.8888888888888888,
              "#fdca26"
             ],
             [
              1,
              "#f0f921"
             ]
            ],
            "type": "surface"
           }
          ],
          "table": [
           {
            "cells": {
             "fill": {
              "color": "#EBF0F8"
             },
             "line": {
              "color": "white"
             }
            },
            "header": {
             "fill": {
              "color": "#C8D4E3"
             },
             "line": {
              "color": "white"
             }
            },
            "type": "table"
           }
          ]
         },
         "layout": {
          "annotationdefaults": {
           "arrowcolor": "#2a3f5f",
           "arrowhead": 0,
           "arrowwidth": 1
          },
          "autotypenumbers": "strict",
          "coloraxis": {
           "colorbar": {
            "outlinewidth": 0,
            "ticks": ""
           }
          },
          "colorscale": {
           "diverging": [
            [
             0,
             "#8e0152"
            ],
            [
             0.1,
             "#c51b7d"
            ],
            [
             0.2,
             "#de77ae"
            ],
            [
             0.3,
             "#f1b6da"
            ],
            [
             0.4,
             "#fde0ef"
            ],
            [
             0.5,
             "#f7f7f7"
            ],
            [
             0.6,
             "#e6f5d0"
            ],
            [
             0.7,
             "#b8e186"
            ],
            [
             0.8,
             "#7fbc41"
            ],
            [
             0.9,
             "#4d9221"
            ],
            [
             1,
             "#276419"
            ]
           ],
           "sequential": [
            [
             0,
             "#0d0887"
            ],
            [
             0.1111111111111111,
             "#46039f"
            ],
            [
             0.2222222222222222,
             "#7201a8"
            ],
            [
             0.3333333333333333,
             "#9c179e"
            ],
            [
             0.4444444444444444,
             "#bd3786"
            ],
            [
             0.5555555555555556,
             "#d8576b"
            ],
            [
             0.6666666666666666,
             "#ed7953"
            ],
            [
             0.7777777777777778,
             "#fb9f3a"
            ],
            [
             0.8888888888888888,
             "#fdca26"
            ],
            [
             1,
             "#f0f921"
            ]
           ],
           "sequentialminus": [
            [
             0,
             "#0d0887"
            ],
            [
             0.1111111111111111,
             "#46039f"
            ],
            [
             0.2222222222222222,
             "#7201a8"
            ],
            [
             0.3333333333333333,
             "#9c179e"
            ],
            [
             0.4444444444444444,
             "#bd3786"
            ],
            [
             0.5555555555555556,
             "#d8576b"
            ],
            [
             0.6666666666666666,
             "#ed7953"
            ],
            [
             0.7777777777777778,
             "#fb9f3a"
            ],
            [
             0.8888888888888888,
             "#fdca26"
            ],
            [
             1,
             "#f0f921"
            ]
           ]
          },
          "colorway": [
           "#636efa",
           "#EF553B",
           "#00cc96",
           "#ab63fa",
           "#FFA15A",
           "#19d3f3",
           "#FF6692",
           "#B6E880",
           "#FF97FF",
           "#FECB52"
          ],
          "font": {
           "color": "#2a3f5f"
          },
          "geo": {
           "bgcolor": "white",
           "lakecolor": "white",
           "landcolor": "#E5ECF6",
           "showlakes": true,
           "showland": true,
           "subunitcolor": "white"
          },
          "hoverlabel": {
           "align": "left"
          },
          "hovermode": "closest",
          "mapbox": {
           "style": "light"
          },
          "paper_bgcolor": "white",
          "plot_bgcolor": "#E5ECF6",
          "polar": {
           "angularaxis": {
            "gridcolor": "white",
            "linecolor": "white",
            "ticks": ""
           },
           "bgcolor": "#E5ECF6",
           "radialaxis": {
            "gridcolor": "white",
            "linecolor": "white",
            "ticks": ""
           }
          },
          "scene": {
           "xaxis": {
            "backgroundcolor": "#E5ECF6",
            "gridcolor": "white",
            "gridwidth": 2,
            "linecolor": "white",
            "showbackground": true,
            "ticks": "",
            "zerolinecolor": "white"
           },
           "yaxis": {
            "backgroundcolor": "#E5ECF6",
            "gridcolor": "white",
            "gridwidth": 2,
            "linecolor": "white",
            "showbackground": true,
            "ticks": "",
            "zerolinecolor": "white"
           },
           "zaxis": {
            "backgroundcolor": "#E5ECF6",
            "gridcolor": "white",
            "gridwidth": 2,
            "linecolor": "white",
            "showbackground": true,
            "ticks": "",
            "zerolinecolor": "white"
           }
          },
          "shapedefaults": {
           "line": {
            "color": "#2a3f5f"
           }
          },
          "ternary": {
           "aaxis": {
            "gridcolor": "white",
            "linecolor": "white",
            "ticks": ""
           },
           "baxis": {
            "gridcolor": "white",
            "linecolor": "white",
            "ticks": ""
           },
           "bgcolor": "#E5ECF6",
           "caxis": {
            "gridcolor": "white",
            "linecolor": "white",
            "ticks": ""
           }
          },
          "title": {
           "x": 0.05
          },
          "xaxis": {
           "automargin": true,
           "gridcolor": "white",
           "linecolor": "white",
           "ticks": "",
           "title": {
            "standoff": 15
           },
           "zerolinecolor": "white",
           "zerolinewidth": 2
          },
          "yaxis": {
           "automargin": true,
           "gridcolor": "white",
           "linecolor": "white",
           "ticks": "",
           "title": {
            "standoff": 15
           },
           "zerolinecolor": "white",
           "zerolinewidth": 2
          }
         }
        },
        "title": {
         "text": "Distribution of Array"
        },
        "xaxis": {
         "title": {
          "text": "Value"
         }
        },
        "yaxis": {
         "title": {
          "text": "Frequency"
         }
        }
       }
      }
     },
     "metadata": {},
     "output_type": "display_data"
    }
   ],
   "source": [
    "import plotly.graph_objects as go\n",
    "import numpy as np\n",
    "\n",
    "# Assuming data_array is your array\n",
    "# Create a histogram trace\n",
    "fig = go.Figure(data=[go.Histogram(x=medians)])\n",
    "\n",
    "# Update layout\n",
    "fig.update_layout(\n",
    "    title=\"Distribution of Array\",\n",
    "    xaxis_title=\"Value\",\n",
    "    yaxis_title=\"Frequency\"\n",
    ")\n",
    "\n",
    "# Show the plot\n",
    "fig.show()\n"
   ]
  },
  {
   "cell_type": "markdown",
   "metadata": {},
   "source": [
    "Fill df nan values"
   ]
  },
  {
   "cell_type": "code",
   "execution_count": 36,
   "metadata": {},
   "outputs": [
    {
     "name": "stdout",
     "output_type": "stream",
     "text": [
      "0.28\n",
      "0.2825\n",
      "0.285\n",
      "0.2875\n",
      "0.29\n",
      "0.2925\n",
      "0.295\n",
      "0.2975\n",
      "0.3\n",
      "0.3025\n",
      "0.305\n",
      "0.3075\n"
     ]
    }
   ],
   "source": [
    "X_train, X_test, y_train, y_test = train_test_split(X, y, test_size=0.2, random_state=random.randint(1,1000))\n",
    "model_type = LinearRegression()\n",
    "\n",
    "mps, nonas, fills = [],[],[]\n",
    "for mp in np.arange(0.28, 0.31, 0.0025):\n",
    "    nona_mse = []\n",
    "    fill_mse = []\n",
    "    mp = np.round(mp,5)\n",
    "    print(mp)\n",
    "    for i in range(1500):\n",
    "        X_train, X_test, y_train, y_test = train_test_split(X, y, test_size=0.2, random_state=random.randint(1,1000))\n",
    "        model = model_type\n",
    "        model.fit(X_train, y_train)\n",
    "        y_pred = model.predict(X_test)\n",
    "        mse_base = mean_squared_error(y_test, y_pred)\n",
    "\n",
    "        X_train_testing = X_train.copy()\n",
    "        uc_X_train = unclean_df(df = X_train_testing, missing_percentage=mp)\n",
    "        nona_model = model_type\n",
    "        nona_X_train, nona_y_train = remove_na(df_X = uc_X_train, df_y = y_train)\n",
    "        #print('You have:', round((len(nona_X_train)/len(X_train_testing))*100,3),\"% of your data\")\n",
    "        nona_model.fit(nona_X_train, nona_y_train)\n",
    "        nona_y_pred = nona_model.predict(X_test)\n",
    "        nona_mse.append(mean_squared_error(y_test, nona_y_pred)/mse_base)\n",
    "\n",
    "        fill_model = model_type\n",
    "        #fill_type = df.mean()\n",
    "        fill_type = df.mean()\n",
    "        fill_X_train = uc_X_train.fillna(fill_type)\n",
    "        fill_model.fit(fill_X_train, y_train)\n",
    "        fill_y_pred = fill_model.predict(X_test)\n",
    "        fill_mse.append(mean_squared_error(y_test, fill_y_pred)/mse_base)\n",
    "    mps.append(mp)\n",
    "    nonas.append(np.median(nona_mse))\n",
    "    fills.append(np.median(fill_mse))\n",
    "\n"
   ]
  },
  {
   "cell_type": "code",
   "execution_count": 37,
   "metadata": {},
   "outputs": [
    {
     "data": {
      "application/vnd.plotly.v1+json": {
       "config": {
        "plotlyServerURL": "https://plot.ly"
       },
       "data": [
        {
         "mode": "lines+markers",
         "name": "No Nans",
         "type": "scatter",
         "x": [
          0.28,
          0.2825,
          0.285,
          0.2875,
          0.29,
          0.2925,
          0.295,
          0.2975,
          0.3,
          0.3025,
          0.305,
          0.3075
         ],
         "y": [
          1.1095197759393323,
          1.2288972464721715,
          1.113571710053706,
          1.1400826453709119,
          1.1552082981984886,
          1.1557235793182492,
          1.1507520760562002,
          1.1424830120922351,
          1.1411618389284806,
          1.1647008540507686,
          1.2198044194834152,
          1.2471459673775067
         ]
        },
        {
         "mode": "lines+markers",
         "name": "Mean Fills",
         "type": "scatter",
         "x": [
          0.28,
          0.2825,
          0.285,
          0.2875,
          0.29,
          0.2925,
          0.295,
          0.2975,
          0.3,
          0.3025,
          0.305,
          0.3075
         ],
         "y": [
          1.1561061633834457,
          1.1552478036955471,
          1.1582689099031405,
          1.1581624380830444,
          1.159080745944581,
          1.1595288588154555,
          1.1608347908956982,
          1.1610761388323443,
          1.160815640866233,
          1.1631555919048098,
          1.1637482974506184,
          1.163370260065272
         ]
        }
       ],
       "layout": {
        "template": {
         "data": {
          "bar": [
           {
            "error_x": {
             "color": "#2a3f5f"
            },
            "error_y": {
             "color": "#2a3f5f"
            },
            "marker": {
             "line": {
              "color": "#E5ECF6",
              "width": 0.5
             },
             "pattern": {
              "fillmode": "overlay",
              "size": 10,
              "solidity": 0.2
             }
            },
            "type": "bar"
           }
          ],
          "barpolar": [
           {
            "marker": {
             "line": {
              "color": "#E5ECF6",
              "width": 0.5
             },
             "pattern": {
              "fillmode": "overlay",
              "size": 10,
              "solidity": 0.2
             }
            },
            "type": "barpolar"
           }
          ],
          "carpet": [
           {
            "aaxis": {
             "endlinecolor": "#2a3f5f",
             "gridcolor": "white",
             "linecolor": "white",
             "minorgridcolor": "white",
             "startlinecolor": "#2a3f5f"
            },
            "baxis": {
             "endlinecolor": "#2a3f5f",
             "gridcolor": "white",
             "linecolor": "white",
             "minorgridcolor": "white",
             "startlinecolor": "#2a3f5f"
            },
            "type": "carpet"
           }
          ],
          "choropleth": [
           {
            "colorbar": {
             "outlinewidth": 0,
             "ticks": ""
            },
            "type": "choropleth"
           }
          ],
          "contour": [
           {
            "colorbar": {
             "outlinewidth": 0,
             "ticks": ""
            },
            "colorscale": [
             [
              0,
              "#0d0887"
             ],
             [
              0.1111111111111111,
              "#46039f"
             ],
             [
              0.2222222222222222,
              "#7201a8"
             ],
             [
              0.3333333333333333,
              "#9c179e"
             ],
             [
              0.4444444444444444,
              "#bd3786"
             ],
             [
              0.5555555555555556,
              "#d8576b"
             ],
             [
              0.6666666666666666,
              "#ed7953"
             ],
             [
              0.7777777777777778,
              "#fb9f3a"
             ],
             [
              0.8888888888888888,
              "#fdca26"
             ],
             [
              1,
              "#f0f921"
             ]
            ],
            "type": "contour"
           }
          ],
          "contourcarpet": [
           {
            "colorbar": {
             "outlinewidth": 0,
             "ticks": ""
            },
            "type": "contourcarpet"
           }
          ],
          "heatmap": [
           {
            "colorbar": {
             "outlinewidth": 0,
             "ticks": ""
            },
            "colorscale": [
             [
              0,
              "#0d0887"
             ],
             [
              0.1111111111111111,
              "#46039f"
             ],
             [
              0.2222222222222222,
              "#7201a8"
             ],
             [
              0.3333333333333333,
              "#9c179e"
             ],
             [
              0.4444444444444444,
              "#bd3786"
             ],
             [
              0.5555555555555556,
              "#d8576b"
             ],
             [
              0.6666666666666666,
              "#ed7953"
             ],
             [
              0.7777777777777778,
              "#fb9f3a"
             ],
             [
              0.8888888888888888,
              "#fdca26"
             ],
             [
              1,
              "#f0f921"
             ]
            ],
            "type": "heatmap"
           }
          ],
          "heatmapgl": [
           {
            "colorbar": {
             "outlinewidth": 0,
             "ticks": ""
            },
            "colorscale": [
             [
              0,
              "#0d0887"
             ],
             [
              0.1111111111111111,
              "#46039f"
             ],
             [
              0.2222222222222222,
              "#7201a8"
             ],
             [
              0.3333333333333333,
              "#9c179e"
             ],
             [
              0.4444444444444444,
              "#bd3786"
             ],
             [
              0.5555555555555556,
              "#d8576b"
             ],
             [
              0.6666666666666666,
              "#ed7953"
             ],
             [
              0.7777777777777778,
              "#fb9f3a"
             ],
             [
              0.8888888888888888,
              "#fdca26"
             ],
             [
              1,
              "#f0f921"
             ]
            ],
            "type": "heatmapgl"
           }
          ],
          "histogram": [
           {
            "marker": {
             "pattern": {
              "fillmode": "overlay",
              "size": 10,
              "solidity": 0.2
             }
            },
            "type": "histogram"
           }
          ],
          "histogram2d": [
           {
            "colorbar": {
             "outlinewidth": 0,
             "ticks": ""
            },
            "colorscale": [
             [
              0,
              "#0d0887"
             ],
             [
              0.1111111111111111,
              "#46039f"
             ],
             [
              0.2222222222222222,
              "#7201a8"
             ],
             [
              0.3333333333333333,
              "#9c179e"
             ],
             [
              0.4444444444444444,
              "#bd3786"
             ],
             [
              0.5555555555555556,
              "#d8576b"
             ],
             [
              0.6666666666666666,
              "#ed7953"
             ],
             [
              0.7777777777777778,
              "#fb9f3a"
             ],
             [
              0.8888888888888888,
              "#fdca26"
             ],
             [
              1,
              "#f0f921"
             ]
            ],
            "type": "histogram2d"
           }
          ],
          "histogram2dcontour": [
           {
            "colorbar": {
             "outlinewidth": 0,
             "ticks": ""
            },
            "colorscale": [
             [
              0,
              "#0d0887"
             ],
             [
              0.1111111111111111,
              "#46039f"
             ],
             [
              0.2222222222222222,
              "#7201a8"
             ],
             [
              0.3333333333333333,
              "#9c179e"
             ],
             [
              0.4444444444444444,
              "#bd3786"
             ],
             [
              0.5555555555555556,
              "#d8576b"
             ],
             [
              0.6666666666666666,
              "#ed7953"
             ],
             [
              0.7777777777777778,
              "#fb9f3a"
             ],
             [
              0.8888888888888888,
              "#fdca26"
             ],
             [
              1,
              "#f0f921"
             ]
            ],
            "type": "histogram2dcontour"
           }
          ],
          "mesh3d": [
           {
            "colorbar": {
             "outlinewidth": 0,
             "ticks": ""
            },
            "type": "mesh3d"
           }
          ],
          "parcoords": [
           {
            "line": {
             "colorbar": {
              "outlinewidth": 0,
              "ticks": ""
             }
            },
            "type": "parcoords"
           }
          ],
          "pie": [
           {
            "automargin": true,
            "type": "pie"
           }
          ],
          "scatter": [
           {
            "fillpattern": {
             "fillmode": "overlay",
             "size": 10,
             "solidity": 0.2
            },
            "type": "scatter"
           }
          ],
          "scatter3d": [
           {
            "line": {
             "colorbar": {
              "outlinewidth": 0,
              "ticks": ""
             }
            },
            "marker": {
             "colorbar": {
              "outlinewidth": 0,
              "ticks": ""
             }
            },
            "type": "scatter3d"
           }
          ],
          "scattercarpet": [
           {
            "marker": {
             "colorbar": {
              "outlinewidth": 0,
              "ticks": ""
             }
            },
            "type": "scattercarpet"
           }
          ],
          "scattergeo": [
           {
            "marker": {
             "colorbar": {
              "outlinewidth": 0,
              "ticks": ""
             }
            },
            "type": "scattergeo"
           }
          ],
          "scattergl": [
           {
            "marker": {
             "colorbar": {
              "outlinewidth": 0,
              "ticks": ""
             }
            },
            "type": "scattergl"
           }
          ],
          "scattermapbox": [
           {
            "marker": {
             "colorbar": {
              "outlinewidth": 0,
              "ticks": ""
             }
            },
            "type": "scattermapbox"
           }
          ],
          "scatterpolar": [
           {
            "marker": {
             "colorbar": {
              "outlinewidth": 0,
              "ticks": ""
             }
            },
            "type": "scatterpolar"
           }
          ],
          "scatterpolargl": [
           {
            "marker": {
             "colorbar": {
              "outlinewidth": 0,
              "ticks": ""
             }
            },
            "type": "scatterpolargl"
           }
          ],
          "scatterternary": [
           {
            "marker": {
             "colorbar": {
              "outlinewidth": 0,
              "ticks": ""
             }
            },
            "type": "scatterternary"
           }
          ],
          "surface": [
           {
            "colorbar": {
             "outlinewidth": 0,
             "ticks": ""
            },
            "colorscale": [
             [
              0,
              "#0d0887"
             ],
             [
              0.1111111111111111,
              "#46039f"
             ],
             [
              0.2222222222222222,
              "#7201a8"
             ],
             [
              0.3333333333333333,
              "#9c179e"
             ],
             [
              0.4444444444444444,
              "#bd3786"
             ],
             [
              0.5555555555555556,
              "#d8576b"
             ],
             [
              0.6666666666666666,
              "#ed7953"
             ],
             [
              0.7777777777777778,
              "#fb9f3a"
             ],
             [
              0.8888888888888888,
              "#fdca26"
             ],
             [
              1,
              "#f0f921"
             ]
            ],
            "type": "surface"
           }
          ],
          "table": [
           {
            "cells": {
             "fill": {
              "color": "#EBF0F8"
             },
             "line": {
              "color": "white"
             }
            },
            "header": {
             "fill": {
              "color": "#C8D4E3"
             },
             "line": {
              "color": "white"
             }
            },
            "type": "table"
           }
          ]
         },
         "layout": {
          "annotationdefaults": {
           "arrowcolor": "#2a3f5f",
           "arrowhead": 0,
           "arrowwidth": 1
          },
          "autotypenumbers": "strict",
          "coloraxis": {
           "colorbar": {
            "outlinewidth": 0,
            "ticks": ""
           }
          },
          "colorscale": {
           "diverging": [
            [
             0,
             "#8e0152"
            ],
            [
             0.1,
             "#c51b7d"
            ],
            [
             0.2,
             "#de77ae"
            ],
            [
             0.3,
             "#f1b6da"
            ],
            [
             0.4,
             "#fde0ef"
            ],
            [
             0.5,
             "#f7f7f7"
            ],
            [
             0.6,
             "#e6f5d0"
            ],
            [
             0.7,
             "#b8e186"
            ],
            [
             0.8,
             "#7fbc41"
            ],
            [
             0.9,
             "#4d9221"
            ],
            [
             1,
             "#276419"
            ]
           ],
           "sequential": [
            [
             0,
             "#0d0887"
            ],
            [
             0.1111111111111111,
             "#46039f"
            ],
            [
             0.2222222222222222,
             "#7201a8"
            ],
            [
             0.3333333333333333,
             "#9c179e"
            ],
            [
             0.4444444444444444,
             "#bd3786"
            ],
            [
             0.5555555555555556,
             "#d8576b"
            ],
            [
             0.6666666666666666,
             "#ed7953"
            ],
            [
             0.7777777777777778,
             "#fb9f3a"
            ],
            [
             0.8888888888888888,
             "#fdca26"
            ],
            [
             1,
             "#f0f921"
            ]
           ],
           "sequentialminus": [
            [
             0,
             "#0d0887"
            ],
            [
             0.1111111111111111,
             "#46039f"
            ],
            [
             0.2222222222222222,
             "#7201a8"
            ],
            [
             0.3333333333333333,
             "#9c179e"
            ],
            [
             0.4444444444444444,
             "#bd3786"
            ],
            [
             0.5555555555555556,
             "#d8576b"
            ],
            [
             0.6666666666666666,
             "#ed7953"
            ],
            [
             0.7777777777777778,
             "#fb9f3a"
            ],
            [
             0.8888888888888888,
             "#fdca26"
            ],
            [
             1,
             "#f0f921"
            ]
           ]
          },
          "colorway": [
           "#636efa",
           "#EF553B",
           "#00cc96",
           "#ab63fa",
           "#FFA15A",
           "#19d3f3",
           "#FF6692",
           "#B6E880",
           "#FF97FF",
           "#FECB52"
          ],
          "font": {
           "color": "#2a3f5f"
          },
          "geo": {
           "bgcolor": "white",
           "lakecolor": "white",
           "landcolor": "#E5ECF6",
           "showlakes": true,
           "showland": true,
           "subunitcolor": "white"
          },
          "hoverlabel": {
           "align": "left"
          },
          "hovermode": "closest",
          "mapbox": {
           "style": "light"
          },
          "paper_bgcolor": "white",
          "plot_bgcolor": "#E5ECF6",
          "polar": {
           "angularaxis": {
            "gridcolor": "white",
            "linecolor": "white",
            "ticks": ""
           },
           "bgcolor": "#E5ECF6",
           "radialaxis": {
            "gridcolor": "white",
            "linecolor": "white",
            "ticks": ""
           }
          },
          "scene": {
           "xaxis": {
            "backgroundcolor": "#E5ECF6",
            "gridcolor": "white",
            "gridwidth": 2,
            "linecolor": "white",
            "showbackground": true,
            "ticks": "",
            "zerolinecolor": "white"
           },
           "yaxis": {
            "backgroundcolor": "#E5ECF6",
            "gridcolor": "white",
            "gridwidth": 2,
            "linecolor": "white",
            "showbackground": true,
            "ticks": "",
            "zerolinecolor": "white"
           },
           "zaxis": {
            "backgroundcolor": "#E5ECF6",
            "gridcolor": "white",
            "gridwidth": 2,
            "linecolor": "white",
            "showbackground": true,
            "ticks": "",
            "zerolinecolor": "white"
           }
          },
          "shapedefaults": {
           "line": {
            "color": "#2a3f5f"
           }
          },
          "ternary": {
           "aaxis": {
            "gridcolor": "white",
            "linecolor": "white",
            "ticks": ""
           },
           "baxis": {
            "gridcolor": "white",
            "linecolor": "white",
            "ticks": ""
           },
           "bgcolor": "#E5ECF6",
           "caxis": {
            "gridcolor": "white",
            "linecolor": "white",
            "ticks": ""
           }
          },
          "title": {
           "x": 0.05
          },
          "xaxis": {
           "automargin": true,
           "gridcolor": "white",
           "linecolor": "white",
           "ticks": "",
           "title": {
            "standoff": 15
           },
           "zerolinecolor": "white",
           "zerolinewidth": 2
          },
          "yaxis": {
           "automargin": true,
           "gridcolor": "white",
           "linecolor": "white",
           "ticks": "",
           "title": {
            "standoff": 15
           },
           "zerolinecolor": "white",
           "zerolinewidth": 2
          }
         }
        },
        "title": {
         "text": "Logistic regression of 1000 trials"
        },
        "xaxis": {
         "range": [
          0.28,
          0.31
         ],
         "title": {
          "text": "Missing percentage data"
         }
        },
        "yaxis": {
         "range": [
          1,
          1.4
         ],
         "title": {
          "text": "Median MSE/Full MSE"
         }
        }
       }
      }
     },
     "metadata": {},
     "output_type": "display_data"
    }
   ],
   "source": [
    "import plotly.graph_objects as go\n",
    "\n",
    "fig = go.Figure()\n",
    "\n",
    "# Define the first trace\n",
    "fig.add_trace(go.Scatter(x=mps,y=nonas,mode='lines+markers',name='No Nans'))\n",
    "fig.add_trace(go.Scatter(x=mps,y=fills,mode='lines+markers',name='Mean Fills'))\n",
    "# Define the second\n",
    "\n",
    "# Update layout if needed\n",
    "fig.update_layout(\n",
    "    title='Logistic regression of 1000 trials',\n",
    "    xaxis_title='Missing percentage data',\n",
    "    yaxis_title='Median MSE/Full MSE',\n",
    "    yaxis_range=[1, 1.4],\n",
    "    xaxis_range = [0.28, 0.31]\n",
    ")\n",
    "\n",
    "# Show the plot\n",
    "fig.show()"
   ]
  },
  {
   "cell_type": "code",
   "execution_count": 110,
   "metadata": {},
   "outputs": [
    {
     "name": "stdout",
     "output_type": "stream",
     "text": [
      "You have: 16.527 % of your data\n",
      "Nona: 1.0164830877270417\n",
      "Fill: 1.1507339175911555\n",
      "[1.4338394572645514, 1.0084033866528856, 3.8777993030515465, 67.43740336298035, 1.3651462902118128, 1.0012994980640373, 1.6737457081288933, 62.371403935065864, 15.319578785157807, 4.41476315488352, 0.9953384651031596, 0.964375013168074, 1.006158141396367, 1.795827648159923, 32.41431758253976, 12.54508300623257, 0.9769849248977207, 45.22404204285804, 10.106446963735428, 3.34911102836339, 1.0655257249059116, 1.5061013018719103, 0.9883054062995351, 0.9982524356511878, 62.5349177644916, 3.37597898765677, 1.0096060638684279, 0.9972484566170596, 1.0085114661596117, 1.007331162516382, 9.71258254925982, 1.0653568873392307, 1.0228546780665801, 1.0088606925591395, 1.497315534098148, 0.9554761354957103, 7.719024375906334, 10.33843838921872, 47.73969175425282, 0.9903908605238381, 10.619887151085353, 75.69912917782605, 2.9850466837005367, 10.40567671573482, 1.0033744212938183, 1.0422151465149376, 11.792131726489623, 0.9805953092196968, 5.610641587206601, 1.0014951752247572, 12.362941749020255, 0.9825965108604836, 1.0062422585455193, 1.0013018870654085, 5.294772700373584, 0.9824327242543389, 1.3143962398711504, 0.9755399127135767, 0.9621535405497228, 1.0081692399264164, 3.7909766204432587, 0.9086873096740442, 1.047324226773372, 1.0066573465442847, 1.0175400757494244, 1.0181107102816336, 2.3536399929012863, 35.37566109974157, 0.9985126860133993, 1.0035410231961372, 0.8984907313573535, 1.0045885708754931, 6.685404657206562, 12.944223463041586, 0.9468525552437005, 1.001786113466811, 3.373588805656181, 9.496066261303376, 0.9948457270062983, 1.0477605659167255, 1.0009809086841432, 1.0008834382300873, 0.9889630450837721, 1.005627665103089, 0.9734023327830779, 0.9823647648675953, 0.9035973590126928, 0.9953984593323135, 5.551696950100576, 1.115694386277466, 0.9284060074794237, 3.259718669466638, 1.0001125337104635, 6.737831859672454, 0.9951186109891386, 1.02652956146082, 3.454689809570268, 1.3459333288304245, 1.0033885827196143, 1.0028216171284354, 14.651591047893412, 23.860428616090203, 16.652649486264302, 1.0091166363888044, 1.0117594624424657, 0.9967208524206979, 0.9634882929778738, 1.0192453634548204, 1.0016647369428169, 0.9647684652703212, 13.712280206441196, 1.0380537491912343, 1.0100895986292422, 1.062982534013674, 1.001496849929017, 0.9926855113229597, 11.817919147580197, 40.964845782680975, 0.997427854896963, 0.9618638791907415, 1.02271649294718, 1.916059391865281, 0.9162005267537242, 0.9961813402069175, 1.3266993132260583, 1.0053274836299555, 1.0119512166397016, 9.651788166115834, 0.9250582959875059, 1.0011725466829424, 0.9935648420659761, 0.9999069392762532, 11.807021646797438, 1.4456100664933718, 1.0309428538574175, 1.044496662899353, 0.998393926864685, 1.4111838570939312, 0.9986218923740808, 0.9274419434363449, 1.0742142062154763, 0.9806333462572918, 10.69836640878795, 0.9908224357298894, 1.016602539321391, 1.0176040860903552, 1.1482413870408121, 7.969336883646113, 3.8475769946561567, 1.0000584128690095, 0.9525128430150054, 1.000555871343554, 1.0002623159418067, 47.76360986501498, 1.045478258140193, 1.1155397879475033, 1.0020765991860205, 1.0034026543887573, 8.535067026295918, 1.0035682878827483, 14.73736036347896, 1.0008491686890404, 12.56496065003758, 1.0166414124702245, 0.9413062892155714, 15.182413103540316, 1.0046524420774507, 1.0183521816290022, 1.0021191792502366, 28.780358809839058, 0.9971723776483717, 1.0046216436217852, 1.1392763825781789, 0.9614792149841979, 43.82380568545495, 4.80664885592457, 1.0065495382633798, 1.0106412655814239, 1.6661772088043807, 1.0160974156849056, 1.0084194648865428, 0.9668325463824166, 1.0020600699582844, 2.7378933872607445, 7.839292908924123, 0.995924797168811, 0.9976607541650946, 11.270778552199348, 1.0457738998982151, 0.9647689497628082, 0.9789910733007761, 1.024211447166344, 1.0125147965222852, 0.9724196576067544, 1.4895980350451157, 1.0203838146159245, 1.001043811461507, 0.9913014258303094, 18.705763375173042, 68.62362465222147, 1.0014101764636851, 0.9548560447618925, 15.320420013571912, 1.0009599409035441, 1.004380794361045, 1.0013687689568924, 1.008343186498202, 7.460659911634989, 1.0114913050582333, 1.0066801625804376, 16.938365939932982, 84.86966428265355, 0.9942541020068264, 1.0042002845122937, 0.9703771196278189, 4.668567734824149, 0.9696573248260906, 1.0071539752964842, 0.9876991061039654, 1.022530469326868, 1.0234365160363577, 1.0031432346726519, 0.9716933326419598, 6.402804247823609, 1.552300290332521, 1.0849015524070589, 0.9087547949216622, 1.0043325385991264, 50.97322340718137, 1.0117337775284312, 3.254403302180495, 62.689688112948794, 1.0321769953623827, 32.14427715477418, 0.999306644023956, 0.9709442019234147, 0.9761471227388578, 0.9998268287235428, 1.0567664672093031, 0.918171073717024, 1.012140138627543, 1.0020412560481506, 1.017707134421427, 11.483657086465513, 1.003125038865796, 11.210253927511381, 1.057370429714068, 1.0108913945005302, 0.957658621941043, 41.63403904637067, 0.9970102292594573, 0.9624292266716474, 4.350564832048039, 1.884428546986195, 56.875943125125886, 13.264725509949605, 40.71269807974065, 15.79476017130834, 0.9987900699322002, 1.0083467547474785, 75.17164184087319, 0.9942008369799703, 0.9967404222738023, 1.2282315817687253, 2.3332999603490534, 1.1933534023165218, 1.0000684409772709, 12.986642315181125, 1.0007410811775987, 1.0085229489648655, 1.0480295189260496, 0.990549394911611, 1.0111066391192878, 1.6729853746450807, 11.990679065916474, 19.132026325713152, 51.719988827758826, 1.0014366885115815, 0.9895000391147383, 1.0206662964398814, 1.0026753050426465, 1.0090501934482627, 1.0513422129888028, 9.758159512513753, 1.0115964707978606, 71.54274187106975, 1.0093655080067407, 1.0171613535896902, 0.9932111414166189, 1.3237376014955171, 1.0001298834360561, 1.0123777318798959, 1.0764392617781717, 0.9431413996983196, 1.008029418661469, 1.0040222700292134, 1.0361979952044524, 1.0030548718123966, 0.987955833535673, 1.010763020570258, 1.0103071203294174, 0.9837259191672829, 1.0745893626894225, 1.0032763693781055, 1.0028231192138348, 2.851366547120539, 53.448139290952405, 1.0257745389644704, 1.1993968251586022, 2.4847904436777855, 14.366074238433383, 0.9955322925088489, 0.9672442538822673, 1.0068760470630194, 41.23329947134624, 11.397655050830057, 10.60335972356545, 1.8159047905162755, 7.601722232588821, 1.01187254798083, 0.9870853365371376, 1.0422749144663825, 1.0062435440916775, 3.3559209744249303, 1.0000261422287375, 1.4905313432085545, 1.0130554215504963, 1.6781239308651539, 0.9733472028674731, 0.9734301178659398, 0.9531665428903502, 3.4261000109897317, 29.736877891931083, 1.014145480716004, 1.0042155322025068, 2.6087674062919746, 0.9891128858889818, 1.0478641121271324, 1.5400705367367582, 1.6848914878206451, 10.85623295421682, 1.000705302933243, 1.2301123703211696, 2.44410999091236, 0.9962956145177259, 11.996951166764541, 1.864392753162907, 11.482410519390294, 1.185303168470194, 0.9395252699871349, 7.95328078058838, 0.878365324771657, 1.8111172118690946, 17.334363225474746, 0.9983426257239697, 1.5416575792044929, 4.321028572148976, 0.9870859391497172, 0.9962866152502836, 0.9949331244114471, 4.844761550455696, 0.9789791309600985, 7.516566294899524, 1.1883092017752008, 1.0039558264842834, 1.0087639840118643, 0.9874042020320255, 1.3715307839354007, 11.21687685669142, 1.065280915983784, 4.721361768089357, 0.9632597429039474, 1.0205073051102351, 0.9852485431435182, 49.14802793983844, 2.3373051843139314, 3.3745790484460607, 14.77019369227167, 0.9741215107329668, 0.9645081792681944, 62.527712380997905, 1.0361289810134997, 11.093683621265031, 0.939463132585493, 1.4071567697731058, 14.52050326285163, 2.6394813638676258, 1.0692709757453096, 1.0038691945606444, 1.0018586469921031, 1.0004450697055232, 0.9980095311155693, 0.9907740918987571, 5.4069018507005575, 1.024245646557134, 0.9752467406223112, 0.9697715431652135, 1.007065568692116, 0.986448690515867, 0.9648243869437367, 0.9960186882646485, 1.0071880613880437, 3.4091398842108944, 1.03190415238454, 7.404471487673846, 66.57673245170066, 1.2692457277927494, 1.008818405052289, 10.306516487208132, 1.103519015402246, 1.753106996263311, 1.0530901288464791, 1.0232736162577385, 1.0181613111561938, 5.9679610831420264, 58.14903849666332, 1.0065647045578132, 0.9664968590798058, 3.16979702766754, 11.237567966305205, 1.0016614918209255, 3.5860875904913723, 1.034723927479972, 9.1619338784149, 1.0043103484955171, 1.0033754090301195, 2.4883929114277623, 0.9974549884157677, 1.2639348916512683, 2.771433709752075, 1.4888500964174602, 1.0112718278893262, 1.0023556413532309, 1.0168582602815004, 1.00323860501607, 3.0382334790910015, 1.0012083115967538, 1.003489471399728, 1.0234774907407096, 1.4947507225173766, 47.283720443068155, 2.20797904921773, 1.0842798679879209, 0.9710099091542488, 1.0149971669612354, 1.0037248501731033, 8.809913546145877, 1.0038131567383561, 0.998457341335993, 1.0012579227587102, 1.0139871896695352, 0.9351881541107918, 0.9751710782280828, 2.0942694695970347, 1.0157794578760848, 1.3628318345156993, 39.87313497017341, 1.0233121364512445, 1.0068554373589844, 13.701631933318877, 3.305218357939885, 17.627127547085134, 1.001718530604469, 0.9398832413722423, 1.076046166453784, 3.702645271531564, 1.003153407191027, 6.864125123960677, 1.8761609010961564, 4.917279145495036, 1.2284134418971897, 1.0173467937963876, 23.32641729388606, 0.992081829143954, 1.00501796043597, 1.0083552593578597, 1.06876265655964, 0.9307394725288132, 18.675041829711578, 54.615034693602624, 8.786679045590684, 81.2606853030339, 9.893676630843999, 1.4381551141802318, 18.75935012833018, 16.840331887470622, 1.4665270797616696, 2.3832001147190436, 1.0194065581743235, 1.5639708459709185, 9.853488705143793, 1.0111128997172263, 1.0251428527324193, 1.0209200400045901, 6.01951493319991, 5.886123245809818, 1.0244556545803527, 0.9212726933479547, 57.49564915627193, 1.0731668905046827, 1.051714644640113, 1.0041304957616055, 0.9728766189560742, 1.0504286331985322, 10.189974196597648, 1.0711872689187456, 2.950316860654168, 0.974831143633482, 65.25097493442033, 2.8693134476190383, 1.0049765278667093, 25.203190490970197, 1.006012494580747, 4.222855092514113, 0.9172087733270239, 1.0229146127460733, 1.0055391809714178, 1.0461795332142523, 10.125998225620899, 0.9226526567354364, 1.0137918399653447, 1.136349028723387, 1.021706534919688, 1.005243959459849, 1.026745355410136, 2.574374743304309, 1.0036594360180902, 26.320843363789557, 0.9999771680679829, 1.0119205202190897, 14.904618240214651, 0.9670512696765438, 8.18748139666091, 1.001057981182332, 1.0106196690438964, 11.069059137249342, 0.9923069448974314, 2.2457498767087616, 1.0145163075332724, 1.0425895794610545, 0.9701645024119726, 1.0000953434754796, 0.9996914945701318, 0.9992462121738901, 6.078360237850583, 1.2973291276222432, 5.275557222091328, 11.886703149328904, 0.9829936676376347, 1.0120156477036493, 23.342977959726852, 1.0063979986808134, 0.8828479567214328, 1.0142045348198643, 0.9264714101263982, 0.9153663800742611, 34.72460517699244, 1.0029380124141147, 1.0601492691728969, 3.0333512125957434, 1.0269329471940896, 1.0038550659308458, 0.9648476096219757, 68.18746956754624, 0.9768855981424737, 1.6532231189023099, 0.9875106865388952, 10.844413624583478, 0.9221091912864455, 1.0022218263243083, 0.9943647947688534, 1.0023714148137115, 2.1730604865, 2.063054573114429, 0.9373996528891426, 1.0061407985720652, 0.9351522660277933, 0.965116623524672, 0.9994202865871524, 1.0043519285143685, 1.4464114674778779, 1.1318685113947131, 1.7723067282211247, 0.9989762944278929, 0.9954761785761586, 1.5063442583940894, 1.059663094235746, 1.0170931868506583, 1.0090418368428717, 1.4761631958185928, 0.9295143545327101, 1.046008030292553, 1.0636238766021189, 0.9903939547635516, 56.58193104277343, 1.7854596393940765, 1.5983763109397373, 3.1805528767289384, 1.0107824342784835, 0.9783003521692089, 1.0136022614462081, 5.291614822058514, 1.681991324500755, 0.975022939202336, 10.35254941105649, 0.9962695936414784, 1.0134995196963916, 3.2561632930682953, 2.978849003600192, 0.998699420251349, 0.9262135101018296, 2.978741124158396, 1.0924410628879213, 0.9997301461032352, 0.9979648475983081, 1.0043571298737335, 1.0272252325685942, 0.9932110329024135, 0.9979933892913425, 0.9840471763651858, 1.002091906718271, 0.9933251591006996, 0.9654146597346657, 0.9966427063716308, 1.012919866816452, 0.9386298579015044, 0.9945390265694298, 0.9236776980821706, 17.75491645473625, 1.047730925762467, 1.1653379060037516, 0.9976358205338088, 0.9936386422559426, 1.008277963818579, 14.92511855425828, 1.0032713991256708, 0.9586693700101693, 2.5561071504064725, 1.3018726756572965, 1.0189114813846276, 0.9943609076141119, 0.9998267097061004, 1.0814726842618607, 0.9995855923829807, 0.9550470113230849, 0.9611595129243711, 0.9769290599111, 0.8907874515096961, 0.9962773675815663, 7.639631511947307, 1.0501687518803153, 0.9535353364580309, 0.979752251478907, 0.9953824155641771, 0.9999123317388289, 1.441972386341136, 0.9218013242262718, 1.0040871142052694, 0.9454976273289942, 1.0179072112158942, 1.0026781083997693, 0.9584398297720139, 1.00176130720518, 1.0014508923586918, 9.27090044905252, 1.6737582327805924, 0.9910489400916704, 1.0093203187111477, 0.9578744372112167, 1.1198887545002536, 38.89773721978064, 1.3685714486188716, 0.998083226031052, 1.003903666511582, 16.679620867787698, 2.5398121357746217, 1.0031580359180048, 0.9966555728302784, 0.9984511104914771, 7.0637346046662834, 1.1545921308142542, 11.5580983584331, 1.0372667234341673, 0.9716844865283739, 0.992417870030303, 1.005330053605385, 1.007013708432189, 1.0183190793481967, 0.9848944717807784, 1.0097688266193208, 1.0034984956052415, 0.8904855588252503, 0.9447095358684635, 1.009926012388472, 1.003259676972066, 0.9922343744670851, 0.9996690744896645, 1.0049345284131845, 0.9957516348278019, 9.754727111305844, 1.3161953131759059, 1.3118014808921081, 57.60918748112702, 0.9967185942004382, 0.9802586534737739, 1.001174974591258, 1.2454042356854034, 1.0467012330308643, 3.4089845455717316, 2.1457557624108423, 1.0029114633813505, 1.5370418087668332, 1.0175073583103846, 0.997650363110246, 34.34067312029806, 4.8686788969834565, 1.0939021902224135, 11.822605135437302, 0.9967019780453136, 1.0165303375850434, 1.0083345414716782, 1.0102682009722646, 1.0082234010495845, 1.0017891259653193, 0.8883529381092613, 25.99499088705633, 0.973520310910379, 23.615060793693424, 1.8076132255035158, 0.9697757243155575, 1.0307738442377026, 0.9772621151653549, 0.9955536605302355, 0.9923686273593363, 0.9919322564183836, 0.9114920608092276, 1.0164358378690401, 1.3666267555579223, 13.438906627984526, 0.9946833464486822, 0.9645059150105215, 0.9477266697321922, 1.000732017320682, 1.0076132340040829, 1.7715987302986345, 92.47537622565598, 0.9584126119188381, 0.9546736799901036, 2.439515911905001, 0.9157061771245333, 21.01831655499326, 1.0019303097792511, 1.0252698032109422, 7.199684729562288, 11.879619604109067, 1.0000704609818072, 0.9971542641268697, 1.015490539534502, 0.9852331553244958, 1.2510705719441266, 1.052255867260413, 0.9975366873832969, 11.296275985301966, 1.0192526822626498, 1.0045574355771536, 1.8214612595675572, 3.8240327428137886, 12.894545698465432, 0.9978459374474025, 0.9664425834789876, 1.6590064388270764, 2.622435933279948, 1.0997480127314672, 3.7945134177239774, 0.999860623842389, 1.3175899068201866, 1.0101978651790962, 0.9270383246684094, 1.01147141642418, 8.795301223534183, 1.0021588087213062, 0.9845850189606967, 1.0279635017824278, 1.0008381282842258, 1.0247777089291694, 0.9959685402678307, 3.68068807843412, 1.0073696253204267, 0.9899002675624251, 1.009840487351442, 1.0243020633102564, 0.997505174645919, 1.0133697036043996, 1.0009930200413482, 1.00884145922023, 1.120284342002306, 2.6780425907405925, 1.0022575562792009, 0.9853538562483738, 5.548082815332893, 1.5832148729534805, 1.0066465975856156, 0.9784912674534901, 1.043092611457764, 1.0085970155345072, 0.9312961233364971, 1.0196279655426743, 1.0475102735239619, 15.51621082053429, 71.26497366350395, 1.0024890208743762, 9.055804394038821, 1.1224291489978888, 1.0186969879019752, 2.8857780098678076, 1.012322227176325, 1.009138332046489, 0.938098539209746, 1.0090845750286095, 1.0148614825112543, 1.004070309564193, 0.9909596547886751, 1.6462670128423327, 0.926494907205819, 1.648762203506311, 0.9651311572663127, 13.579049600966105, 54.078075346290014, 1.0125819649391952, 1.0171683616418181, 0.9729741037306571, 1.1120356818111905, 7.2322767147563045, 1.005353590070283, 1.0390524686532463, 13.102973686252895, 8.544454912823408, 0.9102606685500592, 1.0141615535507995, 17.82154110029792, 1.0159044700828954, 38.150181758964486, 0.9637345513323962, 0.9591089545135316, 8.658474604828458, 0.999034635482796, 0.9822155624491948, 1.0051549396909627, 0.9558881994813326, 0.9978812020794239, 29.083083533068656, 1.035619512642989, 1.008783983541257, 8.622465079282476, 1.0139133774646627, 1.0359392567602275, 0.9876053380042438, 1.0493599543743823, 1.025745268408818, 1.0011891337522636, 3.8875588176513545, 0.926063197054151, 0.9433863410460754, 0.9938611925072094, 11.5960105715037, 4.2787347619647145, 1.0077743334063385, 0.9505324920938821, 1.036320455561893, 45.10943352121236, 1.1007872116052821, 6.937615214046714, 1.0049720357980503, 1.0231751465616268, 2.192647159442179, 0.9823439643722928, 1.0421121357516012, 14.233645612655488, 6.165371432715263, 1.1279409008098926, 38.06323797866435, 1.00147370892513, 1.00537963447648, 1.0528348608458966, 1.0066185906414888, 1.0019733342793873, 1.021614225819814, 13.572109206250703, 0.937358134880209, 1.011533783670281, 0.9559054217533348, 0.9132270678844611, 57.942118047429155, 3.6078344793062382, 22.94652567776439, 73.50388084871224, 1.0375197985747904, 18.01139665296915, 1.0026098401375954, 1.003093468231334, 1.2976322881364304, 0.9886683627580356, 1.6068386068214269, 31.11679777317079, 40.29034554744111, 1.0081449851876279, 55.233580308631026, 8.117916537738889, 8.954142818620435, 1.005270518603106, 30.804740240479788, 0.89108535173611, 1.0005598631714696, 0.976886195754398, 1.0052699335012094, 1.0098930943924622, 1.804446190939141, 0.9936512771300756, 1.0082500325870891, 1.0729886553366383, 1.0840233713246026, 1.1905102217699026, 1.002329410762443, 0.9994391608557835, 1.001111093441943, 1.056771379374164, 0.992544339167424, 1.5122666684238029, 0.9923911260777634, 1.898788257925323, 0.9686831108144809, 1.2147199283920886, 1.000414697361913, 1.7627116373728147, 30.980192956634177, 1.7090373652304784, 36.180468124747996, 3.190573800890098, 7.93505182707198, 2.7609487031436197, 1.0144877105677943, 0.904313272967635, 0.9441798127488107, 3.57186226897884, 1.7504044036179622, 1.0167508758851962, 3.678057077270074, 2.635859327348037, 0.9913767696725909, 1.014839267699153, 1.007860960057471, 0.923652461255439, 0.9983821180249295, 9.783950369056772, 1.002766522493676, 0.9808196111790649, 1.0750494167342564, 0.9964997896528676, 0.9864795820386295, 1.8870528102419146, 11.560626320168485, 1.0037535429018798, 0.9990703993438521, 0.990688045671664, 13.232958968120643, 13.808133994872525, 1.6279624617733626, 0.9730794421870838, 1.0037800858386094, 0.9566208378315694, 0.981157731710553, 47.8303016492313, 0.924685388286368, 1.0130510275916382, 0.9987110067466042, 1.0471105233100793, 1.0059770972068653, 8.12296319234582, 0.9990727645965827, 0.9669493105620979, 0.9954506448885967, 16.33280483564247, 1.8898439819158732, 51.811763005862254, 1.0126774480649858, 2.3181474270275566, 1.015847777772502, 14.947965155793504, 1.0637664082489762, 1.0007715556566399, 12.08379107948032, 1.0859781785035847, 11.714542451031823, 0.9600415573380532, 1.0407879418866497, 6.528023009384161, 7.537322407969078, 0.8989866946118664, 12.92010286067734, 1.0172797531854618]\n"
     ]
    }
   ],
   "source": [
    "print('You have:', round((len(nona_X_train)/len(X_train_testing))*100,3),\"% of your data\")\n",
    "print('Nona:', np.median(nona_mse))\n",
    "print('Fill:', np.median(fill_mse))\n",
    "print(nona_mse)"
   ]
  },
  {
   "cell_type": "code",
   "execution_count": 108,
   "metadata": {},
   "outputs": [
    {
     "name": "stdout",
     "output_type": "stream",
     "text": [
      "You have: 16.697 % of your data\n",
      "Nona: 1.0152770533601854\n",
      "Fill: 1.1503015409322126\n",
      "[1.1284562206081128, 1.0045278619072013, 0.9944357279280278, 13.51671457629931, 1.5388361918549907, 0.9952093709647705, 0.9927385203495255, 0.9664621219625419, 1.0109075896676352, 0.9829729631015001, 0.9849892188887295, 0.9751595795955345, 25.087576993283953, 1.3831655015493338, 0.9967907118810151, 0.9528521663377012, 15.364672082863933, 1.0577413240403597, 0.9735382586818185, 1.358481685124242, 1.1430176179325275, 1.029658168655174, 2.2065498991166543, 8.183158561337043, 0.9809754318127785, 0.9958220459888285, 2.4420775989129817, 1.0129972833316467, 31.142658945284857, 0.9896084651079073, 0.9658750440452193, 1.0019449784082348, 1.1499815512051657, 0.962132555651637, 1.0093300115059658, 63.43166012515986, 9.032845059075344, 1.0101916083317195, 1.0422009523293523, 0.9958783705004005, 1.0045557186701541, 9.098214873412761, 0.9775397848436291, 0.989236095034933, 0.9661736135935886, 45.79596736098328, 0.9897878590669441, 12.638511786616847, 0.9890328441233432, 0.9808752796333741, 1.0582392884932612, 1.0108762181483277, 3.5028138480290187, 1.0282906611357736, 0.967135204101613, 1.0070012497172742, 1.0524490905167343, 1.008507206804471, 1.0863097213273034, 0.9447769460306957, 1.1481412265528539, 1.0008132965854044, 13.64609975808458, 0.9893896418352702, 38.61277917834543, 3.8536181700281134, 0.9046256238456509, 0.9645345402617513, 1.0104375493622006, 1.0261056537158446, 16.33164434036437, 0.9519008577349692, 1.0175133283156734, 4.600052530283285, 60.49349004567591, 1.0271948457233, 51.854829887343506, 1.8361926324271656, 0.9286921003196495, 1.5551381601498566, 14.22529069153819, 1.7093986458441268, 9.16821026679531, 1.001837517236601, 1.0146163678499325, 1.0005451001899246, 0.9941627360186492, 0.9580116777390734, 1.0044367413409983, 10.30348982053689, 0.966925065108164, 0.9708083665733126, 0.9985202761727292, 1.0437668588881537, 1.0000419574435628, 0.997594433287676, 1.0278233463396451, 0.9952025443097898, 81.32995598721867, 1.0037922416348977, 21.13029752015055, 1.027822486273431, 9.24337077292019, 0.9937017522064449, 0.9988885103448117, 0.9985877448050322, 1.0195216652937404, 5.540380659535853, 0.9455081833486141, 1.0224310380811221, 0.9704899273703541, 1.0839263223147744, 1.0158339425766414, 1.0076068339561701, 40.93620094226899, 8.90339432520264, 1.9207743280230516, 0.9996299223763538, 1.5840829013002435, 10.85204482858438, 0.9932331583330174, 9.554338847818693, 5.944466114950914, 0.9641853561846598, 1.0032885457366172, 5.483603255592776, 1.7856715988243814, 1.0056230097803425, 1.365067264377268, 0.9954134889300245, 0.9143865982209513, 17.22408230589254, 14.782745788922355, 1.1136028409025085, 2.1757172254878787, 0.9960618915192099, 0.9985147220089865, 69.45522704252656, 1.005114100845226, 1.2945908637328754, 0.9725495267271401, 6.096793745643463, 1.003265589255075, 14.027315309499315, 0.9505214797339702, 4.553118283067665, 5.732114806038279, 1.001379607030474, 66.43970260475214, 1.015091345748314, 1.0043774211965342, 0.9530335893865601, 0.9897338470625989, 1.007739025975547, 2.8492180968960965, 0.9957914940668159, 15.764444402131858, 8.171391846856121, 1.0003039475888098, 9.794845411066396, 0.915229861003662, 0.995776940022894, 1.0180456351620992, 1.0008812936671774, 1.0233095616352799, 21.363347277955146, 1.0049510439377316, 1.009160819121971, 2.1080327291490306, 0.9970044285101279, 1.1001388155535345, 1.0057303731097575, 1.0426384901294403, 0.964526662656751, 0.9984565486195813, 17.3165570994382, 37.33612644200951, 0.9333488972084371, 0.9773577963584906, 0.9102603555631079, 0.9785422370037382, 1.5309618976749848, 12.880455488634144, 1.00389616128028, 1.0093926453416744, 1.0503121807220146, 1.3495051060154024, 14.611817047693743, 1.0074664872680488, 1.0490914226325876, 1.0061753001758724, 1.050528532482155, 1.0021903559594565, 8.036806526897836, 1.0004167564215023, 1.0000315850629349, 1.0548369117462677, 1.9270604359277064, 10.508251368660828, 1.0032959868501168, 10.072144011473474, 1.0096026497949533, 1.0149482605449736, 76.91196077170004, 0.9950642206434415, 50.58047709624725, 0.972745485981139, 3.5121831795944303, 0.99377645605724, 2.4695426530781375, 0.9796069296954456, 13.682382419417836, 0.9660401531422445, 1.1011075962394412, 1.1180889825296516, 1.0118963535071444, 56.33474637502916, 6.164936238703351, 1.0927799345358538, 1.4835176745636462, 34.52395462181886, 3.4777667720081027, 0.9695012082775135, 0.985727772168065, 61.44552555205928, 1.0220577855094823, 16.624219860450065, 1.1129810850715571, 1.262666925777049, 0.9740081621470609, 2.4687806143900453, 0.9639429757686168, 0.977271851352952, 0.9917539356605405, 1.004578203308776, 1.0016816012787526, 0.953217223907387, 1.0098708685718327, 55.338707874198036, 4.370677595002024, 45.948473550952265, 24.2289828496352, 0.9423518993961405, 12.206340821908714, 0.978990309577653, 0.9833068363749404, 15.903405571685385, 6.671709472385877, 1.002540372551389, 3.2558081489023603, 4.616376084538982, 1.0158078934736914, 17.7097646882058, 1.0122460063656629, 1.0588791438844534, 0.9991070317005072, 61.11066416646764, 0.9968196889515636, 1.0002151812392397, 5.252724982222322, 1.0626108011189364, 1.0018753947042893, 0.9075533181889078, 0.9967916548403458, 1.005380208734506, 5.551064079130263, 0.9642611278207577, 0.971098381811363, 1.0768318020629715, 1.0264304262998567, 0.9796802658350193, 1.6463349508902925, 1.038814121766084, 0.9506132947734149, 0.9574859181262902, 2.3406513598331586, 0.9952109984388892, 1.0042761945290541, 1.0227138886956284, 0.9975576657842891, 1.0016530280614668, 1.0153857007413816, 1.0688670122427728, 1.0276323932388323, 0.9231221360065638, 1.0109963994394604, 0.9812682594504317, 1.0050239158335064, 7.668162646533586, 1.0146323218088469, 41.9139173457721, 0.9992529852937183, 1.0235627986926905, 1.526196845600614, 1.0055787167590364, 0.9911366818105896, 1.0072738404759238, 1.1766025441886825, 16.896465147496805, 1.0070068069673128, 0.9813011115774397, 1.0012041806337448, 15.064249992609094, 0.9983649538996343, 1.0125815886927911, 3.3186374392452134, 0.9945203949299091, 0.9992666058736694, 1.10399004415611, 5.037451905462333, 1.0041861711810787, 1.0231185006391186, 1.0045122259397736, 4.084072439457302, 0.9918599408342834, 0.9424349002471311, 1.4043392839773856, 13.711561111059565, 1.0079084602814448, 1.0216294483005188, 0.8965072355855086, 1.0132675983387742, 1.0041751512739892, 1.1065692917686432, 13.54421998985146, 0.9971182290241692, 4.104910716571379, 0.9757314535407461, 2.1900356152731555, 51.90746605807477, 0.9971968491885841, 0.8948841874777144, 1.0098299874508383, 0.9732457450861415, 5.266189019878585, 1.0402396503925129, 1.353055983571248, 0.9970247221386181, 11.93822359783032, 0.9693665442232877, 1.0129839346469063, 1.1941886661848506, 23.934321790029642, 1.2298348217641921, 1.025417126037677, 1.0012774979630237, 1.0063028121477857, 20.461709421575172, 52.67572006872887, 1.008600282166596, 0.9704278687972219, 4.4960731578557045, 0.9978833714921294, 9.270101783219808, 1.0292225872899934, 1.0285449441159304, 1.009284662085324, 3.8105442027042384, 0.9950577498680053, 58.60014231545059, 8.72880102348177, 1.0245672074022674, 0.9508947752881056, 1.0239110096831974, 1.0037215362913061, 64.23851506256925, 0.9933396808981712, 1.000491706108148, 1.4523386004503482, 0.9913675882294898, 1.1401051336227341, 0.8876913703403696, 0.9611960091133341, 57.62272184490881, 0.964423531996423, 3.2620936818226145, 1.0112555396660756, 0.9961693077661335, 1.0007801806488106, 1.0224045014866037, 1.0022777368698832, 1.0287365495831549, 1.0120469575137532, 6.0905440966212385, 0.9980359464230851, 1.0075799722351626, 1.0712963390155013, 1.5033390292498385, 1.0038668871354233, 1.00888400818401, 0.9657571949919407, 1.0284521228166743, 0.9713459649123943, 3.1505599182659294, 0.9924142577731561, 1.0122298700889365, 1.0253443704059968, 23.95343243872353, 1.0038762387258675, 0.9955767199218049, 64.44148726544518, 4.6955383582403885, 0.9669948888515337, 43.355720307417045, 0.9719540998482725, 0.9861640978581656, 2.2255895653998206, 1.011989630603737, 3.8224620727490732, 1.0136493710860968, 1.0170199142967369, 4.392822999028418, 1.0376542785314609, 1.0202648381066004, 1.7412879759366602, 1.0092801415244872, 0.9638484663587616, 1.0007410063459294, 1.311905614666061, 1.0043077410654926, 2.018023699771045, 1.0008076567114317, 1.4126247125964757, 1.4267880046122041, 1.0163903571351458, 0.9968579965050803, 34.985302832688454, 1.0201988295138942, 11.110494892511085, 0.9869441277118838, 2.76555689141415, 91.29934991052552, 1.0074186357375738, 0.9985140020410659, 1.0053324192008584, 1.0013013168345293, 2.162124062163426, 3.8915500706190636, 0.9798369094530129, 1.2890787960518806, 1.0475630516054975, 0.9375670726312317, 1.1580774627839614, 1.0187952570835748, 1.019398423489875, 0.8809706775081724, 1.0617668339573345, 1.5386309779376879, 1.012888180138115, 1.0334468124387108, 1.0049210436731764, 1.035077364063649, 1.51847166295735, 0.9915256128382708, 1.0100081405728347, 25.811735011169326, 1.3206064813052738, 1.0209496977137662, 1.0024411639794713, 0.9687542220023194, 1.0150850039334542, 1.0004234040177187, 1.1063907761809337, 60.731984092780365, 1.0444779668983437, 11.405173404379124, 0.9960174249520438, 1.3055226406657667, 1.0067163733048512, 0.9925121152003722, 0.9926904503835315, 1.734133295912579, 0.9453673586302209, 61.7237372046003, 1.0136981222419015, 1.026638110088179, 0.9649900860546888, 0.9714117053378497, 30.211356627058432, 3.5478052261584088, 0.990784641015824, 0.9825769826342013, 0.9995375602824714, 1.8606507826643957, 1.0143287772640308, 1.040886297402024, 1.0078629426857226, 0.9953461886581462, 1.0330767964954886, 0.9814695061343667, 0.9947057526813007, 1.0042196262236578, 0.9986333490983612, 2.70358595504607, 0.9961376109138655, 0.9615344111467404, 1.0020305708913941, 1.0061172007082555, 1.6135893206164127, 1.0016584466900682, 1.0143366688848652, 48.56181978956741, 0.9993979681804874, 1.500406496275893, 17.689568441864637, 0.932588939766606, 1.1635562119268403, 1.0105601791247303, 1.0392955770672978, 1.0050207336843933, 1.0872532434137927, 11.785737385791268, 0.998210113823639, 1.8089153664034825, 1.071647004054586, 0.9928088170353797, 1.0113424198319367, 1.0035767232128212, 0.9985739240400401, 0.9069176876614682, 2.306864101254561, 1.02315647089427, 0.9930653524041657, 1.3621892707979217, 1.681321128471344, 1.0114480443718452, 2.3652970753359575, 1.023713166125401, 1.004054196117911, 1.009973264933043, 0.9328418533315966, 0.9435649290726116, 1.0137693375152124, 0.9980657639169793, 1.0170174381628216, 1.0089884606272745, 0.9789520836954555, 1.0411130042252539, 34.04573502587732, 9.202441097912974, 1.0041020564976153, 0.9905951985715188, 0.9818694997831064, 1.0014928670571883, 0.9955301792063219, 50.76786942765029, 1.0013683190010845, 1.0348827988959675, 0.9461416615540977, 8.429730046853484, 0.9877270391916148, 0.996961880790751, 1.2652442719471382, 1.0058557440491747, 0.9991295741448304, 2.584754320426104, 1.0514010009015324, 0.8925983892103965, 0.9437085345743395, 41.25073509293401, 12.581653437187299, 0.9988601620806681, 1.0024674783394942, 2.6795067480161574, 1.05731783159669, 31.578983743563295, 1.0086563431472966, 0.9471485115857474, 1.0613853205692507, 2.7117530718094964, 0.9227299472954519, 1.728958860620423, 1.038235966273559, 1.0017385511810097, 1.004108795449766, 1.0120563418206234, 1.0442345499908516, 1.0297532766725108, 1.182177456691425, 1.0014495728587864, 1.0023569406539343, 0.9845212314676287, 4.9310999178153505, 22.949457546265716, 3.9026071836270186, 0.9147150074630723, 0.9928552226505609, 1.0063494941234064, 38.30392930864282, 4.743743485536341, 35.872385463033126, 1.8045864099903646, 12.634602800622202, 19.354908694990574, 80.95527349086035, 0.9979364615973454, 3.1612471858803297, 0.99731706607179, 3.910460882865001, 1.0015181143912233, 6.4564554879532, 0.9995122876665499, 6.634243499720966, 1.0222919915569535, 1.0151997569393985, 1.0418138582003202, 1.0174715603193376, 63.55301690464284, 1.0028690669153344, 0.999227174730171, 1.0061241981432314, 2.498507018425867, 0.9969838409437086, 0.9452432355196496, 69.40380618198853, 0.9957136605933007, 0.9646841610727755, 1.0176547920266452, 1.013819444641766, 18.8725916633978, 1.0297146566933546, 1.0382333155085925, 2.417023024110503, 0.9894340331341096, 0.8970250227438831, 1.0025645825779212, 0.9232603116559849, 14.343627007036599, 0.9670056810753096, 1.01739445784487, 0.990525227037765, 1.0672688867650064, 1.979305017673211, 0.9951671848110726, 0.9575207093880943, 0.9717099274022937, 8.543164417820702, 1.0051868107588364, 1.0197037293403726, 0.9841230048442458, 1.2866278834263871, 1.408784865540453, 1.1114870782170263, 3.6878804484062178, 37.67485597748096, 1.0051596618872967, 30.152219672359667, 1.0220437242965104, 0.9968389749592325, 0.9788304941535939, 1.0136928074413456, 25.731747510698195, 1.0116517208900397, 1.0270520035958908, 0.9955953521773572, 1.0060974556924118, 2.110966813043749, 0.9473601525334594, 12.462454561362437, 1.1319757945164304, 1.0111152429993702, 1.0013858843140133, 1.0233457524891851, 0.9907090747125038, 1.0266200470149696, 0.9952446698826384, 0.9688536153953851, 4.0286944812103584, 0.927370717213087, 1.646036980013208, 0.9389959290219456, 0.9101598683071332, 6.781984513604912, 1.0003370982115525, 26.425322968819835, 0.9753318147690556, 0.9749906110419875, 0.997284587776344, 0.9202639937502494, 1.0401311259878678, 0.9733863883369124, 0.9297735138102368, 1.0013882223922679, 1.8279212285182067, 1.0099959639630902, 1.0757747571247698, 1.0308852084936488, 24.164060905971102, 1.080579793589983, 0.9372701685920548, 13.858876494446719, 1.845383731610601, 1.1738893925369733, 1.0010542681642924, 78.92411815022658, 1.0100468356352388, 0.8953206443223457, 1.4260739891368601, 1.0100918802194574, 1.002927869830101, 0.9222181268067219, 1.0031013303152876, 0.983970146508854, 0.9495095098308126, 0.22719014177396005, 10.910008502033728, 0.9999791182902362, 1.8962917379984638, 0.9976557047141053, 0.9644122063885753, 5.805226046933467, 1.0427396356525231, 11.133896307481665, 0.9879028908682617, 0.951700158543465, 20.112612732732263, 75.28396570826305, 0.9959154450172589, 0.9493269587943745, 9.28191308078917, 6.6814127915974675, 1.003590021125179, 1.0118119895707844, 1.015354349780972, 1.0012326982232154, 1.0669262270379392, 1.0288014563320442, 1.0064070752054994, 1.0079156477315405, 1.544419013234096, 0.9863266730677525, 0.9949497923209429, 1.0661988348305087, 1.0332425054597323, 15.730898001589647, 4.129115074671819, 1.023053311130528, 0.9969893053894239, 68.31278550339174, 3.158320865845398, 1.0789254430989377, 3.3970212655283873, 50.72338366326664, 1.5675276473307669, 0.9931736152875177, 0.9976124345929499, 1.014337594048934, 1.0996016640883657, 1.0381646031377072, 1.1431483323464466, 31.514691022343726, 1.0023817301418556, 1.0157207184056103, 0.9965142086763132, 65.84939924910552, 4.826215222695431, 1.0058972092719989, 8.641933118239747, 13.958461726130217, 8.180981527138863, 0.9968156541627892, 1.0079893048014283, 0.9973877907503498, 13.518481657687987, 1.0671345359409576, 1.0037695197004322, 3.6023173828094177, 1.0381453928910331, 1.046116964114699, 0.9990457113860514, 1.003410645040212, 1.009089449770396, 4.345887773502651, 9.211452174077781, 1.2011106071942628, 1.0099323813641747, 1.0473587242879052, 0.9506590739605745, 0.9234014941162894, 0.9852617781853703, 17.48382977251659, 0.9619584484859852, 1.0529767126496579, 2.272876637419142, 1.1513229185419154, 0.9839930881886889, 1.0027694932281666, 0.9853308703646163, 8.630896583467358, 2.534611770959217, 11.45843352842784, 72.7688842091516, 1.0020519295293433, 0.9988951909852352, 1.666025419850218, 0.9928703130585177, 1.000823455064325, 1.0216806914000753, 1.0074319120895412, 10.439359017930546, 1.0284942656091458, 0.9861092021290824, 2.805072394144643, 16.43644068293089, 1.1139835804842166, 1.007495846815522, 0.9824890283779272, 1.000275193451915, 12.274587360586901, 11.328299152613042, 1.014361157068528, 1.0335235011175892, 1.0269256139206773, 1.0035476952946525, 1.0121934554762917, 50.108952610098264, 1.023468448087435, 1.087857838368302, 13.055812916540228, 0.967561979645621, 48.049586488791284, 5.323809268408286, 1.5785485898465568, 1.0548857145124695, 0.9666870089280162, 1.0212670436628326, 0.9947168074090462, 0.9884493018062873, 1.0023947318590543, 0.9618222757630087, 3.5398970781443264, 1.0494352677592316, 1.0295609678665791, 1.0213059287435766, 0.9960610548056597, 1.003728395842962, 0.9953484076169373, 7.852812732949387, 6.450587394366294, 56.007360537220364, 0.9944142911673066, 1.0037161163567399, 15.87020642842159, 1.027377928805525, 0.9939536114654789, 1.0357961530269884, 0.9975722252209882, 8.246690097674007, 63.99149073570687, 1.0024932403828444, 1.0049906885365665, 0.9046985719270477, 5.844871306340704, 0.999258812019788, 1.0076123712619915, 5.726248423536457, 1.0056150070097796, 1.154472464419733, 1.801651939250105, 1.7803597790640664, 1.0871885247205013, 13.147700142431752, 7.753856920917078, 78.561974500038, 0.9818242715938725, 0.9609337516739217, 28.827166548011906, 0.9979244123089959, 1.0344367805578774, 1.3523683487282294, 0.9618276599229724, 1.356832066693873, 0.9863213029785032, 0.9981003604173689, 1.0325694859284988, 1.0015419553068052, 14.292945218870146, 0.9269319353867217, 1.003953605365681, 0.9359017964410038, 1.0917350913133324, 0.9691006282087473, 54.434276232948086, 71.19536243869315, 1.0167915637953233, 10.986097078014213, 1.0029067390708895, 1.0067227914932362, 3.3386130683699684, 1.9223113183953993, 1.0100843184561665, 0.9941786853333112, 0.9883928007472956, 1.0106921455239959, 0.9489218058559797, 1.0222008833357445, 8.475927816991883, 2.266924872765789, 20.7295651652348, 1.0067846362304558, 1.0294510943194746, 0.9780200300870385, 1.0016377108897514, 1.0049006558295537, 0.9792280186282468, 0.9893628216627047, 1.659320699838008, 10.574731961447073, 14.558683145291981, 8.663520967391554, 4.0985004580694016, 0.969553110289215, 1.084303577424415, 0.9225705206138328, 5.6569695475977, 6.088443570079349, 3.8905493654158247, 1.3010534368713984, 3.6074756335133036, 14.541528217085906, 4.187404697065798, 0.9614525936458337, 0.982676792281369, 1.0051009525758647, 1.0016140269030027, 1.0093690644575912, 1.0070938904843387, 1.0580756134156846, 31.9396004098122, 1.0041237356261001, 1.2058112331687356, 58.21374796394265, 1.0073073056119182, 24.719152443759295, 0.9978050251829049, 0.898090649114873, 1.0839523219318863, 11.30748198660202, 1.2499751765466012, 1.0634511353876657, 1.0109019940092787, 67.2290672596416, 2.7108927898342503, 0.9309094892246154, 4.918739523607933, 0.9974729273633722, 1.0032540293564878, 1.0096799813447008, 1.021528865012919, 2.286798971583081, 1.0004615795782739, 0.9964177845698474, 0.9653485223287868, 33.39821389658925, 0.983665538749197, 0.9704158682053292, 1.0087104048261564, 4.5304329381892625, 1.8276746062273697, 67.80467956678278, 1.0344357621846727, 1.0098562959834045, 1.000482645711174, 1.0087526394784516, 0.9987407077530103, 1.7208636166090956, 1.014572676237657, 1.0067886253294973, 1.2509334134412695, 1.0043566305111813, 1.0403231883897992, 1.0083625736300774, 0.994522373092673, 0.9835857735621397, 1.0201440894574259, 1.0009317912861426, 1.0704529878445181, 0.8746973451085236, 0.9710410278992463, 0.988742346224157, 7.21987110638358, 0.9999271012832517, 1.008491075234466, 1.002789192411948, 2.656381146758895, 1.0114522114364508, 1.083370929384101, 0.989427963196544, 1.2141439648027021, 1.015637760177058, 2.5856802003724746, 1.0121420980528915, 1.0352177079651423, 0.9942429057262331, 0.997878315474395, 1.0207447520370094, 2.198585831765418, 0.99460418210964, 6.142114185944415, 0.9761887584285093]\n"
     ]
    }
   ],
   "source": [
    "print('You have:', round((len(nona_X_train)/len(X_train_testing))*100,3),\"% of your data\")\n",
    "print('Nona:', np.median(nona_mse))\n",
    "print('Fill:', np.median(fill_mse))\n",
    "print(nona_mse)"
   ]
  },
  {
   "cell_type": "code",
   "execution_count": 112,
   "metadata": {},
   "outputs": [
    {
     "name": "stdout",
     "output_type": "stream",
     "text": [
      "You have: 16.885 % of your data\n",
      "Nona: 1.0171564111889095\n",
      "Fill: 1.1497994684683723\n",
      "[1.0153063411751335, 1.0003356897623972, 0.9870143004152432, 0.9724153170442432, 77.00232975515026, 0.9981804658668846, 0.996514013895072, 0.909535451423761, 0.993050352988959, 1.6760941710405746, 3.5977400877447754, 12.672545771929741, 1.005588918679266, 1.032899509248033, 1.0098911147457061, 1.0021054681824548, 0.9612813458074355, 1.4417457330626775, 1.0037448826427189, 0.9958770881953729, 14.890539563705987, 1.1046786201094854, 0.9554040536314846, 0.9983931823138797, 15.387131613367497, 1.0062337124830574, 11.79025248324135, 63.981038848567714, 1.0010655952016188, 0.9571201328012523, 0.9888868667613974, 5.31214325204129, 0.9971375928116498, 11.987217868189848, 4.0760287877287675, 1.0033064202479032, 0.9823690466169077, 0.9127843922819009, 3.444725172373367, 4.981404760725319, 0.9871909594900499, 46.33904784537466, 0.996714301799808, 54.6030546471981, 2.8062668853267474, 1.0016049057151812, 49.0470427459207, 1.007885897340221, 1.0052528984411664, 39.78184600269165, 4.297595626948096, 47.928692623448704, 0.9402095811737755, 0.9660994475308499, 1.0106973560151142, 1.003903686068207, 1.0111414939598427, 1.0152725844922983, 0.9910063510435179, 0.9929540643683687, 33.184672554904246, 1.0015715339985884, 1.0111929991037552, 1.0162572579749523, 1.0728712740887736, 1.0641189312645314, 1.0380593945132777, 1.5568049893340237, 3.81789172778891, 3.7078944357856636, 1.0028633291534357, 8.100283070764979, 1.6679125214229118, 0.9308293742590233, 0.9850574113454046, 0.9672092728136608, 0.9972221923266473, 0.9990957686419362, 25.482833232816454, 2.0313254627810275, 0.9545506296157376, 0.9364892710184722, 0.9991525681185981, 1.0285413940441406, 1.0034871415018776, 1.2501739404068595, 1.6680119616477505, 0.43862806524504533, 1.002094830567164, 12.495813183877269, 1.0258420841777, 4.8934918777431875, 0.9997157931438979, 48.03013320832061, 0.9823163934840915, 0.9921659207355326, 1.0237082481404292, 0.4366308444971813, 1.0128749157117531, 0.4620027675828923, 1.0099798274834417, 1.0016261792703252, 0.9097536714190768, 0.9764098920133278, 10.214503185546278, 10.995372689631242, 1.005129919919249, 1.0208570963547707, 13.24559734101583, 1.0203229163190743, 13.643173801178898, 0.9974955066344385, 2.336137102384236, 0.9851945661660195, 0.9993031663591264, 0.9895770175941487, 0.9129557904436973, 0.962409802307932, 1.4094987621623585, 2.978810541049832, 1.0176276012702574, 1.109274715134336, 0.9449568392800549, 1.0463540721738551, 1.5689171177335584, 0.9913589706364815, 1.1309964484871085, 0.9927346075639816, 1.1274552755745306, 1.0392085619466458, 1.00945335196261, 11.015087971254829, 31.582309363922242, 47.85116649616091, 1.0317449604860418, 1.0202405526942513, 1.0023601458682174, 19.2366885222231, 0.9780498138589186, 55.39905612596408, 1.014222531601735, 3.3465830437364854, 1.0026655145512953, 0.9815429898725891, 2.301490358253204, 1.0047240215891535, 69.14226982370549, 1.0013813487670218, 4.595191857571163, 1.0035961969746778, 1.0184198403408997, 1.0069189356566688, 1.0050315641699095, 0.9998173824712303, 1.0438910086701565, 2.5434326958638382, 0.9837470033098434, 1.0067733397533043, 1.0074326867671155, 1.0219573533507262, 5.58823830303534, 13.33020125711749, 2.7748493043075864, 0.9980123314636591, 1.011919887280672, 1.1096112063349668, 1.355411513882396, 1.0159842387873559, 1.0069013254360015, 13.443229080450118, 4.0990189516905025, 16.631613744843946, 10.622085978803142, 0.9954010921837025, 0.9383720777306628, 11.791934203711202, 1.0178216990136086, 1.059075781699223, 17.08938205664847, 2.6875895694857777, 5.203922982044724, 12.179755113452972, 1.0091552720268309, 1.0069681802029429, 1.002088557638854, 2.061899775793881, 4.352550067973707, 3.690555946156367, 1.0153356395389386, 1.0004026105645456, 1.0420378846655907, 0.9940295244383344, 0.9981752364746247, 1.018081139570497, 81.42796466232528, 1.0413392518495317, 0.963584200665989, 52.88883519207769, 1.0935493049496836, 1.0047965472386786, 8.099532073479393, 0.9382812433994725, 1.004128256412978, 1.000875627260568, 1.0015873268218796, 3.794699002457494, 1.0022070731501946, 1.1946192722575253, 0.9842172559675143, 3.3577063523838118, 3.830439477252221, 26.316003822230286, 69.92960197968264, 0.9975245695289875, 0.9424633987297965, 0.9825029479351317, 14.34911551896787, 49.27170843403292, 1.0094135126858919, 3.116398941385927, 1.0013484914560675, 0.9604710612029829, 1.0017297218818957, 1.0003688693479413, 1.0236636248887048, 0.9979707082095274, 2.005576113058304, 1.0035495783602681, 5.762044182779456, 7.1955344454763175, 1.003726950350672, 2.2581626006300475, 0.9979348434388177, 1.0167318936555763, 15.538100031801697, 70.09084431757128, 1.0217150502574603, 1.0013555608082583, 0.9990205706347921, 0.9897825025775846, 1.0100044637764272, 1.0590246840438153, 0.9812193148670997, 2.853983049425151, 1.0079971334732085, 1.0156869645903424, 9.57217778030367, 1.216833077376539, 5.149454560807533, 7.784129815934743, 2.2755084068878046, 11.25382399730616, 7.919197971879359, 1.0102435186007337, 11.208527067715565, 0.955587983551557, 1.0056290164703425, 0.9915991755968845, 1.0144922931096154, 0.9526475396121363, 12.97353293633375, 2.908544963167363, 1.391332305261512, 4.911568093973332, 1.5376655603744143, 51.65586340194469, 4.779301940211018, 1.024536793981662, 0.9981582863433246, 0.9999784336244559, 1.0083386763854012, 15.111948960312269, 15.018576659280319, 1.02454062924771, 59.139281571451484, 1.5218918920203512, 1.0764175347794511, 5.943171260747097, 0.9923140098690667, 1.0029700067492855, 4.734141446523785, 1.0312316222618656, 29.12575534348308, 1.5735227524037438, 1.1065986118521272, 1.5204695250158269, 0.9925542265818084, 0.9951510078913417, 0.9955252744375298, 1.4693632646106807, 13.514270612521056, 0.9200307682493921, 1.0233651489647801, 1.0097146180293526, 1.0356063736323775, 1.019095808119189, 0.9914630021040192, 48.6699931331029, 1.0173604509882972, 1.0079327500885715, 1.0161427208970601, 0.8748925781783742, 1.0126715569559332, 1.3661273738380444, 19.615125268297202, 0.998387309033784, 1.012202563934035, 6.787158665904705, 1.200489004478617, 1.001184152151879, 0.9206001132588034, 6.765684914015712, 4.370874878581135, 0.9484126170414235, 1.0226351668477662, 1.008052641071525, 0.9970822522600324, 16.9322931976392, 11.737409597212267, 3.580002010783678, 1.662286595462857, 0.9950403442710583, 1.036952949941754, 0.9665576808818325, 1.0390561433418615, 1.0018401893725435, 1.978399386483753, 14.245798520752343, 0.9772595773448023, 6.545628690484272, 12.7687779434517, 10.24970737629324, 1.1208860769871378, 1.0038440834286837, 0.985842646316024, 0.9920227675844446, 5.819605385039029, 1.0114255279924795, 1.0062880110682457, 2.1556433705445697, 37.80173892410368, 0.9941314090461798, 0.9970463319391184, 19.708474758404517, 1.0181004674182488, 7.690911513113511, 1.0079515275515483, 1.009394875220644, 1.0060467172897576, 2.0948820447619325, 1.0000146395977367, 2.3594444329920123, 0.8763517369990537, 1.0212540702385087, 1.0244659764470587, 7.817238551966196, 1.0053157792984961, 1.0022019894573038, 1.667661654355706, 0.9983772744436686, 3.1453147263223618, 11.288107150942324, 3.2182556528839577, 1.8062402675449463, 26.68799739006734, 3.26666374875811, 4.103262847229826, 8.655065046413124, 13.03027005040001, 11.908432107418077, 2.3770880327257897, 4.274337044946867, 17.151215167211515, 1.0066184771852893, 1.001695713764718, 13.086444454902855, 3.5418139905704105, 1.0111308539758075, 1.0044345363737397, 36.34794370018146, 4.164353420396001, 1.0137719216794592, 0.9990579870311924, 1.0574962503747263, 0.9946943778164418, 17.525379224800798, 5.45776884577127, 1.0222269791650935, 1.0118572207082912, 8.097223097487845, 0.9762882288098023, 57.7556174386507, 1.1434698952542397, 0.9769055903322075, 59.08625804398542, 0.9530050785829931, 0.9260089335723413, 87.79056697940459, 8.158157250803367, 0.9900142857754654, 11.644053398511724, 1.0049836593809587, 1.004063380399358, 8.509587231518115, 0.9849846354084474, 1.0022824609081498, 0.9601571360718437, 1.0035524432892893, 0.988971774002607, 1.0026945763905963, 1.018334387272817, 14.705591074273947, 0.9827937933054516, 1.0049169774925308, 19.544004467666117, 1.0079126898080668, 1.0000346277830439, 1.2708770559652198, 1.0022010454140007, 0.9945117739748864, 0.9981907053823141, 23.48008719778203, 0.9991834942303022, 0.931693515406538, 1.4636126353656798, 3.494395655106516, 8.690524788674573, 0.9941756326110363, 0.9982832111270802, 1.002371892336676, 73.09872594369088, 0.9985681044443676, 0.8968713902902907, 1.5567653379812172, 4.294408075799405, 0.9971869812528137, 0.9861753161004252, 1.0057758244773172, 2.8622751267373623, 1.020024685584995, 11.212187952288879, 1.046578916720634, 10.228204660062778, 21.271126951399598, 0.9777551508093013, 0.9991023509338659, 1.0064601197114926, 1.1235085958724274, 0.9882089796047245, 1.0237642597068015, 6.147332630147048, 18.452831483925937, 1.0155119933031247, 1.0597493881604279, 0.9563959399791578, 0.9446470203743702, 0.9793429785089274, 1.0756660921309817, 1.010449288693363, 0.9425693572912406, 14.576069751526243, 5.313338092376758, 8.854722052649594, 1.0096294573123996, 1.007779923833661, 55.041550945980475, 7.55347893159577, 0.9978480239266084, 7.9568983067792, 3.1999589915338036, 2.8822202533671475, 0.9466488492159207, 4.7352358585591166, 0.9246615734127478, 0.8928525458532207, 1.0019414527601764, 0.986782043174586, 1.8336434062565201, 0.9992868567743257, 1.0050234022375746, 1.0270900904045166, 1.0151398241281588, 1.0061315446729118, 1.0150303923024437, 59.58689567187128, 70.572675343406, 0.9392421519832189, 0.933109941104829, 20.008751400733505, 0.9496320096177603, 1.011897208684259, 1.028184504791375, 1.0018084104502618, 0.968323348867125, 0.9992770073261591, 1.0034849914212327, 0.9880228525956777, 1.7650183677045084, 4.18726474744055, 0.9303432123375636, 1.0021818865339276, 0.9638528844288803, 0.9922937161897895, 1.027777416924868, 17.595397353660385, 0.9942730434138043, 12.284713438234759, 6.958233036865342, 21.999774322607614, 1.2267570932743317, 1.0083465739861768, 9.96025496756948, 0.9977535811834861, 1.0039409516200282, 26.740264198347106, 0.9900280417461722, 1.0019662875143793, 0.9938226203457434, 1.0004561922556046, 1.0022024843456072, 1.0097457129785052, 1.0036671759205025, 1.0653417667845062, 0.9960928441833877, 0.9694145187066224, 0.999259241996727, 0.9736882289792875, 0.98738298422823, 0.9987311810857731, 1.0166574968861593, 0.9950190729867927, 0.9960043368028774, 1.0242966102277997, 1.011639958190327, 1.032614382989819, 1.0276398695531308, 0.9327956486900226, 1.005284574475958, 0.9762601006327035, 1.0084675075013194, 4.121193550494809, 1.013102910447389, 1.0096508738128425, 1.0100113787939933, 1.0042025483993855, 0.9489735749030804, 56.444578693874455, 0.995083905081595, 0.8860307069044582, 1.0081995538878603, 11.218651322374448, 0.9990328240890989, 1.024743314307253, 1.0148913394302583, 0.9725767136664611, 1.888213295298665, 1.0082231520241254, 16.978455631911466, 1.0036168189454941, 11.834422097045598, 0.9723298273650814, 1.069995121889752, 2.438260999284629, 1.6015239950588898, 25.640295473717355, 1.0017652744817347, 12.919947967573812, 1.435386851576732, 3.0076887029224864, 0.9975624604495913, 0.9738113373272947, 1.0573553447496882, 41.631436825366826, 1.0081604051564292, 13.1347149660172, 12.609544851509273, 28.684652487636054, 0.9915340025470029, 1.6284245902731707, 1.0188723262057362, 0.9543630179224482, 1.122431200621621, 10.212075473663687, 0.9842875822055185, 0.9812783631337193, 1.0065700747763795, 7.441204784188239, 1.0034619436282293, 1.0046446419506487, 8.372370517241256, 1.017271708985954, 0.9455082882179319, 79.5336063841085, 1.989222116759899, 0.3735062360450417, 1.040961498460607, 0.9994252852454792, 2.593263274494704, 23.712873144016474, 1.0064380140036853, 0.9383577109146247, 1.5169226769664945, 1.0908003982071988, 5.527945321312259, 47.055520444279736, 4.189584839776562, 1.011054368931687, 30.77405822895917, 0.9916367416591293, 1.0087552526338086, 25.295733446332395, 14.506335923126636, 0.9073622315895359, 1.0001441721431155, 1.0042570272445668, 1.1040055303606504, 0.986950858040218, 62.3778131538427, 3.1021179535482384, 0.9565986059418174, 1.0199232096517457, 0.999082614323008, 34.71412665663856, 1.1145628630450508, 1.0184407986508606, 1.0499629861306952, 1.0137690828082597, 0.9607295110623898, 1.3442496572507687, 3.791090568678548, 0.9966091231131217, 0.9999090179940682, 1.0043695809047493, 1.170281339886773, 1.5266453165777933, 16.415721887216883, 4.017460287245247, 0.9756878627508706, 1.024745342553226, 1.0061761015511628, 1.5246594174929764, 1.0001221109260143, 12.823804624124433, 1.0051140285536575, 0.954109619861544, 1.0089700290227803, 0.9724618834963186, 1.0279271953202174, 1.0158573193008429, 49.51533399096894, 1.0282280021508583, 1.0037640519051565, 0.9578617075301283, 13.680875681501576, 0.9965129632109163, 0.9963441420673227, 1.0048338715555774, 0.996901876244261, 3.6399552735220992, 8.227612573674474, 1.0028170264709437, 0.9836264931733872, 1.0159385070887885, 0.963612253699439, 1.0081163315764334, 2.1815236051077225, 0.9847479779601254, 1.003208365218376, 3.069138315265203, 9.553490968486129, 34.12948323095, 1.6648752507355844, 1.0048654789034015, 1.0131040972785035, 37.219061264851256, 1.0050058278342724, 1.484510834243901, 0.939510983965751, 1.01003011852402, 2.5085545560125917, 1.0047569309059206, 0.9954045871930715, 1.0233294722150044, 1.037586071572308, 63.31095415591809, 34.69801221064201, 1.004830565750465, 2.500129140141156, 1.3218442296079649, 1.003626937469204, 1.003879311031194, 1.0051786512141603, 1.0115377317966279, 1.4937416422780823, 1.0149055021932336, 1.0055604278045704, 88.5686305070378, 1.7344993410335807, 1.000295437111393, 4.019085327710498, 1.0016329765372187, 3.420767718574311, 1.2822357718450548, 32.89670610669345, 1.0137181452955197, 0.9974369192285532, 1.2463622154337461, 0.9547987671980609, 0.944746591719107, 11.631240255415994, 14.757540645614633, 13.019718111195996, 1.0330756292242118, 15.336644391572161, 52.50551820433951, 1.2946684573863776, 1.0923593641181284, 0.9718407293314333, 1.0023305630776391, 1.017571118535612, 3.104522573079979, 13.782633618046239, 2.955035765008199, 1.0200294951600324, 1.0304345097434804, 1.0251396543236477, 1.2023826266183077, 1.0200512893218263, 1.0167623527123926, 1.0041843211147523, 66.09126402517396, 0.8984005955845822, 1.7769165429480254, 4.966398995726296, 1.0079883629840705, 11.9154022626772, 0.9985199486437983, 1.1148551601625554, 1.0048060423781495, 0.97406857676956, 20.92966077098458, 0.9978386694958099, 0.9727991010867355, 0.9618203711994113, 10.478088087782602, 0.996744533779864, 1.0804151718999953, 1.0371017034125347, 1.6482841511037274, 1.019040008030095, 11.70566811852862, 0.9953366520152738, 1.0276539290409443, 1.0000252152804276, 0.9943723934254066, 1.0112345991866794, 1.0127534330681545, 55.195147606450575, 1.0167977257149026, 6.2416069227951585, 4.06526437472026, 32.13488000632447, 0.9643466694750328, 0.9829112631560447, 0.9964983923950267, 1.0103185761571456, 66.87864589838725, 13.859057127852795, 1.0114994618956288, 1.0117289032419474, 4.55093382815177, 0.9197137488512441, 1.0126034296339972, 1.0085186305456728, 0.9089237616613836, 0.9999534568194194, 23.819104882674846, 0.9983251725624555, 1.0253387328186865, 10.984792128544939, 0.9793871578340109, 13.951036591866576, 1.0104065775573954, 1.043097514759791, 39.255577625873414, 2.795597347678038, 1.0039772465501353, 2.8559221351154465, 18.018561918318756, 58.73221356569212, 0.9799095850289378, 1.0160836471743984, 1.002596354606299, 1.0140058162631875, 6.567557938315581, 1.0078320867531816, 0.99480421088809, 0.9913117215213726, 0.9975204766050639, 0.9438899149098953, 0.9924782004684497, 9.597386474901306, 1.0076337050839683, 0.9116833730032503, 1.3383205248437453, 1.0028443180305375, 0.9482800614406706, 0.9992422486264341, 0.9701590634755828, 0.9994939833369576, 1.0019617712817672, 1.0029243680193918, 1.0004635515189715, 64.48496115660875, 3.0540160959273814, 1.0588792852949396, 1.0603194549635377, 1.009449477198289, 0.9897912733267286, 3.3771075799475194, 48.69274651017212, 1.0068165503415767, 1.0551871543558742, 0.9926216341030786, 1.0003995406859414, 0.9609723347005226, 1.0060880554381915, 2.5792221257127164, 1.0382665262683883, 0.9168956121368316, 5.334426916565689, 1.0094512979610233, 1.0215534854656865, 1.3462162419375001, 13.232976700729902, 34.4562895853832, 1.009328416241111, 1.78620589024031, 1.0098888250911724, 1.0033546326045857, 5.911648949701857, 4.025172403646158, 0.9622275316180522, 1.013590421021622, 1.084913975815855, 0.9454882655120447, 4.551475337089541, 0.9724287113655828, 13.989980730222367, 1.0189689906644408, 0.9970471799526756, 1.0705121611433226, 1.000707750064685, 1.005693870053872, 1.014176428881312, 1.0962228300604882, 0.8960775578670218, 1.0073320108865522, 1.0335233447269758, 1.4077977435962037, 3.7149605716113867, 2.2201995035097233, 1.0095985808162697, 0.9907073416084625, 1.1063310583118904, 1.0057491433516834, 0.9822917507458933, 0.9962552160100601, 1.028521508083946, 3.493437588678168, 17.493411197901715, 0.9953095164366671, 4.370760851201812, 1.0046120528494291, 0.9838295261967385, 7.617997738436763, 1.0001082449251053, 1.061072930006928, 1.2387335908219808, 8.157878857458037, 0.9951503764977759, 1.143169206488408, 1.0373168759556979, 17.27605072867237, 1.0328216583684808, 0.9989383985717264, 1.012317776307455, 1.008572821355721, 14.62831778023704, 1.0072931291046026, 3.256596824898132, 1.017041113391865, 11.209804302323427, 0.9767524466742774, 1.0114259787851028, 0.9494707483506484, 1.000014576129695, 0.9942414870333417, 1.7071899763971803, 1.0032846551880283, 1.0156955370601022, 1.6417985937729027, 6.303222920062829, 2.928811605484057, 1.013373836647446, 0.9995301843690556, 1.0044788821014135, 1.03754631778791, 1.001936662141574, 3.2520832638465986, 0.9864460034350957, 1.006489627350278, 1.249118742949722, 0.9651370784494223, 0.9184367890616109, 1.0155751922129792, 5.7441079266988995, 0.9964797654635156, 0.9818706086036977, 2.1517136145371625, 1.1514880897274413, 0.955938570602133, 2.800234955422449, 0.9699271306159253, 0.9618470106008133, 26.983083178539673, 1.0016808327638977, 0.9984363148710753, 1.741195286611189, 0.16200187783573688, 1.1754640206622073, 2.9588420594293585, 39.372068261615794, 89.2651256172533, 31.40717815786734, 11.834596730581481, 3.3312745203112493, 1.0439839313412862, 1.0064448452164139, 15.628815298776173, 1.0002030884330904, 1.1106233356587596, 17.148923190077436, 1.022569787491559, 0.9612321608110431, 11.559086091462044, 1.0237826232972658, 2.8670520727853375, 1.0097222822353527, 2.6607230644503295, 1.0653617088672096, 1.0480339354555666, 1.0077931425221842, 1.0564465594992918, 1.015834682437228, 1.0302416601838853, 18.047974758388, 1.0033246301372425, 1.0159710154163382, 0.9986622318993746, 1.0023806021653476, 0.9953832929930627, 9.213726978877162, 0.9600919029442617, 0.967931408961545, 0.9958247976430474, 0.9899031792079731, 4.92783507989212, 1.0229839248036292, 1.0097716056004837, 1.003760527134104, 2.3540127711036645, 1.4046218826237566, 64.51738588282048, 37.376852600641975, 0.996055275138507, 1.0081564879998668, 1.6843279018604493, 12.596898452060884, 13.311459411717061, 0.9382237531709909, 17.24969750653135, 0.9837759424737916, 1.0063949375929195, 0.9956199856797889, 3.5396936603261557, 1.008068925284954, 1.0249774598465908, 2.54174727240707, 1.1923235578356952, 1.0180449792565756, 1.0544282497877986, 1.1084392511413739, 0.4623190179724873, 35.448388890460144, 73.11880502202867, 1.0244349022048602, 10.71320242141651, 1.0386340792628774, 0.9386629241522773]\n"
     ]
    }
   ],
   "source": [
    "print('You have:', round((len(nona_X_train)/len(X_train_testing))*100,3),\"% of your data\")\n",
    "print('Nona:', np.median(nona_mse))\n",
    "print('Fill:', np.median(fill_mse))\n",
    "print(nona_mse)"
   ]
  },
  {
   "cell_type": "code",
   "execution_count": 114,
   "metadata": {},
   "outputs": [
    {
     "name": "stdout",
     "output_type": "stream",
     "text": [
      "You have: 16.715 % of your data\n",
      "Nona: 1.0147253118142427\n",
      "Fill: 1.1494705198754365\n",
      "[1.1514877180312508, 0.9777755125150416, 22.110328938495762, 8.795010678183294, 1.9336221949850294, 7.777255116987351, 12.5967167126659, 10.720197225948985, 1.788954567698377, 0.9592063316066775, 0.964224441626847, 0.959165379499256, 0.9847300485642878, 56.967840229008885, 2.622708115193513, 57.104685561316764, 0.9849785296696245, 0.9954307834740056, 1.0048810182108936, 1.0142985034566827, 1.0090579222587759, 4.4649876245684466, 1.0002299008534374, 0.9850312794659031, 1.0105471033948001, 1.0010973605528393, 1.0024387788616607, 0.9957590232415883, 3.131937555020995, 1.8188085490057009, 12.337228072643379, 3.1982340729212724, 3.6531584028636805, 1.0013354113584136, 2.0760680770168314, 0.998533836810119, 6.500176663981946, 9.796498213946833, 1.0364830874448454, 61.7083989183134, 0.9805425752863047, 0.9940344354052046, 9.96295250447026, 1.0347589180028913, 1.0116691474600592, 1.0037519429869444, 1.0218164720634257, 0.9678558915681317, 13.790867501663163, 1.9342510250742884, 0.9995088712298179, 6.101510510738818, 0.985572291554298, 0.9111600304924045, 1.0167825908909658, 0.9276021917824614, 5.27882750014204, 4.878877771865235, 1.004667247787398, 0.999760614837425, 0.9493913260936084, 16.123156229648163, 1.2858333181990014, 15.107327077592755, 0.9994153723525492, 1.0096231526289086, 8.674182967370072, 1.001737586138187, 0.988819122126028, 18.652966854123708, 1.0100678459894628, 1.0051016955977392, 1.3156731880023507, 0.9984743585953313, 0.9313728353838397, 1.1555449246624048, 1.1193058973312757, 1.0369809278572701, 11.113258350282571, 0.9511581743342576, 1.0467821765973373, 68.54389649721139, 0.9996981966175418, 11.587370040417417, 1.1255646692510906, 1.005693414526182, 0.9334956784668507, 1.0782239538447416, 8.234009806912118, 7.462879139128795, 1.0334243084195558, 18.007345159036706, 74.70713248642147, 4.5039849325005, 20.483015127615577, 0.9922710113522096, 6.2183770406687, 16.37400081454859, 1.0074019202431266, 1.0162379497319878, 1.0008522939483078, 0.9613689041909133, 5.472863297277226, 9.37315564201245, 1.887253036250627, 1.0185744642322332, 1.0212305941431117, 0.9941555946778303, 7.489089908745725, 1.017869604525501, 1.0258661762217651, 0.9903384253501147, 11.29794918474261, 0.9536628708337885, 13.934169277369184, 1.0010980838550858, 1.3692294473329565, 5.106859102297902, 0.9987760209581298, 12.938485211634722, 61.17105513435301, 1.002414963236338, 1.0122828534205697, 0.994606550141676, 3.194177608624996, 0.8957131994908322, 1.0071311502737692, 2.1541994638973474, 2.247383877572907, 0.9967748555704431, 1.0056260470749558, 0.9732347921709994, 1.009851765307187, 1.0068979325722454, 0.918850153068623, 1.0226560215430707, 0.9297362776564105, 0.8841460141837236, 1.2349569546396495, 3.87099316573372, 3.02297846114903, 2.09849635052398, 33.57348609598014, 1.0081318509827464, 5.800153173741193, 0.9976075683464853, 1.008857488713521, 13.386638296210608, 0.9109007284301007, 0.99798300541093, 4.252223262009632, 5.7247913751801995, 7.711645786975315, 1.0308700348814777, 1.017917033889758, 85.06291510564618, 1.088856483623834, 7.6356586949958665, 55.46578074007879, 0.9425158895587404, 1.409745811319956, 1.002823996407254, 1.027610434869614, 0.9882807934355622, 0.9976718751090408, 13.447003853432626, 1.003466382765021, 7.259395213108316, 1.0381981026287954, 1.008114379437562, 1.2158794108446878, 1.0096748934556208, 0.9891804646718187, 0.9782228134876285, 2.7087379121017756, 4.607493526753284, 0.9317382617095923, 0.9691302238614451, 1.0093055269886422, 1.0023608201840755, 56.35583561909739, 1.004810337510069, 1.0038378083166022, 9.431518967313094, 1.0284972139016764, 0.9627141396823115, 1.0111897018802416, 0.9993622726514488, 1.0597937371353263, 1.2512635867995825, 0.9604818238267503, 1.0057463642404065, 4.549043151762197, 52.854067052043156, 3.983474584100609, 1.0037732811510822, 1.0039860991799785, 1.0009008872281082, 6.812579414876691, 74.05572382185868, 5.8466802876784705, 1.0031327593735286, 1.5162819880373812, 1.0921241608432175, 0.9228852810449798, 6.400862019672818, 3.0052203994265563, 0.9980318152654833, 0.9944814968814347, 4.145923366442908, 1.20961506450447, 0.9949576788429425, 0.9249650398882999, 0.9105324252623729, 0.9450873327116424, 1.3400069360938813, 1.0006473169623673, 0.9869063042490288, 0.9938599032561416, 0.9918694382011145, 20.17552915000689, 0.8897940060048978, 1.3913183180352433, 1.0044351247205234, 1.2629344305029946, 0.9246946214222869, 1.0014218977361729, 1.0008197576830729, 1.1269633494239593, 0.9273521594381077, 9.935757797885989, 0.9993156482932272, 1.1509990065668716, 1.033974211687172, 1.6888529618822723, 0.9974643719970673, 1.000149454105382, 0.950200715481684, 1.3381266690535258, 0.9755019999354401, 1.0526151464070443, 0.9582776299847137, 13.621085670272056, 14.481297511984353, 1.002162977082173, 1.0301777798952647, 0.9619353129794141, 0.9712820180425439, 0.9995350672281266, 1.676496425099457, 1.0372667717548263, 36.22269402721061, 1.4966362207406627, 1.0033131362628265, 1.0477072072185312, 1.2823334784984426, 1.0025651827144788, 3.3009152680721976, 1.0065508610452085, 1.001910262932448, 0.9959955327384807, 84.71734646434228, 1.019606801872286, 0.9762592727828417, 0.9902350408830355, 14.972434611443639, 1.3622867609994114, 1.0000401513083301, 0.9822934772182447, 1.010764519440763, 1.069843240746888, 0.9977787752712721, 1.0224457345335687, 0.9980650536990999, 1.001949702014227, 0.91809769652566, 1.001453738682932, 17.090968586366266, 57.65124456294769, 0.993791326550293, 2.2487337925198827, 0.9979434117337933, 7.258333769610229, 1.0624780246744339, 2.135200391372688, 1.667875840253527, 1.0196945383386884, 0.9939391323400635, 9.559894691118297, 1.002798949789497, 3.908902988238584, 1.5366236662009254, 3.215442268082363, 1.0073132301513033, 1.0845941999711473, 1.0025126864402423, 1.0267106585570926, 1.0359659513238602, 0.9783620855014201, 9.8730870684342, 0.9965786536424076, 8.786458359463346, 1.0009073580087868, 77.39466601003252, 0.9619445453517004, 0.9468413033505797, 0.9672753417103401, 1.0086787163292288, 1.481245401509992, 0.9849385418156541, 2.2748756061809274, 1.1092479443227792, 1.0079903070681073, 1.0063921220067158, 1.7508188576003831, 0.9932913782804406, 1.0589985204879047, 0.982016364621836, 37.942487883938355, 2.594954473820547, 59.61226468356118, 0.988608249507796, 1.0095405398764614, 9.895863086640887, 1.4055337998693642, 0.9490609294728881, 2.5039927199238265, 0.9703910845058863, 0.9615288388228719, 0.9237113466550293, 1.0030787380430515, 0.9170937901975333, 1.0073132082898042, 1.0143155143405924, 1.0107953662793119, 0.9453624304730582, 12.743240287793112, 2.78439660876115, 16.998234728752756, 1.0060888516777136, 4.646923126672929, 1.0431696501604277, 0.9993720291803222, 1.1495027929168022, 1.141959119161103, 5.0757994942500195, 0.9916177432825798, 1.0668136730671476, 1.0012906290460264, 1.0017483855902627, 0.9563808565905271, 0.9883499614024721, 0.9977141328349116, 0.9959846910741539, 0.9946204238567854, 1.2468568792465295, 0.9918051467680619, 2.3281474910862503, 11.763377937292807, 0.9959301910616274, 11.497849235692387, 2.6763065875669763, 9.075006959069093, 0.9995339775411017, 0.9717790792971449, 0.9900656740218372, 1.2733089463732543, 0.9838649343908848, 0.9102820424771256, 6.998949059070269, 0.9775106044178774, 0.9723082668224747, 0.9991770126463599, 1.0018663141445312, 1.011316106540469, 0.9622556056155642, 2.0516033220105965, 1.01869397608668, 1.816006664794882, 1.9973281992620189, 11.09584151065527, 1.1001833811006203, 0.99826880102188, 2.0155316391410016, 0.9257206568192181, 1.0012559469748632, 7.388049490701544, 1.0098413489282132, 36.152255594845215, 1.57035706837257, 16.889016479287285, 11.748390702158941, 0.9843257194429271, 0.8864067195535985, 1.0132587021256951, 0.9602674716344358, 3.1029125954561247, 1.0817988771567586, 17.25445546485406, 1.024001538001097, 1.0678164818684894, 1.1113030866269624, 0.984403157780488, 8.589979259318241, 57.661430667211846, 1.034883694565746, 0.9966772904389593, 0.9996155182831695, 0.9741502498831303, 1.0042567350780816, 1.0068225912120827, 40.13739054898168, 1.0007571847743073, 11.956044652466279, 8.899066578490483, 1.0026082680004784, 1.0657275372752828, 1.2126506818260414, 1.0868606166791923, 0.9998684187936602, 24.231506309431648, 12.022956086342989, 1.0784061862703092, 2.5347498594816296, 2.5599694187953204, 2.933832510473735, 1.0046257274047263, 1.0131935450039204, 0.9989683155361863, 0.9964867095276815, 9.491605206215214, 25.47189484719433, 6.963145652355396, 1.0169000441888714, 0.9816700379018349, 0.9980027050877246, 1.0025164000855395, 0.961342593623685, 0.9785152034411594, 42.22591993224414, 1.0069986700734002, 26.10277539951183, 3.6820252579600607, 1.0280866098026824, 0.916665723531182, 10.247166390278563, 0.9982241704927562, 1.0216021821235477, 1.0030298741561001, 61.09133024507394, 0.999610843344953, 6.654582839174217, 1.0141618163998902, 1.2407583262037296, 1.7693563554068168, 1.0036411951440165, 44.70925756898613, 9.345604949750943, 1.4552710747439113, 18.890081089082905, 1.0021163520630076, 1.003507142497172, 7.533090498592202, 1.0000715146153787, 18.096063797843666, 1.0062811559555065, 0.9476344619201335, 1.0148173815106347, 1.0045098387853795, 0.9628786461393369, 1.014446902119504, 1.0177856992803993, 1.0061665371618576, 1.0006092000678612, 13.724466550352966, 1.3221079543488428, 2.9741960370974008, 0.24759925645545441, 0.9895442647695256, 0.9864940341439568, 49.766241789143784, 1.0694930276247778, 1.0101544022511413, 15.337217149856047, 1.0057206525028992, 1.0113625508972115, 1.161251724193292, 6.2601055293414225, 4.841377879180265, 3.748039869041827, 1.0089226383032044, 1.5662428473415118, 0.9947907366834244, 45.99704422568304, 26.26534196466411, 0.9897403504862389, 0.9592079441586614, 0.9496657890601979, 0.9492643157200695, 17.782576523766085, 1.2679701065359188, 3.9281863970616175, 1.0147694438007377, 1.1762011605826699, 2.384754184571032, 0.9944506821105963, 10.206655748727796, 1.7720747357010083, 0.998229659120326, 9.729735742957796, 1.313626418755319, 0.996037111033406, 1.0564543895961789, 1.040974958154024, 0.9195270080623291, 1.9534243161271696, 3.473554687596585, 20.33843161107507, 16.333023592862677, 29.023306641915333, 6.205803900201172, 2.977906504764626, 0.986713370526271, 17.40696282047408, 1.326851177026783, 0.9965864261720213, 8.762517024867549, 19.222394916243232, 2.0918215067120847, 0.896093048739405, 6.376046043298707, 5.66457455799964, 0.9984262357767492, 1.134845732585441, 1.0070670676751308, 0.9935969857114324, 1.0062501917593771, 55.689642720426555, 0.9764615776447415, 0.9304072880545184, 56.87622373911002, 0.995665745113181, 0.9732603837870438, 0.9346312767571785, 15.818091638645656, 1.012820001282544, 48.929394667045656, 12.969018334994546, 1.0364380725352926, 1.490628331989815, 22.953448554011135, 1.013271443955614, 0.902625809237724, 1.006883357671511, 1.0027201840296658, 1.1644596892716468, 0.9913909567550258, 5.435593301462915, 1.0074701184780666, 1.0107968733890487, 0.9862781297040881, 2.9277394397891014, 1.002692954667507, 5.039225902621617, 1.0160865112823194, 4.488409188159578, 1.0010313921933955, 0.9422774642988828, 1.0022029532672672, 0.9989571330842457, 1.0771729018363505, 1.0244629704897459, 0.974991231095639, 0.9979214090277674, 3.8094542155078024, 0.9993714648536522, 0.9878010040539905, 15.179453221991249, 1.0146651185322113, 1.0009530369684316, 3.2443213795011308, 0.9099489308721425, 1.010115401391571, 1.5348465345365094, 1.0044323826044472, 0.9956076432885727, 0.9969991168628375, 0.9295842784749143, 0.9595245250609901, 9.654538977855827, 1.0148669219318753, 4.1254826027803535, 6.582922741286526, 1.005642584442014, 1.002211446485024, 1.0063062107625922, 0.9986212925857153, 2.217460243087981, 0.9763271288633789, 0.9834902111586663, 0.9065192295940977, 1.0141044596415765, 0.9972997206565795, 11.817330036376093, 1.0152370827318948, 0.9789478478564234, 1.0834954181332885, 0.9495441551804575, 1.0017953108810218, 0.9635697099895513, 1.1776406138026092, 62.10451098332907, 1.0231176285289705, 1.008383577579812, 9.807010989661348, 13.864785845707083, 0.9848218420353233, 3.313630240579342, 1.000847196304179, 40.854269703017536, 0.9776475639726072, 1.015975755949045, 1.0129706287702198, 12.719816459664377, 0.9685339627527181, 0.9999880546258096, 0.9632428891244198, 1.5534160230568712, 0.9981864785220306, 7.792494288191132, 1.005079729048394, 121.36068678212702, 0.9405316100977655, 8.975866295047066, 1.0081326896644562, 1.0025207714776894, 2.245397023245321, 1.001207279099616, 1.012564463406114, 0.9926489912261228, 1.0600455734655203, 1.0019570122514139, 1.0096753400937384, 1.764275818415791, 0.996520232699466, 0.9604459572503672, 0.9891595546173383, 1.0019055310787084, 1.0405348134072334, 0.9376953240392769, 0.9981071285342955, 0.9240803864335143, 0.9741918909443532, 1.0561632645230343, 1.1159058611189268, 0.9591131307637806, 0.9520606424607798, 1.0013184544386668, 0.9993951617042194, 1.0238905438191166, 1.1706663721044426, 89.25518723433949, 1.0065874409031759, 1.0155370111585158, 1.003476569187425, 0.9981985729804677, 1.019395863241803, 1.005325977601696, 59.752124258580515, 1.104211630269777, 51.117900478708954, 60.455067156068054, 47.64812583236144, 4.7002284953682985, 8.521347628898644, 0.9952957483769648, 2.019090198823353, 11.622106416156809, 1.0275853581210153, 1.0235968574348673, 1.0131617513301845, 0.8821287863030437, 1.014023101280763, 0.9885484260496583, 0.9299846999552509, 2.494045505672681, 0.9852056048615536, 4.28950414086168, 1.764324679270266, 0.9879593204592011, 1.472620288897472, 1.0774285771827303, 7.86705327044766, 1.0133921616089503, 1.0221695454889494, 11.769790550658817, 1.0111335749773276, 0.973083557676145, 1.0169108017311375, 15.68907847376321, 5.093751004951282, 8.388510820230579, 16.287605752575505, 1.0027874943680657, 3.9000338628902735, 1.0036187506110872, 1.0091887313747196, 1.0002636884630034, 1.000070407055522, 1.0303029016186418, 2.2697272150982655, 8.84601116502832, 0.9301163943436936, 17.110592964989067, 0.9984373632778105, 1.0063835159985755, 1.0068814785743738, 0.9990919113653325, 3.158299996426379, 1.0193648208400754, 4.417802118387439, 3.12801627855022, 0.9967866960759927, 2.5266339710953387, 1.0564056429933903, 1.8269218229496476, 5.4038931885613115, 0.9992384662177966, 1.0098125548687196, 42.7209572490201, 1.0020972576685598, 1.0194480144630342, 0.9833959488528874, 0.9924463142837772, 1.0087518535911157, 1.0024598222365892, 6.8740804801805195, 1.0041041410814548, 11.823915212778827, 4.8789586630608115, 1.0083899770141884, 0.9274465423820483, 1.193768544800121, 1.0046920819400933, 1.0118007495846415, 1.0049375677994463, 1.011997979752827, 0.9842353837815573, 1.0469508972771617, 1.004117280868572, 4.033165335022456, 0.9984760474320267, 0.9788113526233548, 1.0250325309666146, 8.915392016640965, 43.791613080666934, 1.0049594857849402, 1.0534333166615897, 0.9752443492517426, 4.872232984488282, 0.9376962516007445, 0.9963483451702466, 2.6087276582354484, 0.9994918750541847, 1.0107915194829618, 0.9899128058730736, 0.9601079241154356, 1.0309377780146607, 5.112829843864849, 1.0003513596328204, 0.9955497806699293, 0.9768110516601698, 1.0493579178747106, 1.0105167157776656, 1.0109261343090261, 1.0166551862183957, 20.351530622856387, 1.1993116139412339, 1.614910189317916, 0.9629465476710638, 0.9116926852997611, 59.752415313097245, 0.9846348809609369, 1.0105292863216793, 0.99919072511198, 1.0169337333939197, 10.071128188523844, 0.9753591553811706, 1.0062898651188954, 0.9948817624721916, 1.007823118560096, 1.001626486916782, 34.52701703229383, 0.9028588048360885, 2.661896242444711, 0.9949623011317575, 1.007845899770714, 0.9451934660781728, 0.9780835991206962, 1.0034442712210927, 0.9654701164520482, 1.030739879820399, 1.0037573652271972, 0.9926384769277381, 14.0104660074942, 0.9905931284519593, 1.002782393681403, 1.002919382275608, 3.882739686696391, 33.006090303531295, 3.152315443679721, 1.002590906595098, 8.164435492295212, 0.9628977286671898, 1.0027235547881952, 1.1283445946127928, 1.1945792194543676, 4.027852225897316, 1.5603871335206765, 1.0110377980229943, 0.9959805061519272, 0.990022533629126, 23.01612048347127, 18.29156408890174, 0.959215859406941, 1.044816183622483, 0.9704055032279892, 2.795019289970896, 1.0158830454354661, 2.147075449437219, 1.0014645581113255, 3.77233780569624, 1.0348232363570398, 53.10685754205703, 1.0361905814569117, 0.9700259443391528, 1.0007916163519155, 1.0035000051374414, 1.0382163164756086, 1.0030840267814785, 1.0367390106631413, 0.9968877838609044, 1.333142094066334, 0.9997282488716835, 14.661829287085283, 31.71957608286825, 1.018830488737492, 21.27395077046392, 0.9449199339828107, 0.9794434702882383, 78.0769680299977, 12.46378152353733, 1.0327323730668354, 7.47799843843579, 2.6376155548764104, 1.011346410857523, 0.9106599525834284, 1.7434645537688822, 40.497522985872045, 0.9695995958777602, 0.9789200499098076, 1.0012446931658003, 0.9933266613218815, 1.519561721715549, 0.9729189478865211, 1.0005045305737081, 0.9937288410981383, 1.0108672375215053, 1.0314151061715373, 0.93387388026795, 1.0481513437985241, 1.008522362463544, 1.002910695454529, 4.0101241547885085, 3.5078150557861743, 0.9827812504192855, 0.9532031714221462, 1.0176986908967134, 0.9906673524916407, 1.041319198884735, 1.0248900576562872, 1.1197897110483792, 11.995587685634737, 0.9880112625256242, 47.19964721002111, 1.000053994689725, 1.9260852672079296, 1.0066578714893413, 0.9945644350837887, 15.8246257777112, 1.0017140251781158, 49.59122899380982, 1.003886685485555, 0.9630651343162975, 0.9965372507690492, 1.420076935391164, 9.700341361532375, 1.0773807204615258, 3.4702843907945833, 1.0599180483604986, 1.1352567196292467, 1.0085735237349684, 1.0027100078286, 0.9999196706819717, 1.0488454710411126, 1.019615835035138, 1.0146811798277477, 0.9421317914504699, 0.8973599604868326, 1.357158425616604, 1.2455456050068419, 62.425724082469515, 1.041647854839689, 0.8993931934981757, 1.685082732261392, 0.9574211631601364, 54.160158214990126, 4.419904628506571, 3.312648276651395, 17.276257123896762, 0.9903936948668342, 33.33098845429103, 1.0006664283628433, 1.0031724371087722, 8.49101667573466, 1.0453913114837365, 1.067998039665988, 43.8349932269147, 1.0215429311825817, 1.0127416695014548, 1.0516482901492896, 0.9971901833872551, 33.26624954697041, 1.0034974390325357, 1.8503861940468098, 1.056037938001685, 0.8798326766212075, 1.4150250090645469, 12.73836540770626, 67.3888711124117, 0.9834396224727586, 0.9922206635944519, 23.692043864115398, 1.0046652695850948, 1.008254167429617, 1.0308580586561937, 0.9956453783620728, 0.926772814218973, 0.9393676886278945, 1.046935754695463, 24.73568734795188, 1.0021905325262515, 0.9557439433255224, 0.9196062243341097, 0.952162612349978, 4.853352793094839, 1.0172575818627283, 1.0004504875552458, 0.9237708662069622, 40.66297867375231, 1.0138202117114992, 1.003110705884999, 0.9973408183616482, 0.9555040428006701, 0.9460716149851313, 1.0071383541165602, 0.9839966386523169, 15.02479851568548, 1.0026198697901285, 0.9703962405219567, 1.0419214349597712, 0.9819768204808768, 1.0824898587500826, 1.0024498992676034, 1.038458831821206, 0.9969487374805952, 5.890115949074442, 1.0287476991607123, 1.3258242940711056, 0.9721273660085448, 0.9362550481175492, 0.9949257407854853, 1.0695374865485945, 0.4401387899242522, 5.925922637610117, 0.958680581495422, 0.9894189830466711, 5.550612508041989, 0.9278161197766981, 1.1005224297009468, 1.0002348478859027, 1.2879784672542085, 46.25627381977694, 1.031537020067039, 0.994075057211031, 0.9133363355867845, 12.187019789756826, 12.07442607586346, 15.86024108656771, 0.9830669744201329]\n"
     ]
    }
   ],
   "source": [
    "print('You have:', round((len(nona_X_train)/len(X_train_testing))*100,3),\"% of your data\")\n",
    "print('Nona:', np.median(nona_mse))\n",
    "print('Fill:', np.median(fill_mse))\n",
    "print(nona_mse)"
   ]
  }
 ],
 "metadata": {
  "kernelspec": {
   "display_name": "Python 3",
   "language": "python",
   "name": "python3"
  },
  "language_info": {
   "codemirror_mode": {
    "name": "ipython",
    "version": 3
   },
   "file_extension": ".py",
   "mimetype": "text/x-python",
   "name": "python",
   "nbconvert_exporter": "python",
   "pygments_lexer": "ipython3",
   "version": "3.11.5"
  }
 },
 "nbformat": 4,
 "nbformat_minor": 2
}
